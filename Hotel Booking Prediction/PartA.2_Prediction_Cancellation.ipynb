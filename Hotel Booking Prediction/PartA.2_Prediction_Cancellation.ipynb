{
 "cells": [
  {
   "cell_type": "code",
   "execution_count": 1,
   "id": "07f91293",
   "metadata": {},
   "outputs": [],
   "source": [
    "import numpy as np \n",
    "import pandas as pd \n",
    "import seaborn as sns\n",
    "import matplotlib.pyplot as plt\n",
    "import warnings\n",
    "warnings.filterwarnings(\"ignore\")"
   ]
  },
  {
   "cell_type": "code",
   "execution_count": 2,
   "id": "a9640a42",
   "metadata": {},
   "outputs": [],
   "source": [
    "df = pd.read_csv('hotel_bookings.csv')"
   ]
  },
  {
   "cell_type": "code",
   "execution_count": 3,
   "id": "d59e1208",
   "metadata": {},
   "outputs": [
    {
     "data": {
      "text/plain": [
       "hotel                              object\n",
       "is_canceled                         int64\n",
       "lead_time                           int64\n",
       "arrival_date_year                   int64\n",
       "arrival_date_month                 object\n",
       "arrival_date_week_number            int64\n",
       "arrival_date_day_of_month           int64\n",
       "stays_in_weekend_nights             int64\n",
       "stays_in_week_nights                int64\n",
       "adults                              int64\n",
       "children                          float64\n",
       "babies                              int64\n",
       "meal                               object\n",
       "country                            object\n",
       "market_segment                     object\n",
       "distribution_channel               object\n",
       "is_repeated_guest                   int64\n",
       "previous_cancellations              int64\n",
       "previous_bookings_not_canceled      int64\n",
       "reserved_room_type                 object\n",
       "assigned_room_type                 object\n",
       "booking_changes                     int64\n",
       "deposit_type                       object\n",
       "agent                             float64\n",
       "company                           float64\n",
       "days_in_waiting_list                int64\n",
       "customer_type                      object\n",
       "adr                               float64\n",
       "required_car_parking_spaces         int64\n",
       "total_of_special_requests           int64\n",
       "reservation_status                 object\n",
       "reservation_status_date            object\n",
       "dtype: object"
      ]
     },
     "execution_count": 3,
     "metadata": {},
     "output_type": "execute_result"
    }
   ],
   "source": [
    "df.dtypes"
   ]
  },
  {
   "cell_type": "code",
   "execution_count": 4,
   "id": "d9e4c4cf",
   "metadata": {},
   "outputs": [],
   "source": [
    "df['arrival_date_year'] = df['arrival_date_year'].astype('object')\n",
    "\n",
    "df['arrival_date_month'] = df['arrival_date_month'].astype('object')\n",
    "\n",
    "df['arrival_date_week_number'] = df['arrival_date_week_number'].astype('object')\n",
    "\n",
    "df['arrival_date_day_of_month'] = df['arrival_date_day_of_month'].astype('object')\n",
    "\n",
    "df['agent'] = df['agent'].astype('object')\n",
    "\n",
    "df['company'] = df['company'].astype('object')"
   ]
  },
  {
   "cell_type": "code",
   "execution_count": 5,
   "id": "c6d35ce4",
   "metadata": {},
   "outputs": [
    {
     "data": {
      "text/plain": [
       "hotel                                  0\n",
       "is_canceled                            0\n",
       "lead_time                              0\n",
       "arrival_date_year                      0\n",
       "arrival_date_month                     0\n",
       "arrival_date_week_number               0\n",
       "arrival_date_day_of_month              0\n",
       "stays_in_weekend_nights                0\n",
       "stays_in_week_nights                   0\n",
       "adults                                 0\n",
       "children                               4\n",
       "babies                                 0\n",
       "meal                                   0\n",
       "country                              488\n",
       "market_segment                         0\n",
       "distribution_channel                   0\n",
       "is_repeated_guest                      0\n",
       "previous_cancellations                 0\n",
       "previous_bookings_not_canceled         0\n",
       "reserved_room_type                     0\n",
       "assigned_room_type                     0\n",
       "booking_changes                        0\n",
       "deposit_type                           0\n",
       "agent                              16340\n",
       "company                           112593\n",
       "days_in_waiting_list                   0\n",
       "customer_type                          0\n",
       "adr                                    0\n",
       "required_car_parking_spaces            0\n",
       "total_of_special_requests              0\n",
       "reservation_status                     0\n",
       "reservation_status_date                0\n",
       "dtype: int64"
      ]
     },
     "execution_count": 5,
     "metadata": {},
     "output_type": "execute_result"
    }
   ],
   "source": [
    "df.isnull().sum()"
   ]
  },
  {
   "cell_type": "code",
   "execution_count": 6,
   "id": "f9c987e8",
   "metadata": {},
   "outputs": [],
   "source": [
    "df['children'].fillna(0,inplace=True)#reduce null value"
   ]
  },
  {
   "cell_type": "code",
   "execution_count": 7,
   "id": "97228301",
   "metadata": {},
   "outputs": [],
   "source": [
    "working_data = df.copy()"
   ]
  },
  {
   "cell_type": "code",
   "execution_count": 8,
   "id": "88bea7ee",
   "metadata": {},
   "outputs": [
    {
     "data": {
      "text/plain": [
       "(119390, 32)"
      ]
     },
     "execution_count": 8,
     "metadata": {},
     "output_type": "execute_result"
    }
   ],
   "source": [
    "working_data.shape"
   ]
  },
  {
   "cell_type": "code",
   "execution_count": 9,
   "id": "f70bb09b",
   "metadata": {},
   "outputs": [],
   "source": [
    "working_data = working_data[working_data['adr'] > 0]#\"ADR\" is average daily rate which can't be less than 0.\n",
    "working_data = working_data[working_data['adr'] <= 252] "
   ]
  },
  {
   "cell_type": "code",
   "execution_count": 10,
   "id": "d5273cf2",
   "metadata": {},
   "outputs": [
    {
     "data": {
      "text/plain": [
       "(116262, 32)"
      ]
     },
     "execution_count": 10,
     "metadata": {},
     "output_type": "execute_result"
    }
   ],
   "source": [
    "working_data.shape"
   ]
  },
  {
   "cell_type": "code",
   "execution_count": 11,
   "id": "29461ef0",
   "metadata": {},
   "outputs": [
    {
     "data": {
      "image/png": "[encoded data removed]",
      "text/plain": [
       "<Figure size 432x288 with 1 Axes>"
      ]
     },
     "metadata": {
      "needs_background": "light"
     },
     "output_type": "display_data"
    }
   ],
   "source": [
    "sns.boxplot(working_data['adr']);"
   ]
  },
  {
   "cell_type": "code",
   "execution_count": 12,
   "id": "8954c4fd",
   "metadata": {},
   "outputs": [],
   "source": [
    "outliers_columns = ['lead_time','stays_in_weekend_nights','stays_in_week_nights','adr']"
   ]
  },
  {
   "cell_type": "code",
   "execution_count": 13,
   "id": "724a7e6c",
   "metadata": {},
   "outputs": [
    {
     "data": {
      "image/png": "[encoded data removed]",
      "text/plain": [
       "<Figure size 432x288 with 1 Axes>"
      ]
     },
     "metadata": {
      "needs_background": "light"
     },
     "output_type": "display_data"
    }
   ],
   "source": [
    "sns.boxplot(working_data['lead_time']);"
   ]
  },
  {
   "cell_type": "code",
   "execution_count": 14,
   "id": "acfb2773",
   "metadata": {},
   "outputs": [
    {
     "data": {
      "text/plain": [
       "629.0"
      ]
     },
     "execution_count": 14,
     "metadata": {},
     "output_type": "execute_result"
    }
   ],
   "source": [
    "working_data['lead_time'].quantile(0.9999)#0.999分位数"
   ]
  },
  {
   "cell_type": "markdown",
   "id": "32df6659",
   "metadata": {},
   "source": [
    "##445 is the largest value we'll consider for our analysis. \n",
    "##Lead time is the difference between the number of days at the time of online booking and checking-in."
   ]
  },
  {
   "cell_type": "markdown",
   "id": "01e20902",
   "metadata": {},
   "source": [
    "##From the boxplot and the quantile point considering the observations less than  and equal to 445"
   ]
  },
  {
   "cell_type": "code",
   "execution_count": 15,
   "id": "67e7159a",
   "metadata": {},
   "outputs": [],
   "source": [
    "working_data = working_data[working_data['lead_time'] <= 445]"
   ]
  },
  {
   "cell_type": "code",
   "execution_count": 16,
   "id": "3793b540",
   "metadata": {},
   "outputs": [
    {
     "data": {
      "image/png": "[encoded data removed]",
      "text/plain": [
       "<Figure size 432x288 with 1 Axes>"
      ]
     },
     "metadata": {
      "needs_background": "light"
     },
     "output_type": "display_data"
    }
   ],
   "source": [
    "sns.boxplot(working_data['lead_time']);"
   ]
  },
  {
   "cell_type": "markdown",
   "id": "a8c9ef15",
   "metadata": {},
   "source": []
  },
  {
   "cell_type": "code",
   "execution_count": 17,
   "id": "b5027145",
   "metadata": {},
   "outputs": [
    {
     "data": {
      "text/plain": [
       "4.0"
      ]
     },
     "execution_count": 17,
     "metadata": {},
     "output_type": "execute_result"
    }
   ],
   "source": [
    "working_data['stays_in_weekend_nights'].quantile(0.99)"
   ]
  },
  {
   "cell_type": "code",
   "execution_count": 18,
   "id": "5f73c7eb",
   "metadata": {},
   "outputs": [
    {
     "data": {
      "text/plain": [
       "<AxesSubplot:xlabel='stays_in_weekend_nights'>"
      ]
     },
     "execution_count": 18,
     "metadata": {},
     "output_type": "execute_result"
    },
    {
     "data": {
      "image/png": "[encoded data removed]",
      "text/plain": [
       "<Figure size 432x288 with 1 Axes>"
      ]
     },
     "metadata": {
      "needs_background": "light"
     },
     "output_type": "display_data"
    }
   ],
   "source": [
    "sns.boxplot(working_data['stays_in_weekend_nights'])"
   ]
  },
  {
   "cell_type": "code",
   "execution_count": 19,
   "id": "159a4633",
   "metadata": {},
   "outputs": [],
   "source": [
    "#From the boxplot and the quantile point considering the observations less than  and equal to 4\n",
    "working_data = working_data[working_data['stays_in_weekend_nights'] <= 4]"
   ]
  },
  {
   "cell_type": "code",
   "execution_count": 20,
   "id": "3ff8c03e",
   "metadata": {},
   "outputs": [
    {
     "data": {
      "text/plain": [
       "(114769, 32)"
      ]
     },
     "execution_count": 20,
     "metadata": {},
     "output_type": "execute_result"
    }
   ],
   "source": [
    "working_data.shape"
   ]
  },
  {
   "cell_type": "code",
   "execution_count": 21,
   "id": "5b9a0a50",
   "metadata": {},
   "outputs": [
    {
     "data": {
      "image/png": "[encoded data removed]",
      "text/plain": [
       "<Figure size 432x288 with 1 Axes>"
      ]
     },
     "metadata": {
      "needs_background": "light"
     },
     "output_type": "display_data"
    }
   ],
   "source": [
    "sns.boxplot(working_data['stays_in_weekend_nights']);"
   ]
  },
  {
   "cell_type": "code",
   "execution_count": 22,
   "id": "de01d813",
   "metadata": {},
   "outputs": [
    {
     "data": {
      "image/png": "[encoded data removed]",
      "text/plain": [
       "<Figure size 432x288 with 1 Axes>"
      ]
     },
     "metadata": {
      "needs_background": "light"
     },
     "output_type": "display_data"
    }
   ],
   "source": [
    "sns.boxplot(working_data['stays_in_week_nights']);"
   ]
  },
  {
   "cell_type": "code",
   "execution_count": 23,
   "id": "9a82a61e",
   "metadata": {},
   "outputs": [
    {
     "data": {
      "text/plain": [
       "5.0"
      ]
     },
     "execution_count": 23,
     "metadata": {},
     "output_type": "execute_result"
    }
   ],
   "source": [
    "working_data['stays_in_week_nights'].quantile(0.9)"
   ]
  },
  {
   "cell_type": "code",
   "execution_count": 24,
   "id": "84204242",
   "metadata": {},
   "outputs": [
    {
     "data": {
      "text/plain": [
       "(111828, 32)"
      ]
     },
     "execution_count": 24,
     "metadata": {},
     "output_type": "execute_result"
    }
   ],
   "source": [
    "working_data = working_data[working_data['stays_in_week_nights'] <= 6]\n",
    "working_data.shape"
   ]
  },
  {
   "cell_type": "code",
   "execution_count": 25,
   "id": "4dddfb2a",
   "metadata": {},
   "outputs": [
    {
     "data": {
      "text/plain": [
       "Index(['is_canceled', 'lead_time', 'stays_in_weekend_nights',\n",
       "       'stays_in_week_nights', 'adults', 'children', 'babies',\n",
       "       'is_repeated_guest', 'previous_cancellations',\n",
       "       'previous_bookings_not_canceled', 'booking_changes',\n",
       "       'days_in_waiting_list', 'adr', 'required_car_parking_spaces',\n",
       "       'total_of_special_requests'],\n",
       "      dtype='object')"
      ]
     },
     "execution_count": 25,
     "metadata": {},
     "output_type": "execute_result"
    }
   ],
   "source": [
    "df_num = working_data.select_dtypes(include = np.number)\n",
    "df_num.columns"
   ]
  },
  {
   "cell_type": "code",
   "execution_count": 26,
   "id": "f2a70e6f",
   "metadata": {},
   "outputs": [
    {
     "data": {
      "image/png": "[encoded data removed]",
      "text/plain": [
       "<Figure size 432x288 with 1 Axes>"
      ]
     },
     "metadata": {
      "needs_background": "light"
     },
     "output_type": "display_data"
    }
   ],
   "source": [
    "sns.boxplot(working_data['days_in_waiting_list']);"
   ]
  },
  {
   "cell_type": "code",
   "execution_count": 27,
   "id": "972a9ed6",
   "metadata": {},
   "outputs": [
    {
     "data": {
      "text/plain": [
       "77.0"
      ]
     },
     "execution_count": 27,
     "metadata": {},
     "output_type": "execute_result"
    }
   ],
   "source": [
    "working_data['days_in_waiting_list'].quantile(0.99)"
   ]
  },
  {
   "cell_type": "code",
   "execution_count": 28,
   "id": "5e16291d",
   "metadata": {},
   "outputs": [
    {
     "data": {
      "text/plain": [
       "(110766, 32)"
      ]
     },
     "execution_count": 28,
     "metadata": {},
     "output_type": "execute_result"
    }
   ],
   "source": [
    "working_data = working_data[working_data['days_in_waiting_list'] <= 77]\n",
    "working_data.shape"
   ]
  },
  {
   "cell_type": "markdown",
   "id": "87edd17c",
   "metadata": {},
   "source": [
    "#feather engineering"
   ]
  },
  {
   "cell_type": "code",
   "execution_count": 30,
   "id": "d0ddaa9d",
   "metadata": {},
   "outputs": [],
   "source": [
    "df2=working_data.copy()\n",
    "df2[\"seasons\"]=df2[\"arrival_date_month\"].map({\"March\":'Spring',\n",
    "                                            \"April\":'Spring',\n",
    "                                            \"May\":'Spring',\n",
    "                                            \"June\":'summer',\n",
    "                                            \"July\":'summer',\n",
    "                                            \"August\":'summer',\n",
    "                                            \"September\":'Autumn',\n",
    "                                            \"October\":'Autumn',\n",
    "                                            \"November\":'Autumn',\n",
    "                                            \"December\":'Winter',\n",
    "                                            \"January\":'Winter',\n",
    "                                            \"February\":'Winter'})"
   ]
  },
  {
   "cell_type": "code",
   "execution_count": 31,
   "id": "f86ae837",
   "metadata": {},
   "outputs": [],
   "source": [
    "df2 = df2.drop(['agent','company'], axis=1)\n",
    "df2 = df2.drop(['arrival_date_month', 'arrival_date_week_number', 'arrival_date_day_of_month'], axis=1)\n",
    "df2 = df2.drop('reservation_status_date', axis=1)"
   ]
  },
  {
   "cell_type": "code",
   "execution_count": 32,
   "id": "73ee7b86",
   "metadata": {},
   "outputs": [],
   "source": [
    "df2 = df2.drop(['country','arrival_date_year'],axis=1)"
   ]
  },
  {
   "cell_type": "code",
   "execution_count": 33,
   "id": "34ad219c",
   "metadata": {},
   "outputs": [],
   "source": [
    "df2['Desired_Room'] = np.where(df2['reserved_room_type'] == df2['assigned_room_type'], 1, 0)"
   ]
  },
  {
   "cell_type": "code",
   "execution_count": 34,
   "id": "9fa819e1",
   "metadata": {},
   "outputs": [],
   "source": [
    "df2 = df2.drop(['reserved_room_type','assigned_room_type'], axis=1)"
   ]
  },
  {
   "cell_type": "code",
   "execution_count": 35,
   "id": "e98e33f0",
   "metadata": {},
   "outputs": [],
   "source": [
    "df2['total_bookings'] = df2['previous_cancellations']+ df2['previous_bookings_not_canceled']\n",
    "df2['is_repeated_guest'] = np.where(df2['previous_bookings_not_canceled'] > 1, 1, 0)"
   ]
  },
  {
   "cell_type": "code",
   "execution_count": 36,
   "id": "c671f35d",
   "metadata": {},
   "outputs": [],
   "source": [
    "df2 = df2.drop(['previous_cancellations','previous_bookings_not_canceled'], axis=1)"
   ]
  },
  {
   "cell_type": "code",
   "execution_count": 37,
   "id": "09021cfd",
   "metadata": {},
   "outputs": [
    {
     "data": {
      "text/plain": [
       "(110766, 23)"
      ]
     },
     "execution_count": 37,
     "metadata": {},
     "output_type": "execute_result"
    }
   ],
   "source": [
    "df2.shape"
   ]
  },
  {
   "cell_type": "code",
   "execution_count": 38,
   "id": "c8c405ca",
   "metadata": {},
   "outputs": [
    {
     "data": {
      "text/plain": [
       "TA/TO        91177\n",
       "Direct       13042\n",
       "Corporate     6355\n",
       "GDS            187\n",
       "Undefined        5\n",
       "Name: distribution_channel, dtype: int64"
      ]
     },
     "execution_count": 38,
     "metadata": {},
     "output_type": "execute_result"
    }
   ],
   "source": [
    "df2['distribution_channel'].value_counts()"
   ]
  },
  {
   "cell_type": "code",
   "execution_count": 39,
   "id": "f42102d2",
   "metadata": {},
   "outputs": [],
   "source": [
    "# Replacing the Undefined \n",
    "df2['distribution_channel'] = np.where(df2['distribution_channel']== \"Undefined\", \"TA/TO\", df2['distribution_channel'])"
   ]
  },
  {
   "cell_type": "code",
   "execution_count": 40,
   "id": "fc727b17",
   "metadata": {},
   "outputs": [
    {
     "data": {
      "text/plain": [
       "TA/TO        91182\n",
       "Direct       13042\n",
       "Corporate     6355\n",
       "GDS            187\n",
       "Name: distribution_channel, dtype: int64"
      ]
     },
     "execution_count": 40,
     "metadata": {},
     "output_type": "execute_result"
    }
   ],
   "source": [
    "df2['distribution_channel'].value_counts()"
   ]
  },
  {
   "cell_type": "code",
   "execution_count": 41,
   "id": "a8bcc47d",
   "metadata": {},
   "outputs": [
    {
     "data": {
      "text/plain": [
       "BB           86172\n",
       "HB           12527\n",
       "SC           10324\n",
       "Undefined     1018\n",
       "FB             725\n",
       "Name: meal, dtype: int64"
      ]
     },
     "execution_count": 41,
     "metadata": {},
     "output_type": "execute_result"
    }
   ],
   "source": [
    "df2['meal'].value_counts()"
   ]
  },
  {
   "cell_type": "code",
   "execution_count": 42,
   "id": "1affcaba",
   "metadata": {},
   "outputs": [],
   "source": [
    "#Replacing the Undefined in meal with SC (no meal package)\n",
    "df2['meal'] = np.where(df2['meal']== \"Undefined\", \"SC\", df2['meal'])"
   ]
  },
  {
   "cell_type": "code",
   "execution_count": 43,
   "id": "5b212926",
   "metadata": {},
   "outputs": [
    {
     "data": {
      "text/plain": [
       "BB    86172\n",
       "HB    12527\n",
       "SC    11342\n",
       "FB      725\n",
       "Name: meal, dtype: int64"
      ]
     },
     "execution_count": 43,
     "metadata": {},
     "output_type": "execute_result"
    }
   ],
   "source": [
    "df2['meal'].value_counts()"
   ]
  },
  {
   "cell_type": "code",
   "execution_count": 44,
   "id": "b443ef77",
   "metadata": {},
   "outputs": [
    {
     "data": {
      "text/plain": [
       "Online TA        53959\n",
       "Offline TA/TO    21775\n",
       "Groups           17974\n",
       "Direct           11658\n",
       "Corporate         5127\n",
       "Aviation           208\n",
       "Complementary       63\n",
       "Undefined            2\n",
       "Name: market_segment, dtype: int64"
      ]
     },
     "execution_count": 44,
     "metadata": {},
     "output_type": "execute_result"
    }
   ],
   "source": [
    "df2['market_segment'].value_counts()"
   ]
  },
  {
   "cell_type": "code",
   "execution_count": 45,
   "id": "6ec1298c",
   "metadata": {},
   "outputs": [],
   "source": [
    "df2['market_segment'] = np.where(df2['market_segment']== \"Undefined\", \"Online TA\", df2['market_segment'])"
   ]
  },
  {
   "cell_type": "code",
   "execution_count": 46,
   "id": "eb44cd70",
   "metadata": {},
   "outputs": [
    {
     "data": {
      "text/plain": [
       "Online TA        53961\n",
       "Offline TA/TO    21775\n",
       "Groups           17974\n",
       "Direct           11658\n",
       "Corporate         5127\n",
       "Aviation           208\n",
       "Complementary       63\n",
       "Name: market_segment, dtype: int64"
      ]
     },
     "execution_count": 46,
     "metadata": {},
     "output_type": "execute_result"
    }
   ],
   "source": [
    "df2['market_segment'].value_counts()"
   ]
  },
  {
   "cell_type": "code",
   "execution_count": 47,
   "id": "beb06cdf",
   "metadata": {},
   "outputs": [
    {
     "name": "stdout",
     "output_type": "stream",
     "text": [
      "(110766, 23)\n"
     ]
    },
    {
     "data": {
      "text/html": [
       "<div>\n",
       "<style scoped>\n",
       "    .dataframe tbody tr th:only-of-type {\n",
       "        vertical-align: middle;\n",
       "    }\n",
       "\n",
       "    .dataframe tbody tr th {\n",
       "        vertical-align: top;\n",
       "    }\n",
       "\n",
       "    .dataframe thead th {\n",
       "        text-align: right;\n",
       "    }\n",
       "</style>\n",
       "<table border=\"1\" class=\"dataframe\">\n",
       "  <thead>\n",
       "    <tr style=\"text-align: right;\">\n",
       "      <th></th>\n",
       "      <th>hotel</th>\n",
       "      <th>is_canceled</th>\n",
       "      <th>lead_time</th>\n",
       "      <th>stays_in_weekend_nights</th>\n",
       "      <th>stays_in_week_nights</th>\n",
       "      <th>adults</th>\n",
       "      <th>children</th>\n",
       "      <th>babies</th>\n",
       "      <th>meal</th>\n",
       "      <th>market_segment</th>\n",
       "      <th>...</th>\n",
       "      <th>deposit_type</th>\n",
       "      <th>days_in_waiting_list</th>\n",
       "      <th>customer_type</th>\n",
       "      <th>adr</th>\n",
       "      <th>required_car_parking_spaces</th>\n",
       "      <th>total_of_special_requests</th>\n",
       "      <th>reservation_status</th>\n",
       "      <th>seasons</th>\n",
       "      <th>Desired_Room</th>\n",
       "      <th>total_bookings</th>\n",
       "    </tr>\n",
       "  </thead>\n",
       "  <tbody>\n",
       "    <tr>\n",
       "      <th>2</th>\n",
       "      <td>Resort Hotel</td>\n",
       "      <td>0</td>\n",
       "      <td>7</td>\n",
       "      <td>0</td>\n",
       "      <td>1</td>\n",
       "      <td>1</td>\n",
       "      <td>0.0</td>\n",
       "      <td>0</td>\n",
       "      <td>BB</td>\n",
       "      <td>Direct</td>\n",
       "      <td>...</td>\n",
       "      <td>No Deposit</td>\n",
       "      <td>0</td>\n",
       "      <td>Transient</td>\n",
       "      <td>75.0</td>\n",
       "      <td>0</td>\n",
       "      <td>0</td>\n",
       "      <td>Check-Out</td>\n",
       "      <td>summer</td>\n",
       "      <td>0</td>\n",
       "      <td>0</td>\n",
       "    </tr>\n",
       "    <tr>\n",
       "      <th>3</th>\n",
       "      <td>Resort Hotel</td>\n",
       "      <td>0</td>\n",
       "      <td>13</td>\n",
       "      <td>0</td>\n",
       "      <td>1</td>\n",
       "      <td>1</td>\n",
       "      <td>0.0</td>\n",
       "      <td>0</td>\n",
       "      <td>BB</td>\n",
       "      <td>Corporate</td>\n",
       "      <td>...</td>\n",
       "      <td>No Deposit</td>\n",
       "      <td>0</td>\n",
       "      <td>Transient</td>\n",
       "      <td>75.0</td>\n",
       "      <td>0</td>\n",
       "      <td>0</td>\n",
       "      <td>Check-Out</td>\n",
       "      <td>summer</td>\n",
       "      <td>1</td>\n",
       "      <td>0</td>\n",
       "    </tr>\n",
       "    <tr>\n",
       "      <th>4</th>\n",
       "      <td>Resort Hotel</td>\n",
       "      <td>0</td>\n",
       "      <td>14</td>\n",
       "      <td>0</td>\n",
       "      <td>2</td>\n",
       "      <td>2</td>\n",
       "      <td>0.0</td>\n",
       "      <td>0</td>\n",
       "      <td>BB</td>\n",
       "      <td>Online TA</td>\n",
       "      <td>...</td>\n",
       "      <td>No Deposit</td>\n",
       "      <td>0</td>\n",
       "      <td>Transient</td>\n",
       "      <td>98.0</td>\n",
       "      <td>0</td>\n",
       "      <td>1</td>\n",
       "      <td>Check-Out</td>\n",
       "      <td>summer</td>\n",
       "      <td>1</td>\n",
       "      <td>0</td>\n",
       "    </tr>\n",
       "    <tr>\n",
       "      <th>5</th>\n",
       "      <td>Resort Hotel</td>\n",
       "      <td>0</td>\n",
       "      <td>14</td>\n",
       "      <td>0</td>\n",
       "      <td>2</td>\n",
       "      <td>2</td>\n",
       "      <td>0.0</td>\n",
       "      <td>0</td>\n",
       "      <td>BB</td>\n",
       "      <td>Online TA</td>\n",
       "      <td>...</td>\n",
       "      <td>No Deposit</td>\n",
       "      <td>0</td>\n",
       "      <td>Transient</td>\n",
       "      <td>98.0</td>\n",
       "      <td>0</td>\n",
       "      <td>1</td>\n",
       "      <td>Check-Out</td>\n",
       "      <td>summer</td>\n",
       "      <td>1</td>\n",
       "      <td>0</td>\n",
       "    </tr>\n",
       "    <tr>\n",
       "      <th>6</th>\n",
       "      <td>Resort Hotel</td>\n",
       "      <td>0</td>\n",
       "      <td>0</td>\n",
       "      <td>0</td>\n",
       "      <td>2</td>\n",
       "      <td>2</td>\n",
       "      <td>0.0</td>\n",
       "      <td>0</td>\n",
       "      <td>BB</td>\n",
       "      <td>Direct</td>\n",
       "      <td>...</td>\n",
       "      <td>No Deposit</td>\n",
       "      <td>0</td>\n",
       "      <td>Transient</td>\n",
       "      <td>107.0</td>\n",
       "      <td>0</td>\n",
       "      <td>0</td>\n",
       "      <td>Check-Out</td>\n",
       "      <td>summer</td>\n",
       "      <td>1</td>\n",
       "      <td>0</td>\n",
       "    </tr>\n",
       "  </tbody>\n",
       "</table>\n",
       "<p>5 rows × 23 columns</p>\n",
       "</div>"
      ],
      "text/plain": [
       "          hotel  is_canceled  lead_time  stays_in_weekend_nights  \\\n",
       "2  Resort Hotel            0          7                        0   \n",
       "3  Resort Hotel            0         13                        0   \n",
       "4  Resort Hotel            0         14                        0   \n",
       "5  Resort Hotel            0         14                        0   \n",
       "6  Resort Hotel            0          0                        0   \n",
       "\n",
       "   stays_in_week_nights  adults  children  babies meal market_segment  ...  \\\n",
       "2                     1       1       0.0       0   BB         Direct  ...   \n",
       "3                     1       1       0.0       0   BB      Corporate  ...   \n",
       "4                     2       2       0.0       0   BB      Online TA  ...   \n",
       "5                     2       2       0.0       0   BB      Online TA  ...   \n",
       "6                     2       2       0.0       0   BB         Direct  ...   \n",
       "\n",
       "  deposit_type  days_in_waiting_list  customer_type    adr  \\\n",
       "2   No Deposit                     0      Transient   75.0   \n",
       "3   No Deposit                     0      Transient   75.0   \n",
       "4   No Deposit                     0      Transient   98.0   \n",
       "5   No Deposit                     0      Transient   98.0   \n",
       "6   No Deposit                     0      Transient  107.0   \n",
       "\n",
       "   required_car_parking_spaces total_of_special_requests  reservation_status  \\\n",
       "2                            0                         0           Check-Out   \n",
       "3                            0                         0           Check-Out   \n",
       "4                            0                         1           Check-Out   \n",
       "5                            0                         1           Check-Out   \n",
       "6                            0                         0           Check-Out   \n",
       "\n",
       "   seasons  Desired_Room total_bookings  \n",
       "2   summer             0              0  \n",
       "3   summer             1              0  \n",
       "4   summer             1              0  \n",
       "5   summer             1              0  \n",
       "6   summer             1              0  \n",
       "\n",
       "[5 rows x 23 columns]"
      ]
     },
     "execution_count": 47,
     "metadata": {},
     "output_type": "execute_result"
    }
   ],
   "source": [
    "print(df2.shape)\n",
    "df2.head()"
   ]
  },
  {
   "cell_type": "code",
   "execution_count": 48,
   "id": "eb4649a9",
   "metadata": {},
   "outputs": [
    {
     "data": {
      "text/plain": [
       "Index(['hotel', 'is_canceled', 'lead_time', 'stays_in_weekend_nights',\n",
       "       'stays_in_week_nights', 'adults', 'children', 'babies', 'meal',\n",
       "       'market_segment', 'distribution_channel', 'is_repeated_guest',\n",
       "       'booking_changes', 'deposit_type', 'days_in_waiting_list',\n",
       "       'customer_type', 'adr', 'required_car_parking_spaces',\n",
       "       'total_of_special_requests', 'reservation_status', 'seasons',\n",
       "       'Desired_Room', 'total_bookings'],\n",
       "      dtype='object')"
      ]
     },
     "execution_count": 48,
     "metadata": {},
     "output_type": "execute_result"
    }
   ],
   "source": [
    "df2.columns"
   ]
  },
  {
   "cell_type": "markdown",
   "id": "782e2194",
   "metadata": {},
   "source": [
    "#Statistics for Significance and Normality Test."
   ]
  },
  {
   "cell_type": "code",
   "execution_count": 49,
   "id": "917030e8",
   "metadata": {},
   "outputs": [],
   "source": [
    "df_stat=df2.copy() "
   ]
  },
  {
   "cell_type": "code",
   "execution_count": 50,
   "id": "6b6f60c5",
   "metadata": {},
   "outputs": [
    {
     "data": {
      "text/plain": [
       "hotel                           object\n",
       "is_canceled                      int64\n",
       "lead_time                        int64\n",
       "stays_in_weekend_nights          int64\n",
       "stays_in_week_nights             int64\n",
       "adults                           int64\n",
       "children                       float64\n",
       "babies                           int64\n",
       "meal                            object\n",
       "market_segment                  object\n",
       "distribution_channel            object\n",
       "is_repeated_guest                int32\n",
       "booking_changes                  int64\n",
       "deposit_type                    object\n",
       "days_in_waiting_list             int64\n",
       "customer_type                   object\n",
       "adr                            float64\n",
       "required_car_parking_spaces      int64\n",
       "total_of_special_requests        int64\n",
       "reservation_status              object\n",
       "seasons                         object\n",
       "Desired_Room                     int32\n",
       "total_bookings                   int64\n",
       "dtype: object"
      ]
     },
     "execution_count": 50,
     "metadata": {},
     "output_type": "execute_result"
    }
   ],
   "source": [
    "df_stat.dtypes"
   ]
  },
  {
   "cell_type": "code",
   "execution_count": 51,
   "id": "19dd1718",
   "metadata": {},
   "outputs": [
    {
     "data": {
      "text/plain": [
       "Index(['hotel', 'is_canceled', 'lead_time', 'stays_in_weekend_nights',\n",
       "       'stays_in_week_nights', 'adults', 'children', 'babies', 'meal',\n",
       "       'market_segment', 'distribution_channel', 'is_repeated_guest',\n",
       "       'booking_changes', 'deposit_type', 'days_in_waiting_list',\n",
       "       'customer_type', 'adr', 'required_car_parking_spaces',\n",
       "       'total_of_special_requests', 'reservation_status', 'seasons',\n",
       "       'Desired_Room', 'total_bookings'],\n",
       "      dtype='object')"
      ]
     },
     "execution_count": 51,
     "metadata": {},
     "output_type": "execute_result"
    }
   ],
   "source": [
    "df_stat.columns"
   ]
  },
  {
   "cell_type": "code",
   "execution_count": 52,
   "id": "80c9c2b7",
   "metadata": {},
   "outputs": [],
   "source": [
    "df_num=df_stat[['lead_time', 'stays_in_weekend_nights',\n",
    "       'stays_in_week_nights', 'adults', 'children', 'babies',\n",
    "       'booking_changes', 'days_in_waiting_list', 'adr', 'required_car_parking_spaces',\n",
    "       'total_of_special_requests',\n",
    "        'total_bookings']]"
   ]
  },
  {
   "cell_type": "code",
   "execution_count": 53,
   "id": "fb6144bd",
   "metadata": {},
   "outputs": [],
   "source": [
    "df_cat=df_stat[['hotel', 'is_canceled', 'meal',\n",
    "       'market_segment', 'distribution_channel', 'is_repeated_guest',\n",
    "      'deposit_type', 'reservation_status',\n",
    "       'customer_type','seasons',\n",
    "       'Desired_Room']]"
   ]
  },
  {
   "cell_type": "code",
   "execution_count": 54,
   "id": "5cbc1512",
   "metadata": {},
   "outputs": [
    {
     "data": {
      "text/html": [
       "<div>\n",
       "<style scoped>\n",
       "    .dataframe tbody tr th:only-of-type {\n",
       "        vertical-align: middle;\n",
       "    }\n",
       "\n",
       "    .dataframe tbody tr th {\n",
       "        vertical-align: top;\n",
       "    }\n",
       "\n",
       "    .dataframe thead th {\n",
       "        text-align: right;\n",
       "    }\n",
       "</style>\n",
       "<table border=\"1\" class=\"dataframe\">\n",
       "  <thead>\n",
       "    <tr style=\"text-align: right;\">\n",
       "      <th></th>\n",
       "      <th>lead_time</th>\n",
       "      <th>stays_in_weekend_nights</th>\n",
       "      <th>stays_in_week_nights</th>\n",
       "      <th>adults</th>\n",
       "      <th>children</th>\n",
       "      <th>babies</th>\n",
       "      <th>booking_changes</th>\n",
       "      <th>days_in_waiting_list</th>\n",
       "      <th>adr</th>\n",
       "      <th>required_car_parking_spaces</th>\n",
       "      <th>total_of_special_requests</th>\n",
       "      <th>total_bookings</th>\n",
       "    </tr>\n",
       "  </thead>\n",
       "  <tbody>\n",
       "    <tr>\n",
       "      <th>2</th>\n",
       "      <td>7</td>\n",
       "      <td>0</td>\n",
       "      <td>1</td>\n",
       "      <td>1</td>\n",
       "      <td>0.0</td>\n",
       "      <td>0</td>\n",
       "      <td>0</td>\n",
       "      <td>0</td>\n",
       "      <td>75.0</td>\n",
       "      <td>0</td>\n",
       "      <td>0</td>\n",
       "      <td>0</td>\n",
       "    </tr>\n",
       "    <tr>\n",
       "      <th>3</th>\n",
       "      <td>13</td>\n",
       "      <td>0</td>\n",
       "      <td>1</td>\n",
       "      <td>1</td>\n",
       "      <td>0.0</td>\n",
       "      <td>0</td>\n",
       "      <td>0</td>\n",
       "      <td>0</td>\n",
       "      <td>75.0</td>\n",
       "      <td>0</td>\n",
       "      <td>0</td>\n",
       "      <td>0</td>\n",
       "    </tr>\n",
       "    <tr>\n",
       "      <th>4</th>\n",
       "      <td>14</td>\n",
       "      <td>0</td>\n",
       "      <td>2</td>\n",
       "      <td>2</td>\n",
       "      <td>0.0</td>\n",
       "      <td>0</td>\n",
       "      <td>0</td>\n",
       "      <td>0</td>\n",
       "      <td>98.0</td>\n",
       "      <td>0</td>\n",
       "      <td>1</td>\n",
       "      <td>0</td>\n",
       "    </tr>\n",
       "    <tr>\n",
       "      <th>5</th>\n",
       "      <td>14</td>\n",
       "      <td>0</td>\n",
       "      <td>2</td>\n",
       "      <td>2</td>\n",
       "      <td>0.0</td>\n",
       "      <td>0</td>\n",
       "      <td>0</td>\n",
       "      <td>0</td>\n",
       "      <td>98.0</td>\n",
       "      <td>0</td>\n",
       "      <td>1</td>\n",
       "      <td>0</td>\n",
       "    </tr>\n",
       "    <tr>\n",
       "      <th>6</th>\n",
       "      <td>0</td>\n",
       "      <td>0</td>\n",
       "      <td>2</td>\n",
       "      <td>2</td>\n",
       "      <td>0.0</td>\n",
       "      <td>0</td>\n",
       "      <td>0</td>\n",
       "      <td>0</td>\n",
       "      <td>107.0</td>\n",
       "      <td>0</td>\n",
       "      <td>0</td>\n",
       "      <td>0</td>\n",
       "    </tr>\n",
       "  </tbody>\n",
       "</table>\n",
       "</div>"
      ],
      "text/plain": [
       "   lead_time  stays_in_weekend_nights  stays_in_week_nights  adults  children  \\\n",
       "2          7                        0                     1       1       0.0   \n",
       "3         13                        0                     1       1       0.0   \n",
       "4         14                        0                     2       2       0.0   \n",
       "5         14                        0                     2       2       0.0   \n",
       "6          0                        0                     2       2       0.0   \n",
       "\n",
       "   babies  booking_changes  days_in_waiting_list    adr  \\\n",
       "2       0                0                     0   75.0   \n",
       "3       0                0                     0   75.0   \n",
       "4       0                0                     0   98.0   \n",
       "5       0                0                     0   98.0   \n",
       "6       0                0                     0  107.0   \n",
       "\n",
       "   required_car_parking_spaces  total_of_special_requests  total_bookings  \n",
       "2                            0                          0               0  \n",
       "3                            0                          0               0  \n",
       "4                            0                          1               0  \n",
       "5                            0                          1               0  \n",
       "6                            0                          0               0  "
      ]
     },
     "execution_count": 54,
     "metadata": {},
     "output_type": "execute_result"
    }
   ],
   "source": [
    "df_num.head()"
   ]
  },
  {
   "cell_type": "code",
   "execution_count": 55,
   "id": "55f41761",
   "metadata": {},
   "outputs": [
    {
     "data": {
      "text/html": [
       "<div>\n",
       "<style scoped>\n",
       "    .dataframe tbody tr th:only-of-type {\n",
       "        vertical-align: middle;\n",
       "    }\n",
       "\n",
       "    .dataframe tbody tr th {\n",
       "        vertical-align: top;\n",
       "    }\n",
       "\n",
       "    .dataframe thead th {\n",
       "        text-align: right;\n",
       "    }\n",
       "</style>\n",
       "<table border=\"1\" class=\"dataframe\">\n",
       "  <thead>\n",
       "    <tr style=\"text-align: right;\">\n",
       "      <th></th>\n",
       "      <th>hotel</th>\n",
       "      <th>is_canceled</th>\n",
       "      <th>meal</th>\n",
       "      <th>market_segment</th>\n",
       "      <th>distribution_channel</th>\n",
       "      <th>is_repeated_guest</th>\n",
       "      <th>deposit_type</th>\n",
       "      <th>reservation_status</th>\n",
       "      <th>customer_type</th>\n",
       "      <th>seasons</th>\n",
       "      <th>Desired_Room</th>\n",
       "    </tr>\n",
       "  </thead>\n",
       "  <tbody>\n",
       "    <tr>\n",
       "      <th>2</th>\n",
       "      <td>Resort Hotel</td>\n",
       "      <td>0</td>\n",
       "      <td>BB</td>\n",
       "      <td>Direct</td>\n",
       "      <td>Direct</td>\n",
       "      <td>0</td>\n",
       "      <td>No Deposit</td>\n",
       "      <td>Check-Out</td>\n",
       "      <td>Transient</td>\n",
       "      <td>summer</td>\n",
       "      <td>0</td>\n",
       "    </tr>\n",
       "    <tr>\n",
       "      <th>3</th>\n",
       "      <td>Resort Hotel</td>\n",
       "      <td>0</td>\n",
       "      <td>BB</td>\n",
       "      <td>Corporate</td>\n",
       "      <td>Corporate</td>\n",
       "      <td>0</td>\n",
       "      <td>No Deposit</td>\n",
       "      <td>Check-Out</td>\n",
       "      <td>Transient</td>\n",
       "      <td>summer</td>\n",
       "      <td>1</td>\n",
       "    </tr>\n",
       "    <tr>\n",
       "      <th>4</th>\n",
       "      <td>Resort Hotel</td>\n",
       "      <td>0</td>\n",
       "      <td>BB</td>\n",
       "      <td>Online TA</td>\n",
       "      <td>TA/TO</td>\n",
       "      <td>0</td>\n",
       "      <td>No Deposit</td>\n",
       "      <td>Check-Out</td>\n",
       "      <td>Transient</td>\n",
       "      <td>summer</td>\n",
       "      <td>1</td>\n",
       "    </tr>\n",
       "    <tr>\n",
       "      <th>5</th>\n",
       "      <td>Resort Hotel</td>\n",
       "      <td>0</td>\n",
       "      <td>BB</td>\n",
       "      <td>Online TA</td>\n",
       "      <td>TA/TO</td>\n",
       "      <td>0</td>\n",
       "      <td>No Deposit</td>\n",
       "      <td>Check-Out</td>\n",
       "      <td>Transient</td>\n",
       "      <td>summer</td>\n",
       "      <td>1</td>\n",
       "    </tr>\n",
       "    <tr>\n",
       "      <th>6</th>\n",
       "      <td>Resort Hotel</td>\n",
       "      <td>0</td>\n",
       "      <td>BB</td>\n",
       "      <td>Direct</td>\n",
       "      <td>Direct</td>\n",
       "      <td>0</td>\n",
       "      <td>No Deposit</td>\n",
       "      <td>Check-Out</td>\n",
       "      <td>Transient</td>\n",
       "      <td>summer</td>\n",
       "      <td>1</td>\n",
       "    </tr>\n",
       "  </tbody>\n",
       "</table>\n",
       "</div>"
      ],
      "text/plain": [
       "          hotel  is_canceled meal market_segment distribution_channel  \\\n",
       "2  Resort Hotel            0   BB         Direct               Direct   \n",
       "3  Resort Hotel            0   BB      Corporate            Corporate   \n",
       "4  Resort Hotel            0   BB      Online TA                TA/TO   \n",
       "5  Resort Hotel            0   BB      Online TA                TA/TO   \n",
       "6  Resort Hotel            0   BB         Direct               Direct   \n",
       "\n",
       "   is_repeated_guest deposit_type reservation_status customer_type seasons  \\\n",
       "2                  0   No Deposit          Check-Out     Transient  summer   \n",
       "3                  0   No Deposit          Check-Out     Transient  summer   \n",
       "4                  0   No Deposit          Check-Out     Transient  summer   \n",
       "5                  0   No Deposit          Check-Out     Transient  summer   \n",
       "6                  0   No Deposit          Check-Out     Transient  summer   \n",
       "\n",
       "   Desired_Room  \n",
       "2             0  \n",
       "3             1  \n",
       "4             1  \n",
       "5             1  \n",
       "6             1  "
      ]
     },
     "execution_count": 55,
     "metadata": {},
     "output_type": "execute_result"
    }
   ],
   "source": [
    "df_cat.head()"
   ]
  },
  {
   "cell_type": "code",
   "execution_count": 56,
   "id": "a5fa097a",
   "metadata": {},
   "outputs": [],
   "source": [
    "X=df_cat.drop(\"is_canceled\", axis=1)"
   ]
  },
  {
   "cell_type": "code",
   "execution_count": 57,
   "id": "ebe651b8",
   "metadata": {
    "scrolled": false
   },
   "outputs": [
    {
     "name": "stdout",
     "output_type": "stream",
     "text": [
      "hotel: 0.8410780049562139: \n",
      "meal: 0.9709331988419929: \n",
      "market_segment: 0.9874136826345024: \n",
      "distribution_channel: 0.9786743806894651: \n",
      "is_repeated_guest: 0.5843552011431903: \n",
      "deposit_type: 0.4743041131572474: \n",
      "reservation_status: 0.22313016014842982: \n",
      "customer_type: 0.9545366447770954: \n",
      "seasons: 0.9996530134361622: \n",
      "Desired_Room: 0.545462920071403: \n"
     ]
    }
   ],
   "source": [
    "#chi2_contingency #验证两个类别变量是否独立，还是相关\n",
    "#𝐻0 : The variables are independent / insignificant\n",
    "#𝐻1: The variables are not independent (i.e. variables are dependent) / significant\n",
    "from scipy.stats import chi2_contingency\n",
    "\n",
    "for var in X:\n",
    "    table = pd.crosstab(df_stat[\"is_canceled\"], df_stat[var],normalize='columns')\n",
    "    observed_value = table.values\n",
    "    test_stat, p_value, dof, expected_value = chi2_contingency(observed = observed_value, correction = False)\n",
    "    print(\"{}: {}: \".format(var,p_value))"
   ]
  },
  {
   "cell_type": "markdown",
   "id": "e7a85e74",
   "metadata": {},
   "source": [
    "#We observe that the p_values of all the columns are greater than 0.05. Hence, we fail to reject the null hypothesis. Therefore, we conclude that all the categorical features are not significant as per the chi2_contingency test."
   ]
  },
  {
   "cell_type": "code",
   "execution_count": 59,
   "id": "c87920c5",
   "metadata": {},
   "outputs": [],
   "source": [
    "#Shapiro-Wilk normality test\n",
    "#H0: The data is normally distributed\n",
    "#H1: The data is not normally distributed\n",
    "#Checking the normality of numeric variables.\n",
    "#To check weather parametric or non-parametric need to be perform.\n",
    "df_1=df_stat[df_stat['is_canceled'] == 1]#取消\n",
    "df_0=df_stat[df_stat['is_canceled'] == 0]#不取消"
   ]
  },
  {
   "cell_type": "code",
   "execution_count": 60,
   "id": "f993841c",
   "metadata": {},
   "outputs": [],
   "source": [
    "df_1_1=df_1[['lead_time', 'stays_in_weekend_nights',\n",
    "       'stays_in_week_nights', 'adults', 'children', 'babies',\n",
    "       'booking_changes', 'days_in_waiting_list', 'adr', 'required_car_parking_spaces',\n",
    "       'total_of_special_requests',\n",
    "        'total_bookings']]\n",
    "df_0_0=df_0[['lead_time', 'stays_in_weekend_nights',\n",
    "       'stays_in_week_nights', 'adults', 'children', 'babies',\n",
    "       'booking_changes', 'days_in_waiting_list', 'adr', 'required_car_parking_spaces',\n",
    "       'total_of_special_requests',\n",
    "        'total_bookings']]"
   ]
  },
  {
   "cell_type": "code",
   "execution_count": 61,
   "id": "a1ecbdb0",
   "metadata": {},
   "outputs": [
    {
     "name": "stdout",
     "output_type": "stream",
     "text": [
      "lead_time: 0.0: \n",
      "stays_in_weekend_nights: 0.0: \n",
      "stays_in_week_nights: 0.0: \n",
      "adults: 0.0: \n",
      "children: 0.0: \n",
      "babies: 0.0: \n",
      "booking_changes: 0.0: \n",
      "days_in_waiting_list: 0.0: \n",
      "adr: 0.0: \n",
      "required_car_parking_spaces: 0.0: \n",
      "total_of_special_requests: 0.0: \n",
      "total_bookings: 0.0: \n"
     ]
    }
   ],
   "source": [
    "from scipy import stats\n",
    "for var in df_num:\n",
    "    stat, p_value = stats.shapiro(df_num[var])\n",
    "    print(\"{}: {}: \".format(var,p_value))"
   ]
  },
  {
   "cell_type": "code",
   "execution_count": 62,
   "id": "988b9371",
   "metadata": {},
   "outputs": [
    {
     "name": "stdout",
     "output_type": "stream",
     "text": [
      "lead_time: 0.0: \n",
      "stays_in_weekend_nights: 0.0: \n",
      "stays_in_week_nights: 0.0: \n",
      "adults: 0.0: \n",
      "children: 0.0: \n",
      "babies: 0.0: \n",
      "booking_changes: 0.0: \n",
      "days_in_waiting_list: 0.0: \n",
      "adr: 0.0: \n",
      "required_car_parking_spaces: 1.0: \n",
      "total_of_special_requests: 0.0: \n",
      "total_bookings: 0.0: \n"
     ]
    }
   ],
   "source": [
    "from scipy import stats\n",
    "for var in df_1_1:\n",
    "    stat, p_value = stats.shapiro(df_1_1[var])\n",
    "    print(\"{}: {}: \".format(var,p_value))"
   ]
  },
  {
   "cell_type": "code",
   "execution_count": 63,
   "id": "ed666bec",
   "metadata": {},
   "outputs": [
    {
     "name": "stdout",
     "output_type": "stream",
     "text": [
      "lead_time: 0.0: \n",
      "stays_in_weekend_nights: 0.0: \n",
      "stays_in_week_nights: 0.0: \n",
      "adults: 0.0: \n",
      "children: 0.0: \n",
      "babies: 0.0: \n",
      "booking_changes: 0.0: \n",
      "days_in_waiting_list: 0.0: \n",
      "adr: 0.0: \n",
      "required_car_parking_spaces: 0.0: \n",
      "total_of_special_requests: 0.0: \n",
      "total_bookings: 0.0: \n"
     ]
    }
   ],
   "source": [
    "from scipy import stats\n",
    "for var in df_0_0:\n",
    "    stat, p_value = stats.shapiro(df_0_0[var])\n",
    "    print(\"{}: {}: \".format(var,p_value))"
   ]
  },
  {
   "cell_type": "code",
   "execution_count": 64,
   "id": "a47b485b",
   "metadata": {},
   "outputs": [
    {
     "name": "stdout",
     "output_type": "stream",
     "text": [
      "lead_time: 0.0: \n",
      "stays_in_weekend_nights: 0.21862300571052584: \n",
      "stays_in_week_nights: 1.2122537981409106e-41: \n",
      "adults: 1.779920786053128e-99: \n",
      "children: 0.012617414767348836: \n",
      "babies: 3.495043440580182e-31: \n",
      "booking_changes: 0.0: \n",
      "days_in_waiting_list: 1.676763863710668e-256: \n",
      "adr: 5.585747682758942e-54: \n",
      "required_car_parking_spaces: 0.0: \n",
      "total_of_special_requests: 0.0: \n",
      "total_bookings: 0.0: \n"
     ]
    }
   ],
   "source": [
    "#From the above we can see that all are not noramlly distributed.\n",
    "#So going with non parametric Kruskal-Wallis H Test\n",
    "#Kruskal-Wallis H Tes检验两个以上样本是否来自 同一个概率分布的一种非参数方法\n",
    "#p <= alpha: reject H0, different distribution.\n",
    "#p > alpha: fail to reject H0, same distribution.\n",
    "from numpy.random import seed\n",
    "from numpy.random import randn\n",
    "from scipy.stats import kruskal\n",
    "seed(1)\n",
    "\n",
    "for var in df_num:\n",
    "    stat, p_value = stats.kruskal(df_1[var], df_0[var])\n",
    "    print(\"{}: {}: \".format(var,p_value))"
   ]
  },
  {
   "cell_type": "markdown",
   "id": "5501c94e",
   "metadata": {},
   "source": [
    "#We observe that the p_values of all the columns are less than 0.05 expect stays_in_weekend_nights. Hence, we reject the null hypothesis. Therefore, we conclude that all the numerical features are significant as per Kruskal-Wallis H Test expect stays_in_weekend_nights"
   ]
  },
  {
   "cell_type": "markdown",
   "id": "6a2a8a36",
   "metadata": {},
   "source": [
    "#Model Building."
   ]
  },
  {
   "cell_type": "code",
   "execution_count": 67,
   "id": "f527750b",
   "metadata": {},
   "outputs": [
    {
     "data": {
      "text/html": [
       "<div>\n",
       "<style scoped>\n",
       "    .dataframe tbody tr th:only-of-type {\n",
       "        vertical-align: middle;\n",
       "    }\n",
       "\n",
       "    .dataframe tbody tr th {\n",
       "        vertical-align: top;\n",
       "    }\n",
       "\n",
       "    .dataframe thead th {\n",
       "        text-align: right;\n",
       "    }\n",
       "</style>\n",
       "<table border=\"1\" class=\"dataframe\">\n",
       "  <thead>\n",
       "    <tr style=\"text-align: right;\">\n",
       "      <th></th>\n",
       "      <th>hotel</th>\n",
       "      <th>is_canceled</th>\n",
       "      <th>lead_time</th>\n",
       "      <th>stays_in_weekend_nights</th>\n",
       "      <th>stays_in_week_nights</th>\n",
       "      <th>adults</th>\n",
       "      <th>children</th>\n",
       "      <th>babies</th>\n",
       "      <th>meal</th>\n",
       "      <th>market_segment</th>\n",
       "      <th>...</th>\n",
       "      <th>deposit_type</th>\n",
       "      <th>days_in_waiting_list</th>\n",
       "      <th>customer_type</th>\n",
       "      <th>adr</th>\n",
       "      <th>required_car_parking_spaces</th>\n",
       "      <th>total_of_special_requests</th>\n",
       "      <th>reservation_status</th>\n",
       "      <th>seasons</th>\n",
       "      <th>Desired_Room</th>\n",
       "      <th>total_bookings</th>\n",
       "    </tr>\n",
       "  </thead>\n",
       "  <tbody>\n",
       "    <tr>\n",
       "      <th>2</th>\n",
       "      <td>Resort Hotel</td>\n",
       "      <td>0</td>\n",
       "      <td>7</td>\n",
       "      <td>0</td>\n",
       "      <td>1</td>\n",
       "      <td>1</td>\n",
       "      <td>0.0</td>\n",
       "      <td>0</td>\n",
       "      <td>BB</td>\n",
       "      <td>Direct</td>\n",
       "      <td>...</td>\n",
       "      <td>No Deposit</td>\n",
       "      <td>0</td>\n",
       "      <td>Transient</td>\n",
       "      <td>75.00</td>\n",
       "      <td>0</td>\n",
       "      <td>0</td>\n",
       "      <td>Check-Out</td>\n",
       "      <td>summer</td>\n",
       "      <td>0</td>\n",
       "      <td>0</td>\n",
       "    </tr>\n",
       "    <tr>\n",
       "      <th>3</th>\n",
       "      <td>Resort Hotel</td>\n",
       "      <td>0</td>\n",
       "      <td>13</td>\n",
       "      <td>0</td>\n",
       "      <td>1</td>\n",
       "      <td>1</td>\n",
       "      <td>0.0</td>\n",
       "      <td>0</td>\n",
       "      <td>BB</td>\n",
       "      <td>Corporate</td>\n",
       "      <td>...</td>\n",
       "      <td>No Deposit</td>\n",
       "      <td>0</td>\n",
       "      <td>Transient</td>\n",
       "      <td>75.00</td>\n",
       "      <td>0</td>\n",
       "      <td>0</td>\n",
       "      <td>Check-Out</td>\n",
       "      <td>summer</td>\n",
       "      <td>1</td>\n",
       "      <td>0</td>\n",
       "    </tr>\n",
       "    <tr>\n",
       "      <th>4</th>\n",
       "      <td>Resort Hotel</td>\n",
       "      <td>0</td>\n",
       "      <td>14</td>\n",
       "      <td>0</td>\n",
       "      <td>2</td>\n",
       "      <td>2</td>\n",
       "      <td>0.0</td>\n",
       "      <td>0</td>\n",
       "      <td>BB</td>\n",
       "      <td>Online TA</td>\n",
       "      <td>...</td>\n",
       "      <td>No Deposit</td>\n",
       "      <td>0</td>\n",
       "      <td>Transient</td>\n",
       "      <td>98.00</td>\n",
       "      <td>0</td>\n",
       "      <td>1</td>\n",
       "      <td>Check-Out</td>\n",
       "      <td>summer</td>\n",
       "      <td>1</td>\n",
       "      <td>0</td>\n",
       "    </tr>\n",
       "    <tr>\n",
       "      <th>5</th>\n",
       "      <td>Resort Hotel</td>\n",
       "      <td>0</td>\n",
       "      <td>14</td>\n",
       "      <td>0</td>\n",
       "      <td>2</td>\n",
       "      <td>2</td>\n",
       "      <td>0.0</td>\n",
       "      <td>0</td>\n",
       "      <td>BB</td>\n",
       "      <td>Online TA</td>\n",
       "      <td>...</td>\n",
       "      <td>No Deposit</td>\n",
       "      <td>0</td>\n",
       "      <td>Transient</td>\n",
       "      <td>98.00</td>\n",
       "      <td>0</td>\n",
       "      <td>1</td>\n",
       "      <td>Check-Out</td>\n",
       "      <td>summer</td>\n",
       "      <td>1</td>\n",
       "      <td>0</td>\n",
       "    </tr>\n",
       "    <tr>\n",
       "      <th>6</th>\n",
       "      <td>Resort Hotel</td>\n",
       "      <td>0</td>\n",
       "      <td>0</td>\n",
       "      <td>0</td>\n",
       "      <td>2</td>\n",
       "      <td>2</td>\n",
       "      <td>0.0</td>\n",
       "      <td>0</td>\n",
       "      <td>BB</td>\n",
       "      <td>Direct</td>\n",
       "      <td>...</td>\n",
       "      <td>No Deposit</td>\n",
       "      <td>0</td>\n",
       "      <td>Transient</td>\n",
       "      <td>107.00</td>\n",
       "      <td>0</td>\n",
       "      <td>0</td>\n",
       "      <td>Check-Out</td>\n",
       "      <td>summer</td>\n",
       "      <td>1</td>\n",
       "      <td>0</td>\n",
       "    </tr>\n",
       "    <tr>\n",
       "      <th>...</th>\n",
       "      <td>...</td>\n",
       "      <td>...</td>\n",
       "      <td>...</td>\n",
       "      <td>...</td>\n",
       "      <td>...</td>\n",
       "      <td>...</td>\n",
       "      <td>...</td>\n",
       "      <td>...</td>\n",
       "      <td>...</td>\n",
       "      <td>...</td>\n",
       "      <td>...</td>\n",
       "      <td>...</td>\n",
       "      <td>...</td>\n",
       "      <td>...</td>\n",
       "      <td>...</td>\n",
       "      <td>...</td>\n",
       "      <td>...</td>\n",
       "      <td>...</td>\n",
       "      <td>...</td>\n",
       "      <td>...</td>\n",
       "      <td>...</td>\n",
       "    </tr>\n",
       "    <tr>\n",
       "      <th>119384</th>\n",
       "      <td>City Hotel</td>\n",
       "      <td>0</td>\n",
       "      <td>21</td>\n",
       "      <td>2</td>\n",
       "      <td>5</td>\n",
       "      <td>2</td>\n",
       "      <td>0.0</td>\n",
       "      <td>0</td>\n",
       "      <td>BB</td>\n",
       "      <td>Offline TA/TO</td>\n",
       "      <td>...</td>\n",
       "      <td>No Deposit</td>\n",
       "      <td>0</td>\n",
       "      <td>Transient</td>\n",
       "      <td>96.14</td>\n",
       "      <td>0</td>\n",
       "      <td>2</td>\n",
       "      <td>Check-Out</td>\n",
       "      <td>summer</td>\n",
       "      <td>1</td>\n",
       "      <td>0</td>\n",
       "    </tr>\n",
       "    <tr>\n",
       "      <th>119385</th>\n",
       "      <td>City Hotel</td>\n",
       "      <td>0</td>\n",
       "      <td>23</td>\n",
       "      <td>2</td>\n",
       "      <td>5</td>\n",
       "      <td>2</td>\n",
       "      <td>0.0</td>\n",
       "      <td>0</td>\n",
       "      <td>BB</td>\n",
       "      <td>Offline TA/TO</td>\n",
       "      <td>...</td>\n",
       "      <td>No Deposit</td>\n",
       "      <td>0</td>\n",
       "      <td>Transient</td>\n",
       "      <td>96.14</td>\n",
       "      <td>0</td>\n",
       "      <td>0</td>\n",
       "      <td>Check-Out</td>\n",
       "      <td>summer</td>\n",
       "      <td>1</td>\n",
       "      <td>0</td>\n",
       "    </tr>\n",
       "    <tr>\n",
       "      <th>119386</th>\n",
       "      <td>City Hotel</td>\n",
       "      <td>0</td>\n",
       "      <td>102</td>\n",
       "      <td>2</td>\n",
       "      <td>5</td>\n",
       "      <td>3</td>\n",
       "      <td>0.0</td>\n",
       "      <td>0</td>\n",
       "      <td>BB</td>\n",
       "      <td>Online TA</td>\n",
       "      <td>...</td>\n",
       "      <td>No Deposit</td>\n",
       "      <td>0</td>\n",
       "      <td>Transient</td>\n",
       "      <td>225.43</td>\n",
       "      <td>0</td>\n",
       "      <td>2</td>\n",
       "      <td>Check-Out</td>\n",
       "      <td>summer</td>\n",
       "      <td>1</td>\n",
       "      <td>0</td>\n",
       "    </tr>\n",
       "    <tr>\n",
       "      <th>119387</th>\n",
       "      <td>City Hotel</td>\n",
       "      <td>0</td>\n",
       "      <td>34</td>\n",
       "      <td>2</td>\n",
       "      <td>5</td>\n",
       "      <td>2</td>\n",
       "      <td>0.0</td>\n",
       "      <td>0</td>\n",
       "      <td>BB</td>\n",
       "      <td>Online TA</td>\n",
       "      <td>...</td>\n",
       "      <td>No Deposit</td>\n",
       "      <td>0</td>\n",
       "      <td>Transient</td>\n",
       "      <td>157.71</td>\n",
       "      <td>0</td>\n",
       "      <td>4</td>\n",
       "      <td>Check-Out</td>\n",
       "      <td>summer</td>\n",
       "      <td>1</td>\n",
       "      <td>0</td>\n",
       "    </tr>\n",
       "    <tr>\n",
       "      <th>119388</th>\n",
       "      <td>City Hotel</td>\n",
       "      <td>0</td>\n",
       "      <td>109</td>\n",
       "      <td>2</td>\n",
       "      <td>5</td>\n",
       "      <td>2</td>\n",
       "      <td>0.0</td>\n",
       "      <td>0</td>\n",
       "      <td>BB</td>\n",
       "      <td>Online TA</td>\n",
       "      <td>...</td>\n",
       "      <td>No Deposit</td>\n",
       "      <td>0</td>\n",
       "      <td>Transient</td>\n",
       "      <td>104.40</td>\n",
       "      <td>0</td>\n",
       "      <td>0</td>\n",
       "      <td>Check-Out</td>\n",
       "      <td>summer</td>\n",
       "      <td>1</td>\n",
       "      <td>0</td>\n",
       "    </tr>\n",
       "  </tbody>\n",
       "</table>\n",
       "<p>110766 rows × 23 columns</p>\n",
       "</div>"
      ],
      "text/plain": [
       "               hotel  is_canceled  lead_time  stays_in_weekend_nights  \\\n",
       "2       Resort Hotel            0          7                        0   \n",
       "3       Resort Hotel            0         13                        0   \n",
       "4       Resort Hotel            0         14                        0   \n",
       "5       Resort Hotel            0         14                        0   \n",
       "6       Resort Hotel            0          0                        0   \n",
       "...              ...          ...        ...                      ...   \n",
       "119384    City Hotel            0         21                        2   \n",
       "119385    City Hotel            0         23                        2   \n",
       "119386    City Hotel            0        102                        2   \n",
       "119387    City Hotel            0         34                        2   \n",
       "119388    City Hotel            0        109                        2   \n",
       "\n",
       "        stays_in_week_nights  adults  children  babies meal market_segment  \\\n",
       "2                          1       1       0.0       0   BB         Direct   \n",
       "3                          1       1       0.0       0   BB      Corporate   \n",
       "4                          2       2       0.0       0   BB      Online TA   \n",
       "5                          2       2       0.0       0   BB      Online TA   \n",
       "6                          2       2       0.0       0   BB         Direct   \n",
       "...                      ...     ...       ...     ...  ...            ...   \n",
       "119384                     5       2       0.0       0   BB  Offline TA/TO   \n",
       "119385                     5       2       0.0       0   BB  Offline TA/TO   \n",
       "119386                     5       3       0.0       0   BB      Online TA   \n",
       "119387                     5       2       0.0       0   BB      Online TA   \n",
       "119388                     5       2       0.0       0   BB      Online TA   \n",
       "\n",
       "        ... deposit_type  days_in_waiting_list  customer_type     adr  \\\n",
       "2       ...   No Deposit                     0      Transient   75.00   \n",
       "3       ...   No Deposit                     0      Transient   75.00   \n",
       "4       ...   No Deposit                     0      Transient   98.00   \n",
       "5       ...   No Deposit                     0      Transient   98.00   \n",
       "6       ...   No Deposit                     0      Transient  107.00   \n",
       "...     ...          ...                   ...            ...     ...   \n",
       "119384  ...   No Deposit                     0      Transient   96.14   \n",
       "119385  ...   No Deposit                     0      Transient   96.14   \n",
       "119386  ...   No Deposit                     0      Transient  225.43   \n",
       "119387  ...   No Deposit                     0      Transient  157.71   \n",
       "119388  ...   No Deposit                     0      Transient  104.40   \n",
       "\n",
       "        required_car_parking_spaces total_of_special_requests  \\\n",
       "2                                 0                         0   \n",
       "3                                 0                         0   \n",
       "4                                 0                         1   \n",
       "5                                 0                         1   \n",
       "6                                 0                         0   \n",
       "...                             ...                       ...   \n",
       "119384                            0                         2   \n",
       "119385                            0                         0   \n",
       "119386                            0                         2   \n",
       "119387                            0                         4   \n",
       "119388                            0                         0   \n",
       "\n",
       "        reservation_status  seasons  Desired_Room total_bookings  \n",
       "2                Check-Out   summer             0              0  \n",
       "3                Check-Out   summer             1              0  \n",
       "4                Check-Out   summer             1              0  \n",
       "5                Check-Out   summer             1              0  \n",
       "6                Check-Out   summer             1              0  \n",
       "...                    ...      ...           ...            ...  \n",
       "119384           Check-Out   summer             1              0  \n",
       "119385           Check-Out   summer             1              0  \n",
       "119386           Check-Out   summer             1              0  \n",
       "119387           Check-Out   summer             1              0  \n",
       "119388           Check-Out   summer             1              0  \n",
       "\n",
       "[110766 rows x 23 columns]"
      ]
     },
     "execution_count": 67,
     "metadata": {},
     "output_type": "execute_result"
    }
   ],
   "source": [
    "df_stat"
   ]
  },
  {
   "cell_type": "code",
   "execution_count": 83,
   "id": "7a960123",
   "metadata": {},
   "outputs": [
    {
     "data": {
      "text/plain": [
       "(110766, 38)"
      ]
     },
     "execution_count": 83,
     "metadata": {},
     "output_type": "execute_result"
    }
   ],
   "source": [
    "encode=pd.get_dummies(df_stat, drop_first=True)\n",
    "encode.shape"
   ]
  },
  {
   "cell_type": "code",
   "execution_count": 84,
   "id": "1608a0c2",
   "metadata": {},
   "outputs": [
    {
     "data": {
      "text/html": [
       "<div>\n",
       "<style scoped>\n",
       "    .dataframe tbody tr th:only-of-type {\n",
       "        vertical-align: middle;\n",
       "    }\n",
       "\n",
       "    .dataframe tbody tr th {\n",
       "        vertical-align: top;\n",
       "    }\n",
       "\n",
       "    .dataframe thead th {\n",
       "        text-align: right;\n",
       "    }\n",
       "</style>\n",
       "<table border=\"1\" class=\"dataframe\">\n",
       "  <thead>\n",
       "    <tr style=\"text-align: right;\">\n",
       "      <th></th>\n",
       "      <th>is_canceled</th>\n",
       "      <th>lead_time</th>\n",
       "      <th>stays_in_weekend_nights</th>\n",
       "      <th>stays_in_week_nights</th>\n",
       "      <th>adults</th>\n",
       "      <th>children</th>\n",
       "      <th>babies</th>\n",
       "      <th>is_repeated_guest</th>\n",
       "      <th>booking_changes</th>\n",
       "      <th>days_in_waiting_list</th>\n",
       "      <th>...</th>\n",
       "      <th>deposit_type_Non Refund</th>\n",
       "      <th>deposit_type_Refundable</th>\n",
       "      <th>customer_type_Group</th>\n",
       "      <th>customer_type_Transient</th>\n",
       "      <th>customer_type_Transient-Party</th>\n",
       "      <th>reservation_status_Check-Out</th>\n",
       "      <th>reservation_status_No-Show</th>\n",
       "      <th>seasons_Spring</th>\n",
       "      <th>seasons_Winter</th>\n",
       "      <th>seasons_summer</th>\n",
       "    </tr>\n",
       "  </thead>\n",
       "  <tbody>\n",
       "    <tr>\n",
       "      <th>2</th>\n",
       "      <td>0</td>\n",
       "      <td>7</td>\n",
       "      <td>0</td>\n",
       "      <td>1</td>\n",
       "      <td>1</td>\n",
       "      <td>0.0</td>\n",
       "      <td>0</td>\n",
       "      <td>0</td>\n",
       "      <td>0</td>\n",
       "      <td>0</td>\n",
       "      <td>...</td>\n",
       "      <td>0</td>\n",
       "      <td>0</td>\n",
       "      <td>0</td>\n",
       "      <td>1</td>\n",
       "      <td>0</td>\n",
       "      <td>1</td>\n",
       "      <td>0</td>\n",
       "      <td>0</td>\n",
       "      <td>0</td>\n",
       "      <td>1</td>\n",
       "    </tr>\n",
       "    <tr>\n",
       "      <th>3</th>\n",
       "      <td>0</td>\n",
       "      <td>13</td>\n",
       "      <td>0</td>\n",
       "      <td>1</td>\n",
       "      <td>1</td>\n",
       "      <td>0.0</td>\n",
       "      <td>0</td>\n",
       "      <td>0</td>\n",
       "      <td>0</td>\n",
       "      <td>0</td>\n",
       "      <td>...</td>\n",
       "      <td>0</td>\n",
       "      <td>0</td>\n",
       "      <td>0</td>\n",
       "      <td>1</td>\n",
       "      <td>0</td>\n",
       "      <td>1</td>\n",
       "      <td>0</td>\n",
       "      <td>0</td>\n",
       "      <td>0</td>\n",
       "      <td>1</td>\n",
       "    </tr>\n",
       "    <tr>\n",
       "      <th>4</th>\n",
       "      <td>0</td>\n",
       "      <td>14</td>\n",
       "      <td>0</td>\n",
       "      <td>2</td>\n",
       "      <td>2</td>\n",
       "      <td>0.0</td>\n",
       "      <td>0</td>\n",
       "      <td>0</td>\n",
       "      <td>0</td>\n",
       "      <td>0</td>\n",
       "      <td>...</td>\n",
       "      <td>0</td>\n",
       "      <td>0</td>\n",
       "      <td>0</td>\n",
       "      <td>1</td>\n",
       "      <td>0</td>\n",
       "      <td>1</td>\n",
       "      <td>0</td>\n",
       "      <td>0</td>\n",
       "      <td>0</td>\n",
       "      <td>1</td>\n",
       "    </tr>\n",
       "    <tr>\n",
       "      <th>5</th>\n",
       "      <td>0</td>\n",
       "      <td>14</td>\n",
       "      <td>0</td>\n",
       "      <td>2</td>\n",
       "      <td>2</td>\n",
       "      <td>0.0</td>\n",
       "      <td>0</td>\n",
       "      <td>0</td>\n",
       "      <td>0</td>\n",
       "      <td>0</td>\n",
       "      <td>...</td>\n",
       "      <td>0</td>\n",
       "      <td>0</td>\n",
       "      <td>0</td>\n",
       "      <td>1</td>\n",
       "      <td>0</td>\n",
       "      <td>1</td>\n",
       "      <td>0</td>\n",
       "      <td>0</td>\n",
       "      <td>0</td>\n",
       "      <td>1</td>\n",
       "    </tr>\n",
       "    <tr>\n",
       "      <th>6</th>\n",
       "      <td>0</td>\n",
       "      <td>0</td>\n",
       "      <td>0</td>\n",
       "      <td>2</td>\n",
       "      <td>2</td>\n",
       "      <td>0.0</td>\n",
       "      <td>0</td>\n",
       "      <td>0</td>\n",
       "      <td>0</td>\n",
       "      <td>0</td>\n",
       "      <td>...</td>\n",
       "      <td>0</td>\n",
       "      <td>0</td>\n",
       "      <td>0</td>\n",
       "      <td>1</td>\n",
       "      <td>0</td>\n",
       "      <td>1</td>\n",
       "      <td>0</td>\n",
       "      <td>0</td>\n",
       "      <td>0</td>\n",
       "      <td>1</td>\n",
       "    </tr>\n",
       "    <tr>\n",
       "      <th>...</th>\n",
       "      <td>...</td>\n",
       "      <td>...</td>\n",
       "      <td>...</td>\n",
       "      <td>...</td>\n",
       "      <td>...</td>\n",
       "      <td>...</td>\n",
       "      <td>...</td>\n",
       "      <td>...</td>\n",
       "      <td>...</td>\n",
       "      <td>...</td>\n",
       "      <td>...</td>\n",
       "      <td>...</td>\n",
       "      <td>...</td>\n",
       "      <td>...</td>\n",
       "      <td>...</td>\n",
       "      <td>...</td>\n",
       "      <td>...</td>\n",
       "      <td>...</td>\n",
       "      <td>...</td>\n",
       "      <td>...</td>\n",
       "      <td>...</td>\n",
       "    </tr>\n",
       "    <tr>\n",
       "      <th>119384</th>\n",
       "      <td>0</td>\n",
       "      <td>21</td>\n",
       "      <td>2</td>\n",
       "      <td>5</td>\n",
       "      <td>2</td>\n",
       "      <td>0.0</td>\n",
       "      <td>0</td>\n",
       "      <td>0</td>\n",
       "      <td>0</td>\n",
       "      <td>0</td>\n",
       "      <td>...</td>\n",
       "      <td>0</td>\n",
       "      <td>0</td>\n",
       "      <td>0</td>\n",
       "      <td>1</td>\n",
       "      <td>0</td>\n",
       "      <td>1</td>\n",
       "      <td>0</td>\n",
       "      <td>0</td>\n",
       "      <td>0</td>\n",
       "      <td>1</td>\n",
       "    </tr>\n",
       "    <tr>\n",
       "      <th>119385</th>\n",
       "      <td>0</td>\n",
       "      <td>23</td>\n",
       "      <td>2</td>\n",
       "      <td>5</td>\n",
       "      <td>2</td>\n",
       "      <td>0.0</td>\n",
       "      <td>0</td>\n",
       "      <td>0</td>\n",
       "      <td>0</td>\n",
       "      <td>0</td>\n",
       "      <td>...</td>\n",
       "      <td>0</td>\n",
       "      <td>0</td>\n",
       "      <td>0</td>\n",
       "      <td>1</td>\n",
       "      <td>0</td>\n",
       "      <td>1</td>\n",
       "      <td>0</td>\n",
       "      <td>0</td>\n",
       "      <td>0</td>\n",
       "      <td>1</td>\n",
       "    </tr>\n",
       "    <tr>\n",
       "      <th>119386</th>\n",
       "      <td>0</td>\n",
       "      <td>102</td>\n",
       "      <td>2</td>\n",
       "      <td>5</td>\n",
       "      <td>3</td>\n",
       "      <td>0.0</td>\n",
       "      <td>0</td>\n",
       "      <td>0</td>\n",
       "      <td>0</td>\n",
       "      <td>0</td>\n",
       "      <td>...</td>\n",
       "      <td>0</td>\n",
       "      <td>0</td>\n",
       "      <td>0</td>\n",
       "      <td>1</td>\n",
       "      <td>0</td>\n",
       "      <td>1</td>\n",
       "      <td>0</td>\n",
       "      <td>0</td>\n",
       "      <td>0</td>\n",
       "      <td>1</td>\n",
       "    </tr>\n",
       "    <tr>\n",
       "      <th>119387</th>\n",
       "      <td>0</td>\n",
       "      <td>34</td>\n",
       "      <td>2</td>\n",
       "      <td>5</td>\n",
       "      <td>2</td>\n",
       "      <td>0.0</td>\n",
       "      <td>0</td>\n",
       "      <td>0</td>\n",
       "      <td>0</td>\n",
       "      <td>0</td>\n",
       "      <td>...</td>\n",
       "      <td>0</td>\n",
       "      <td>0</td>\n",
       "      <td>0</td>\n",
       "      <td>1</td>\n",
       "      <td>0</td>\n",
       "      <td>1</td>\n",
       "      <td>0</td>\n",
       "      <td>0</td>\n",
       "      <td>0</td>\n",
       "      <td>1</td>\n",
       "    </tr>\n",
       "    <tr>\n",
       "      <th>119388</th>\n",
       "      <td>0</td>\n",
       "      <td>109</td>\n",
       "      <td>2</td>\n",
       "      <td>5</td>\n",
       "      <td>2</td>\n",
       "      <td>0.0</td>\n",
       "      <td>0</td>\n",
       "      <td>0</td>\n",
       "      <td>0</td>\n",
       "      <td>0</td>\n",
       "      <td>...</td>\n",
       "      <td>0</td>\n",
       "      <td>0</td>\n",
       "      <td>0</td>\n",
       "      <td>1</td>\n",
       "      <td>0</td>\n",
       "      <td>1</td>\n",
       "      <td>0</td>\n",
       "      <td>0</td>\n",
       "      <td>0</td>\n",
       "      <td>1</td>\n",
       "    </tr>\n",
       "  </tbody>\n",
       "</table>\n",
       "<p>110766 rows × 38 columns</p>\n",
       "</div>"
      ],
      "text/plain": [
       "        is_canceled  lead_time  stays_in_weekend_nights  stays_in_week_nights  \\\n",
       "2                 0          7                        0                     1   \n",
       "3                 0         13                        0                     1   \n",
       "4                 0         14                        0                     2   \n",
       "5                 0         14                        0                     2   \n",
       "6                 0          0                        0                     2   \n",
       "...             ...        ...                      ...                   ...   \n",
       "119384            0         21                        2                     5   \n",
       "119385            0         23                        2                     5   \n",
       "119386            0        102                        2                     5   \n",
       "119387            0         34                        2                     5   \n",
       "119388            0        109                        2                     5   \n",
       "\n",
       "        adults  children  babies  is_repeated_guest  booking_changes  \\\n",
       "2            1       0.0       0                  0                0   \n",
       "3            1       0.0       0                  0                0   \n",
       "4            2       0.0       0                  0                0   \n",
       "5            2       0.0       0                  0                0   \n",
       "6            2       0.0       0                  0                0   \n",
       "...        ...       ...     ...                ...              ...   \n",
       "119384       2       0.0       0                  0                0   \n",
       "119385       2       0.0       0                  0                0   \n",
       "119386       3       0.0       0                  0                0   \n",
       "119387       2       0.0       0                  0                0   \n",
       "119388       2       0.0       0                  0                0   \n",
       "\n",
       "        days_in_waiting_list  ...  deposit_type_Non Refund  \\\n",
       "2                          0  ...                        0   \n",
       "3                          0  ...                        0   \n",
       "4                          0  ...                        0   \n",
       "5                          0  ...                        0   \n",
       "6                          0  ...                        0   \n",
       "...                      ...  ...                      ...   \n",
       "119384                     0  ...                        0   \n",
       "119385                     0  ...                        0   \n",
       "119386                     0  ...                        0   \n",
       "119387                     0  ...                        0   \n",
       "119388                     0  ...                        0   \n",
       "\n",
       "        deposit_type_Refundable  customer_type_Group  customer_type_Transient  \\\n",
       "2                             0                    0                        1   \n",
       "3                             0                    0                        1   \n",
       "4                             0                    0                        1   \n",
       "5                             0                    0                        1   \n",
       "6                             0                    0                        1   \n",
       "...                         ...                  ...                      ...   \n",
       "119384                        0                    0                        1   \n",
       "119385                        0                    0                        1   \n",
       "119386                        0                    0                        1   \n",
       "119387                        0                    0                        1   \n",
       "119388                        0                    0                        1   \n",
       "\n",
       "        customer_type_Transient-Party  reservation_status_Check-Out  \\\n",
       "2                                   0                             1   \n",
       "3                                   0                             1   \n",
       "4                                   0                             1   \n",
       "5                                   0                             1   \n",
       "6                                   0                             1   \n",
       "...                               ...                           ...   \n",
       "119384                              0                             1   \n",
       "119385                              0                             1   \n",
       "119386                              0                             1   \n",
       "119387                              0                             1   \n",
       "119388                              0                             1   \n",
       "\n",
       "        reservation_status_No-Show  seasons_Spring  seasons_Winter  \\\n",
       "2                                0               0               0   \n",
       "3                                0               0               0   \n",
       "4                                0               0               0   \n",
       "5                                0               0               0   \n",
       "6                                0               0               0   \n",
       "...                            ...             ...             ...   \n",
       "119384                           0               0               0   \n",
       "119385                           0               0               0   \n",
       "119386                           0               0               0   \n",
       "119387                           0               0               0   \n",
       "119388                           0               0               0   \n",
       "\n",
       "        seasons_summer  \n",
       "2                    1  \n",
       "3                    1  \n",
       "4                    1  \n",
       "5                    1  \n",
       "6                    1  \n",
       "...                ...  \n",
       "119384               1  \n",
       "119385               1  \n",
       "119386               1  \n",
       "119387               1  \n",
       "119388               1  \n",
       "\n",
       "[110766 rows x 38 columns]"
      ]
     },
     "execution_count": 84,
     "metadata": {},
     "output_type": "execute_result"
    }
   ],
   "source": [
    "encode"
   ]
  },
  {
   "cell_type": "code",
   "execution_count": 85,
   "id": "abd7dc0d",
   "metadata": {},
   "outputs": [],
   "source": [
    "X=encode.drop('is_canceled',axis=1)\n",
    "y=encode['is_canceled']"
   ]
  },
  {
   "cell_type": "code",
   "execution_count": 87,
   "id": "0750d478",
   "metadata": {},
   "outputs": [
    {
     "name": "stdout",
     "output_type": "stream",
     "text": [
      "X_train (77536, 37)\n",
      "X_test (33230, 37)\n",
      "y_train (77536,)\n",
      "y_test (33230,)\n"
     ]
    }
   ],
   "source": [
    "from sklearn.model_selection import train_test_split\n",
    "X_train, X_test, y_train, y_test = train_test_split(X, y, test_size=0.3, random_state=10, stratify=y)\n",
    "print(\"X_train\", X_train.shape)\n",
    "print(\"X_test\", X_test.shape)\n",
    "print(\"y_train\", y_train.shape)\n",
    "print(\"y_test\", y_test.shape)\n",
    "#分割训练集/测试集"
   ]
  },
  {
   "cell_type": "code",
   "execution_count": 89,
   "id": "375c9ce1",
   "metadata": {},
   "outputs": [
    {
     "data": {
      "text/plain": [
       "0.9999832784889563"
      ]
     },
     "execution_count": 89,
     "metadata": {},
     "output_type": "execute_result"
    }
   ],
   "source": [
    "from scipy import stats\n",
    "f_test, p_val = stats.f_oneway(y_train, y_test, y)\n",
    "p_val\n",
    "#检验两个组具有相同总体均值的原假设"
   ]
  },
  {
   "cell_type": "code",
   "execution_count": 90,
   "id": "56c3447e",
   "metadata": {},
   "outputs": [],
   "source": [
    "from sklearn.metrics import roc_auc_score, precision_score, recall_score, accuracy_score,classification_report, f1_score"
   ]
  },
  {
   "cell_type": "code",
   "execution_count": 91,
   "id": "8fac96e6",
   "metadata": {},
   "outputs": [],
   "source": [
    "#Logistic Regression Model"
   ]
  },
  {
   "cell_type": "code",
   "execution_count": 92,
   "id": "3083a697",
   "metadata": {},
   "outputs": [],
   "source": [
    "from sklearn.linear_model import LogisticRegression"
   ]
  },
  {
   "cell_type": "code",
   "execution_count": 93,
   "id": "9430bc59",
   "metadata": {},
   "outputs": [
    {
     "data": {
      "text/plain": [
       "LogisticRegression()"
      ]
     },
     "execution_count": 93,
     "metadata": {},
     "output_type": "execute_result"
    }
   ],
   "source": [
    "lr_base=LogisticRegression()\n",
    "lr_base.fit(X_train, y_train)"
   ]
  },
  {
   "cell_type": "code",
   "execution_count": 94,
   "id": "2a80d579",
   "metadata": {},
   "outputs": [],
   "source": [
    "y_pred_lr_base_train=lr_base.predict(X_train)\n",
    "y_prob_lr_base_train=lr_base.predict_proba(X_train)\n",
    "\n",
    "y_pred_lr_base_test=lr_base.predict(X_test)\n",
    "y_prob_lr_base_test=lr_base.predict_proba(X_test)"
   ]
  },
  {
   "cell_type": "code",
   "execution_count": 95,
   "id": "251473e1",
   "metadata": {},
   "outputs": [
    {
     "name": "stdout",
     "output_type": "stream",
     "text": [
      "accuracy_score_lr_base_train 0.9999226165910029\n",
      "accuracy_score_lr_base_test 0.999939813421607\n"
     ]
    }
   ],
   "source": [
    "accuracy_score_lr_base_train=accuracy_score(y_train, y_pred_lr_base_train)\n",
    "print(\"accuracy_score_lr_base_train\", accuracy_score_lr_base_train)\n",
    "accuracy_score_lr_base_test=accuracy_score(y_test, y_pred_lr_base_test)\n",
    "print(\"accuracy_score_lr_base_test\", accuracy_score_lr_base_test)"
   ]
  },
  {
   "cell_type": "code",
   "execution_count": 96,
   "id": "8676f57b",
   "metadata": {},
   "outputs": [],
   "source": [
    "df_feature_importances= pd.DataFrame({'Variable': X_train.columns, 'feature_importances': abs(lr_base.coef_[0])})\n",
    "sorted_feature_importances = df_feature_importances.sort_values('feature_importances', ascending = False)"
   ]
  },
  {
   "cell_type": "code",
   "execution_count": 97,
   "id": "433f4114",
   "metadata": {},
   "outputs": [
    {
     "data": {
      "text/html": [
       "<div>\n",
       "<style scoped>\n",
       "    .dataframe tbody tr th:only-of-type {\n",
       "        vertical-align: middle;\n",
       "    }\n",
       "\n",
       "    .dataframe tbody tr th {\n",
       "        vertical-align: top;\n",
       "    }\n",
       "\n",
       "    .dataframe thead th {\n",
       "        text-align: right;\n",
       "    }\n",
       "</style>\n",
       "<table border=\"1\" class=\"dataframe\">\n",
       "  <thead>\n",
       "    <tr style=\"text-align: right;\">\n",
       "      <th></th>\n",
       "      <th>Variable</th>\n",
       "      <th>feature_importances</th>\n",
       "    </tr>\n",
       "  </thead>\n",
       "  <tbody>\n",
       "    <tr>\n",
       "      <th>32</th>\n",
       "      <td>reservation_status_Check-Out</td>\n",
       "      <td>16.683749</td>\n",
       "    </tr>\n",
       "    <tr>\n",
       "      <th>27</th>\n",
       "      <td>deposit_type_Non Refund</td>\n",
       "      <td>3.240855</td>\n",
       "    </tr>\n",
       "    <tr>\n",
       "      <th>12</th>\n",
       "      <td>Desired_Room</td>\n",
       "      <td>2.403825</td>\n",
       "    </tr>\n",
       "    <tr>\n",
       "      <th>30</th>\n",
       "      <td>customer_type_Transient</td>\n",
       "      <td>1.696706</td>\n",
       "    </tr>\n",
       "    <tr>\n",
       "      <th>10</th>\n",
       "      <td>required_car_parking_spaces</td>\n",
       "      <td>1.390089</td>\n",
       "    </tr>\n",
       "    <tr>\n",
       "      <th>21</th>\n",
       "      <td>market_segment_Groups</td>\n",
       "      <td>1.314646</td>\n",
       "    </tr>\n",
       "    <tr>\n",
       "      <th>3</th>\n",
       "      <td>adults</td>\n",
       "      <td>1.269825</td>\n",
       "    </tr>\n",
       "    <tr>\n",
       "      <th>26</th>\n",
       "      <td>distribution_channel_TA/TO</td>\n",
       "      <td>1.173089</td>\n",
       "    </tr>\n",
       "    <tr>\n",
       "      <th>31</th>\n",
       "      <td>customer_type_Transient-Party</td>\n",
       "      <td>1.155367</td>\n",
       "    </tr>\n",
       "    <tr>\n",
       "      <th>35</th>\n",
       "      <td>seasons_Winter</td>\n",
       "      <td>0.834190</td>\n",
       "    </tr>\n",
       "    <tr>\n",
       "      <th>22</th>\n",
       "      <td>market_segment_Offline TA/TO</td>\n",
       "      <td>0.782420</td>\n",
       "    </tr>\n",
       "    <tr>\n",
       "      <th>33</th>\n",
       "      <td>reservation_status_No-Show</td>\n",
       "      <td>0.759259</td>\n",
       "    </tr>\n",
       "    <tr>\n",
       "      <th>23</th>\n",
       "      <td>market_segment_Online TA</td>\n",
       "      <td>0.716268</td>\n",
       "    </tr>\n",
       "    <tr>\n",
       "      <th>36</th>\n",
       "      <td>seasons_summer</td>\n",
       "      <td>0.613149</td>\n",
       "    </tr>\n",
       "    <tr>\n",
       "      <th>20</th>\n",
       "      <td>market_segment_Direct</td>\n",
       "      <td>0.611769</td>\n",
       "    </tr>\n",
       "    <tr>\n",
       "      <th>24</th>\n",
       "      <td>distribution_channel_Direct</td>\n",
       "      <td>0.551698</td>\n",
       "    </tr>\n",
       "    <tr>\n",
       "      <th>11</th>\n",
       "      <td>total_of_special_requests</td>\n",
       "      <td>0.523723</td>\n",
       "    </tr>\n",
       "    <tr>\n",
       "      <th>7</th>\n",
       "      <td>booking_changes</td>\n",
       "      <td>0.505132</td>\n",
       "    </tr>\n",
       "    <tr>\n",
       "      <th>16</th>\n",
       "      <td>meal_HB</td>\n",
       "      <td>0.414073</td>\n",
       "    </tr>\n",
       "    <tr>\n",
       "      <th>1</th>\n",
       "      <td>stays_in_weekend_nights</td>\n",
       "      <td>0.383879</td>\n",
       "    </tr>\n",
       "    <tr>\n",
       "      <th>6</th>\n",
       "      <td>is_repeated_guest</td>\n",
       "      <td>0.249220</td>\n",
       "    </tr>\n",
       "    <tr>\n",
       "      <th>4</th>\n",
       "      <td>children</td>\n",
       "      <td>0.219465</td>\n",
       "    </tr>\n",
       "    <tr>\n",
       "      <th>14</th>\n",
       "      <td>hotel_Resort Hotel</td>\n",
       "      <td>0.205260</td>\n",
       "    </tr>\n",
       "    <tr>\n",
       "      <th>34</th>\n",
       "      <td>seasons_Spring</td>\n",
       "      <td>0.202291</td>\n",
       "    </tr>\n",
       "    <tr>\n",
       "      <th>19</th>\n",
       "      <td>market_segment_Corporate</td>\n",
       "      <td>0.183720</td>\n",
       "    </tr>\n",
       "    <tr>\n",
       "      <th>17</th>\n",
       "      <td>meal_SC</td>\n",
       "      <td>0.180447</td>\n",
       "    </tr>\n",
       "    <tr>\n",
       "      <th>15</th>\n",
       "      <td>meal_FB</td>\n",
       "      <td>0.127177</td>\n",
       "    </tr>\n",
       "    <tr>\n",
       "      <th>13</th>\n",
       "      <td>total_bookings</td>\n",
       "      <td>0.099960</td>\n",
       "    </tr>\n",
       "    <tr>\n",
       "      <th>8</th>\n",
       "      <td>days_in_waiting_list</td>\n",
       "      <td>0.092101</td>\n",
       "    </tr>\n",
       "    <tr>\n",
       "      <th>29</th>\n",
       "      <td>customer_type_Group</td>\n",
       "      <td>0.065558</td>\n",
       "    </tr>\n",
       "    <tr>\n",
       "      <th>25</th>\n",
       "      <td>distribution_channel_GDS</td>\n",
       "      <td>0.028008</td>\n",
       "    </tr>\n",
       "    <tr>\n",
       "      <th>2</th>\n",
       "      <td>stays_in_week_nights</td>\n",
       "      <td>0.013492</td>\n",
       "    </tr>\n",
       "    <tr>\n",
       "      <th>28</th>\n",
       "      <td>deposit_type_Refundable</td>\n",
       "      <td>0.012782</td>\n",
       "    </tr>\n",
       "    <tr>\n",
       "      <th>5</th>\n",
       "      <td>babies</td>\n",
       "      <td>0.008530</td>\n",
       "    </tr>\n",
       "    <tr>\n",
       "      <th>18</th>\n",
       "      <td>market_segment_Complementary</td>\n",
       "      <td>0.007932</td>\n",
       "    </tr>\n",
       "    <tr>\n",
       "      <th>9</th>\n",
       "      <td>adr</td>\n",
       "      <td>0.006021</td>\n",
       "    </tr>\n",
       "    <tr>\n",
       "      <th>0</th>\n",
       "      <td>lead_time</td>\n",
       "      <td>0.003058</td>\n",
       "    </tr>\n",
       "  </tbody>\n",
       "</table>\n",
       "</div>"
      ],
      "text/plain": [
       "                         Variable  feature_importances\n",
       "32   reservation_status_Check-Out            16.683749\n",
       "27        deposit_type_Non Refund             3.240855\n",
       "12                   Desired_Room             2.403825\n",
       "30        customer_type_Transient             1.696706\n",
       "10    required_car_parking_spaces             1.390089\n",
       "21          market_segment_Groups             1.314646\n",
       "3                          adults             1.269825\n",
       "26     distribution_channel_TA/TO             1.173089\n",
       "31  customer_type_Transient-Party             1.155367\n",
       "35                 seasons_Winter             0.834190\n",
       "22   market_segment_Offline TA/TO             0.782420\n",
       "33     reservation_status_No-Show             0.759259\n",
       "23       market_segment_Online TA             0.716268\n",
       "36                 seasons_summer             0.613149\n",
       "20          market_segment_Direct             0.611769\n",
       "24    distribution_channel_Direct             0.551698\n",
       "11      total_of_special_requests             0.523723\n",
       "7                 booking_changes             0.505132\n",
       "16                        meal_HB             0.414073\n",
       "1         stays_in_weekend_nights             0.383879\n",
       "6               is_repeated_guest             0.249220\n",
       "4                        children             0.219465\n",
       "14             hotel_Resort Hotel             0.205260\n",
       "34                 seasons_Spring             0.202291\n",
       "19       market_segment_Corporate             0.183720\n",
       "17                        meal_SC             0.180447\n",
       "15                        meal_FB             0.127177\n",
       "13                 total_bookings             0.099960\n",
       "8            days_in_waiting_list             0.092101\n",
       "29            customer_type_Group             0.065558\n",
       "25       distribution_channel_GDS             0.028008\n",
       "2            stays_in_week_nights             0.013492\n",
       "28        deposit_type_Refundable             0.012782\n",
       "5                          babies             0.008530\n",
       "18   market_segment_Complementary             0.007932\n",
       "9                             adr             0.006021\n",
       "0                       lead_time             0.003058"
      ]
     },
     "execution_count": 97,
     "metadata": {},
     "output_type": "execute_result"
    }
   ],
   "source": [
    "sorted_feature_importances"
   ]
  },
  {
   "cell_type": "code",
   "execution_count": 98,
   "id": "8c4ad350",
   "metadata": {},
   "outputs": [
    {
     "data": {
      "text/html": [
       "<div>\n",
       "<style scoped>\n",
       "    .dataframe tbody tr th:only-of-type {\n",
       "        vertical-align: middle;\n",
       "    }\n",
       "\n",
       "    .dataframe tbody tr th {\n",
       "        vertical-align: top;\n",
       "    }\n",
       "\n",
       "    .dataframe thead th {\n",
       "        text-align: right;\n",
       "    }\n",
       "</style>\n",
       "<table border=\"1\" class=\"dataframe\">\n",
       "  <thead>\n",
       "    <tr style=\"text-align: right;\">\n",
       "      <th>reservation_status</th>\n",
       "      <th>Canceled</th>\n",
       "      <th>Check-Out</th>\n",
       "      <th>No-Show</th>\n",
       "    </tr>\n",
       "    <tr>\n",
       "      <th>is_canceled</th>\n",
       "      <th></th>\n",
       "      <th></th>\n",
       "      <th></th>\n",
       "    </tr>\n",
       "  </thead>\n",
       "  <tbody>\n",
       "    <tr>\n",
       "      <th>0</th>\n",
       "      <td>0</td>\n",
       "      <td>69741</td>\n",
       "      <td>0</td>\n",
       "    </tr>\n",
       "    <tr>\n",
       "      <th>1</th>\n",
       "      <td>39934</td>\n",
       "      <td>0</td>\n",
       "      <td>1091</td>\n",
       "    </tr>\n",
       "  </tbody>\n",
       "</table>\n",
       "</div>"
      ],
      "text/plain": [
       "reservation_status  Canceled  Check-Out  No-Show\n",
       "is_canceled                                     \n",
       "0                          0      69741        0\n",
       "1                      39934          0     1091"
      ]
     },
     "execution_count": 98,
     "metadata": {},
     "output_type": "execute_result"
    }
   ],
   "source": [
    "pd.crosstab(df_stat[\"is_canceled\"],df_stat[\"reservation_status\"])"
   ]
  },
  {
   "cell_type": "code",
   "execution_count": 99,
   "id": "58662942",
   "metadata": {},
   "outputs": [
    {
     "data": {
      "image/png": "[encoded data removed]",
      "text/plain": [
       "<Figure size 432x288 with 1 Axes>"
      ]
     },
     "metadata": {
      "needs_background": "light"
     },
     "output_type": "display_data"
    }
   ],
   "source": [
    "sns.countplot(df_stat[\"reservation_status\"], hue=df_stat[\"is_canceled\"])\n",
    "plt.show()"
   ]
  },
  {
   "cell_type": "code",
   "execution_count": 100,
   "id": "147ba6d1",
   "metadata": {},
   "outputs": [],
   "source": [
    "#Droping the reservation test from train and test(it is not related to the predict result).\n",
    "X_train.drop([\"reservation_status_Check-Out\",\"reservation_status_No-Show\"], axis=1, inplace=True)"
   ]
  },
  {
   "cell_type": "code",
   "execution_count": 101,
   "id": "51002c0d",
   "metadata": {},
   "outputs": [
    {
     "data": {
      "text/plain": [
       "(77536, 35)"
      ]
     },
     "execution_count": 101,
     "metadata": {},
     "output_type": "execute_result"
    }
   ],
   "source": [
    "X_train.shape"
   ]
  },
  {
   "cell_type": "code",
   "execution_count": 102,
   "id": "5a073fc6",
   "metadata": {},
   "outputs": [
    {
     "data": {
      "text/plain": [
       "(33230, 35)"
      ]
     },
     "execution_count": 102,
     "metadata": {},
     "output_type": "execute_result"
    }
   ],
   "source": [
    "X_test.drop([\"reservation_status_Check-Out\",\"reservation_status_No-Show\"], axis=1, inplace=True)\n",
    "X_test.shape"
   ]
  },
  {
   "cell_type": "code",
   "execution_count": 103,
   "id": "2d284ac4",
   "metadata": {},
   "outputs": [],
   "source": [
    "lr_base=LogisticRegression()\n",
    "lr_base.fit(X_train, y_train)\n",
    "\n",
    "y_pred_lr_base_train=lr_base.predict(X_train)\n",
    "y_prob_lr_base_train=lr_base.predict_proba(X_train)\n",
    "\n",
    "y_pred_lr_base_test=lr_base.predict(X_test)\n",
    "y_prob_lr_base_test=lr_base.predict_proba(X_test)"
   ]
  },
  {
   "cell_type": "code",
   "execution_count": 104,
   "id": "a60669a5",
   "metadata": {},
   "outputs": [
    {
     "name": "stdout",
     "output_type": "stream",
     "text": [
      "accuracy_score_lr_base_train 0.7870666529096162\n",
      "accuracy_score_lr_base_test 0.7866385795967499\n"
     ]
    }
   ],
   "source": [
    "accuracy_score_lr_base_train=accuracy_score(y_train, y_pred_lr_base_train)\n",
    "print(\"accuracy_score_lr_base_train\", accuracy_score_lr_base_train)\n",
    "accuracy_score_lr_base_test=accuracy_score(y_test, y_pred_lr_base_test)\n",
    "print(\"accuracy_score_lr_base_test\", accuracy_score_lr_base_test)"
   ]
  },
  {
   "cell_type": "code",
   "execution_count": 105,
   "id": "d7a7aa4b",
   "metadata": {},
   "outputs": [
    {
     "name": "stdout",
     "output_type": "stream",
     "text": [
      "Diff_lr_base_test 0.0004280733128663172\n"
     ]
    }
   ],
   "source": [
    "Diff_lr_base_test=accuracy_score_lr_base_train-accuracy_score_lr_base_test\n",
    "print(\"Diff_lr_base_test\",abs(Diff_lr_base_test))"
   ]
  },
  {
   "cell_type": "code",
   "execution_count": 106,
   "id": "3c42e7ef",
   "metadata": {},
   "outputs": [
    {
     "name": "stdout",
     "output_type": "stream",
     "text": [
      "f1_score_lr_base_train 0.580283455792736\n",
      "f1_score_lr_base_test 0.5763730906727332\n"
     ]
    }
   ],
   "source": [
    "f1_score_lr_base_train=recall_score(y_train, y_pred_lr_base_train)\n",
    "print(\"f1_score_lr_base_train\",f1_score_lr_base_train)\n",
    "f1_score_lr_base_test=recall_score(y_test, y_pred_lr_base_test)\n",
    "print(\"f1_score_lr_base_test\",f1_score_lr_base_test)"
   ]
  },
  {
   "cell_type": "code",
   "execution_count": 107,
   "id": "a3dba188",
   "metadata": {},
   "outputs": [],
   "source": [
    "#Function for plotting the Confusion Matrix.\n",
    "from sklearn.metrics import confusion_matrix\n",
    "import matplotlib.pyplot as plt\n",
    "from matplotlib.colors import ListedColormap\n",
    "def plot_confusion_matrix(model):\n",
    "    y_pred = model.predict(X_test)\n",
    "    \n",
    "    cm = confusion_matrix(y_test, y_pred)\n",
    "\n",
    "    conf_matrix = pd.DataFrame(data = cm,columns = ['Predicted:0','Predicted:1'], index = ['Actual:0','Actual:1'])\n",
    "\n",
    "\n",
    "    sns.heatmap(conf_matrix, annot = True, fmt = 'd', cmap = ListedColormap(['lightskyblue']), cbar = False, \n",
    "                linewidths = 0.1, annot_kws = {'size':25})\n",
    "\n",
    "    plt.xticks(fontsize = 20)\n",
    "\n",
    "    plt.yticks(fontsize = 20)\n",
    "\n",
    "    plt.show()"
   ]
  },
  {
   "cell_type": "code",
   "execution_count": 108,
   "id": "06551226",
   "metadata": {},
   "outputs": [],
   "source": [
    "#Function for plotting the ROC Curve\n",
    "from sklearn.metrics import roc_curve\n",
    "from sklearn.metrics import roc_auc_score\n",
    "def plot_roc(model):\n",
    "    y_pred_prob = model.predict_proba(X_test)[:,1]\n",
    "\n",
    "    fpr, tpr, thresholds = roc_curve(y_test, y_pred_prob)\n",
    "\n",
    "    plt.plot(fpr, tpr)\n",
    "\n",
    "    # set limits for x and y axes\n",
    "    plt.xlim([0.0, 1.0])\n",
    "    plt.ylim([0.0, 1.0])\n",
    "    plt.plot([0, 1], [0, 1],'r--')\n",
    "\n",
    "    plt.title('ROC curve for Admission Prediction Classifier', fontsize = 15)\n",
    "    plt.xlabel('False positive rate (1-Specificity)', fontsize = 15)\n",
    "    plt.ylabel('True positive rate (Sensitivity)', fontsize = 15)\n",
    "\n",
    "    plt.text(x = 0.82, y = 0.3, s = ('AUC Score:',round(roc_auc_score(y_test, y_pred_prob),4)))\n",
    "\n",
    "    plt.grid(True)"
   ]
  },
  {
   "cell_type": "code",
   "execution_count": 109,
   "id": "2a05322e",
   "metadata": {},
   "outputs": [
    {
     "data": {
      "image/png": "[encoded data removed]",
      "text/plain": [
       "<Figure size 432x288 with 1 Axes>"
      ]
     },
     "metadata": {
      "needs_background": "light"
     },
     "output_type": "display_data"
    }
   ],
   "source": [
    "plot_roc(lr_base)#logicregression ROC"
   ]
  },
  {
   "cell_type": "code",
   "execution_count": 117,
   "id": "e1516e01",
   "metadata": {},
   "outputs": [
    {
     "data": {
      "text/html": [
       "<div>\n",
       "<style scoped>\n",
       "    .dataframe tbody tr th:only-of-type {\n",
       "        vertical-align: middle;\n",
       "    }\n",
       "\n",
       "    .dataframe tbody tr th {\n",
       "        vertical-align: top;\n",
       "    }\n",
       "\n",
       "    .dataframe thead th {\n",
       "        text-align: right;\n",
       "    }\n",
       "</style>\n",
       "<table border=\"1\" class=\"dataframe\">\n",
       "  <thead>\n",
       "    <tr style=\"text-align: right;\">\n",
       "      <th></th>\n",
       "      <th>Model_Name</th>\n",
       "      <th>Accuracy_Score_train</th>\n",
       "      <th>Accuracy_Score_test</th>\n",
       "      <th>f1_score_train</th>\n",
       "      <th>f1_score_test</th>\n",
       "      <th>Diff_accuracy</th>\n",
       "    </tr>\n",
       "  </thead>\n",
       "  <tbody>\n",
       "    <tr>\n",
       "      <th>0</th>\n",
       "      <td>LogicRegression</td>\n",
       "      <td>78.706665</td>\n",
       "      <td>78.663858</td>\n",
       "      <td>58.028346</td>\n",
       "      <td>57.637309</td>\n",
       "      <td>0.042807</td>\n",
       "    </tr>\n",
       "  </tbody>\n",
       "</table>\n",
       "</div>"
      ],
      "text/plain": [
       "        Model_Name Accuracy_Score_train Accuracy_Score_test f1_score_train  \\\n",
       "0  LogicRegression            78.706665           78.663858      58.028346   \n",
       "\n",
       "  f1_score_test Diff_accuracy  \n",
       "0     57.637309      0.042807  "
      ]
     },
     "execution_count": 117,
     "metadata": {},
     "output_type": "execute_result"
    }
   ],
   "source": [
    "score_card = pd.DataFrame(columns=['Model_Name','Accuracy_Score_train', \"Accuracy_Score_test\", 'f1_score_train',\"f1_score_test\", \"Diff_accuracy\"])\n",
    "Model = pd.Series({'Model_Name': \"LogicRegression\",\n",
    "                    'Accuracy_Score_train': accuracy_score_lr_base_train*100,\n",
    "                    'Accuracy_Score_test': accuracy_score_lr_base_test*100,\n",
    "                     'f1_score_train': f1_score_lr_base_train*100,\n",
    "                     'f1_score_test': f1_score_lr_base_test*100,\n",
    "                    \"Diff_accuracy\":Diff_lr_base_test*100\n",
    "                     })\n",
    "\n",
    "score_card = score_card.append(Model, ignore_index=True)\n",
    "score_card"
   ]
  },
  {
   "cell_type": "code",
   "execution_count": 118,
   "id": "8a876b38",
   "metadata": {},
   "outputs": [],
   "source": [
    "#Naive Bayes Algorithm."
   ]
  },
  {
   "cell_type": "code",
   "execution_count": 119,
   "id": "7e23e50e",
   "metadata": {},
   "outputs": [],
   "source": [
    "from sklearn.naive_bayes import BernoulliNB\n",
    "Navie_bayes = BernoulliNB()\n",
    "\n",
    "Navie_bayes.fit(X_train, y_train)\n",
    "y_pred_Navie_bayes_train=Navie_bayes.predict(X_train)\n",
    "y_prob_Navie_bayes_train=Navie_bayes.predict_proba(X_train)\n",
    "\n",
    "y_pred_Navie_bayes_test=Navie_bayes.predict(X_test)\n",
    "y_prob_Navie_bayes_test=Navie_bayes.predict_proba(X_test)"
   ]
  },
  {
   "cell_type": "code",
   "execution_count": 120,
   "id": "255759bf",
   "metadata": {},
   "outputs": [
    {
     "name": "stdout",
     "output_type": "stream",
     "text": [
      "accuracy_score_Navie_bayes_train 0.7798184069335534\n",
      "accuracy_score_Navie_bayes_test 0.780439362022269\n"
     ]
    }
   ],
   "source": [
    "accuracy_score_Navie_bayes_train=accuracy_score(y_train, y_pred_Navie_bayes_train)\n",
    "print(\"accuracy_score_Navie_bayes_train\", accuracy_score_Navie_bayes_train)\n",
    "accuracy_score_Navie_bayes_test=accuracy_score(y_test, y_pred_Navie_bayes_test)\n",
    "print(\"accuracy_score_Navie_bayes_test\", accuracy_score_Navie_bayes_test)"
   ]
  },
  {
   "cell_type": "code",
   "execution_count": 121,
   "id": "f76a0535",
   "metadata": {},
   "outputs": [
    {
     "name": "stdout",
     "output_type": "stream",
     "text": [
      "classification_report_Navie_bayes_train\n",
      "               precision    recall  f1-score   support\n",
      "\n",
      "           0       0.80      0.88      0.83     48819\n",
      "           1       0.75      0.62      0.67     28717\n",
      "\n",
      "    accuracy                           0.78     77536\n",
      "   macro avg       0.77      0.75      0.75     77536\n",
      "weighted avg       0.78      0.78      0.77     77536\n",
      "\n",
      "classification_report_Navie_bayes_test\n",
      "               precision    recall  f1-score   support\n",
      "\n",
      "           0       0.80      0.87      0.83     20922\n",
      "           1       0.74      0.62      0.68     12308\n",
      "\n",
      "    accuracy                           0.78     33230\n",
      "   macro avg       0.77      0.75      0.76     33230\n",
      "weighted avg       0.78      0.78      0.78     33230\n",
      "\n"
     ]
    }
   ],
   "source": [
    "classification_report_Navie_bayes_train=classification_report(y_train, y_pred_Navie_bayes_train)\n",
    "print(\"classification_report_Navie_bayes_train\\n\", classification_report_Navie_bayes_train)\n",
    "classification_report_Navie_bayes_test=classification_report(y_test, y_pred_Navie_bayes_test)\n",
    "print(\"classification_report_Navie_bayes_test\\n\", classification_report_Navie_bayes_test)"
   ]
  },
  {
   "cell_type": "code",
   "execution_count": 122,
   "id": "bd6fa564",
   "metadata": {},
   "outputs": [
    {
     "name": "stdout",
     "output_type": "stream",
     "text": [
      "f1_score_Navie_bayes_train 0.616533760490302\n",
      "f1_score_Navie_bayes_test 0.6199220019499513\n"
     ]
    }
   ],
   "source": [
    "f1_score_Navie_bayes_train=recall_score(y_train, y_pred_Navie_bayes_train)\n",
    "print(\"f1_score_Navie_bayes_train\",f1_score_Navie_bayes_train)\n",
    "f1_score_Navie_bayes_test=recall_score(y_test, y_pred_Navie_bayes_test)\n",
    "print(\"f1_score_Navie_bayes_test\",f1_score_Navie_bayes_test)"
   ]
  },
  {
   "cell_type": "code",
   "execution_count": 123,
   "id": "f50c3c7b",
   "metadata": {},
   "outputs": [
    {
     "name": "stdout",
     "output_type": "stream",
     "text": [
      "Diff_Navie_bayes_test 0.0006209550887156245\n"
     ]
    }
   ],
   "source": [
    "Diff_Navie_bayes_test=accuracy_score_Navie_bayes_train-accuracy_score_Navie_bayes_test\n",
    "print(\"Diff_Navie_bayes_test\",abs(Diff_Navie_bayes_test))"
   ]
  },
  {
   "cell_type": "code",
   "execution_count": 124,
   "id": "62d21049",
   "metadata": {},
   "outputs": [
    {
     "data": {
      "image/png": "[encoded data removed]",
      "text/plain": [
       "<Figure size 432x288 with 1 Axes>"
      ]
     },
     "metadata": {
      "needs_background": "light"
     },
     "output_type": "display_data"
    },
    {
     "data": {
      "image/png": "[encoded data removed]",
      "text/plain": [
       "<Figure size 432x288 with 1 Axes>"
      ]
     },
     "metadata": {
      "needs_background": "light"
     },
     "output_type": "display_data"
    }
   ],
   "source": [
    "plot_confusion_matrix(Navie_bayes)\n",
    "plot_roc(Navie_bayes)"
   ]
  },
  {
   "cell_type": "code",
   "execution_count": 125,
   "id": "a2242cdb",
   "metadata": {},
   "outputs": [
    {
     "data": {
      "text/html": [
       "<div>\n",
       "<style scoped>\n",
       "    .dataframe tbody tr th:only-of-type {\n",
       "        vertical-align: middle;\n",
       "    }\n",
       "\n",
       "    .dataframe tbody tr th {\n",
       "        vertical-align: top;\n",
       "    }\n",
       "\n",
       "    .dataframe thead th {\n",
       "        text-align: right;\n",
       "    }\n",
       "</style>\n",
       "<table border=\"1\" class=\"dataframe\">\n",
       "  <thead>\n",
       "    <tr style=\"text-align: right;\">\n",
       "      <th></th>\n",
       "      <th>Model_Name</th>\n",
       "      <th>Accuracy_Score_train</th>\n",
       "      <th>Accuracy_Score_test</th>\n",
       "      <th>f1_score_train</th>\n",
       "      <th>f1_score_test</th>\n",
       "      <th>Diff_accuracy</th>\n",
       "    </tr>\n",
       "  </thead>\n",
       "  <tbody>\n",
       "    <tr>\n",
       "      <th>0</th>\n",
       "      <td>Navie_bayes</td>\n",
       "      <td>77.981841</td>\n",
       "      <td>78.043936</td>\n",
       "      <td>61.653376</td>\n",
       "      <td>61.9922</td>\n",
       "      <td>-0.062096</td>\n",
       "    </tr>\n",
       "  </tbody>\n",
       "</table>\n",
       "</div>"
      ],
      "text/plain": [
       "    Model_Name Accuracy_Score_train Accuracy_Score_test f1_score_train  \\\n",
       "0  Navie_bayes            77.981841           78.043936      61.653376   \n",
       "\n",
       "  f1_score_test Diff_accuracy  \n",
       "0       61.9922     -0.062096  "
      ]
     },
     "execution_count": 125,
     "metadata": {},
     "output_type": "execute_result"
    }
   ],
   "source": [
    "score_card = pd.DataFrame(columns=['Model_Name','Accuracy_Score_train', \"Accuracy_Score_test\", 'f1_score_train',\"f1_score_test\", \"Diff_accuracy\"])\n",
    "Model = pd.Series({'Model_Name': \"Navie_bayes\",\n",
    "                    'Accuracy_Score_train': accuracy_score_Navie_bayes_train*100,\n",
    "                    'Accuracy_Score_test': accuracy_score_Navie_bayes_test*100,\n",
    "                     'f1_score_train': f1_score_Navie_bayes_train*100,\n",
    "                     'f1_score_test': f1_score_Navie_bayes_test*100,\n",
    "                    \"Diff_accuracy\":Diff_Navie_bayes_test*100\n",
    "                     })\n",
    "\n",
    "score_card = score_card.append(Model, ignore_index=True)\n",
    "score_card"
   ]
  },
  {
   "cell_type": "code",
   "execution_count": 126,
   "id": "349ec947",
   "metadata": {},
   "outputs": [
    {
     "name": "stdout",
     "output_type": "stream",
     "text": [
      "Best parameters for decision tree classifier:  {'alpha': 1.0} \n",
      "\n"
     ]
    }
   ],
   "source": [
    "#Naive-Bayes Algorithm with Gridsearch\n",
    "from sklearn.model_selection import GridSearchCV\n",
    "params = {'alpha': [0, 0.01, 0.1, 0.5, 1.0]}\n",
    "Navie_bayes = BernoulliNB()\n",
    "\n",
    "Navie_grid = GridSearchCV(estimator = Navie_bayes, \n",
    "                         param_grid = params, \n",
    "                         cv = 3)\n",
    "\n",
    "NB_grid = Navie_grid.fit(X_train, y_train)\n",
    "\n",
    "print('Best parameters for decision tree classifier: ', NB_grid.best_params_, '\\n')"
   ]
  },
  {
   "cell_type": "code",
   "execution_count": 127,
   "id": "1ad6b581",
   "metadata": {},
   "outputs": [
    {
     "data": {
      "text/plain": [
       "BernoulliNB()"
      ]
     },
     "execution_count": 127,
     "metadata": {},
     "output_type": "execute_result"
    }
   ],
   "source": [
    "Navie_bayes_grid = BernoulliNB(alpha= 1.0)\n",
    "Navie_bayes_grid.fit(X_train, y_train)"
   ]
  },
  {
   "cell_type": "code",
   "execution_count": 128,
   "id": "5c181c60",
   "metadata": {},
   "outputs": [],
   "source": [
    "y_pred_Navie_bayes_grid_train=Navie_bayes_grid.predict(X_train)\n",
    "y_prob_Navie_bayes_grid_train=Navie_bayes_grid.predict_proba(X_train)\n",
    "y_pred_Navie_bayes_grid_test=Navie_bayes_grid.predict(X_test)\n",
    "y_prob_Navie_bayes_grid_test=Navie_bayes_grid.predict_proba(X_test)"
   ]
  },
  {
   "cell_type": "code",
   "execution_count": 129,
   "id": "11dbe609",
   "metadata": {},
   "outputs": [
    {
     "name": "stdout",
     "output_type": "stream",
     "text": [
      "accuracy_score_Navie_bayes_grid_train 0.7798184069335534\n",
      "accuracy_score_Navie_bayes_grid_test 0.780439362022269\n"
     ]
    }
   ],
   "source": [
    "accuracy_score_Navie_bayes_grid_train=accuracy_score(y_train, y_pred_Navie_bayes_grid_train)\n",
    "print(\"accuracy_score_Navie_bayes_grid_train\", accuracy_score_Navie_bayes_grid_train)\n",
    "accuracy_score_Navie_bayes_grid_test=accuracy_score(y_test, y_pred_Navie_bayes_grid_test)\n",
    "print(\"accuracy_score_Navie_bayes_grid_test\", accuracy_score_Navie_bayes_grid_test)"
   ]
  },
  {
   "cell_type": "code",
   "execution_count": 130,
   "id": "d1bdccc0",
   "metadata": {},
   "outputs": [
    {
     "name": "stdout",
     "output_type": "stream",
     "text": [
      "classification_report_Navie_bayes_grid_train\n",
      "               precision    recall  f1-score   support\n",
      "\n",
      "           0       0.80      0.88      0.83     48819\n",
      "           1       0.75      0.62      0.67     28717\n",
      "\n",
      "    accuracy                           0.78     77536\n",
      "   macro avg       0.77      0.75      0.75     77536\n",
      "weighted avg       0.78      0.78      0.77     77536\n",
      "\n",
      "classification_report_Navie_bayes_grid_test\n",
      "               precision    recall  f1-score   support\n",
      "\n",
      "           0       0.80      0.87      0.83     20922\n",
      "           1       0.74      0.62      0.68     12308\n",
      "\n",
      "    accuracy                           0.78     33230\n",
      "   macro avg       0.77      0.75      0.76     33230\n",
      "weighted avg       0.78      0.78      0.78     33230\n",
      "\n"
     ]
    }
   ],
   "source": [
    "classification_report_Navie_bayes_grid_train=classification_report(y_train, y_pred_Navie_bayes_grid_train)\n",
    "print(\"classification_report_Navie_bayes_grid_train\\n\", classification_report_Navie_bayes_grid_train)\n",
    "classification_report_Navie_bayes_grid_test=classification_report(y_test, y_pred_Navie_bayes_grid_test)\n",
    "print(\"classification_report_Navie_bayes_grid_test\\n\", classification_report_Navie_bayes_grid_test)"
   ]
  },
  {
   "cell_type": "code",
   "execution_count": 131,
   "id": "eaaa6873",
   "metadata": {},
   "outputs": [
    {
     "name": "stdout",
     "output_type": "stream",
     "text": [
      "f1_score_Navie_bayes_grid_train 0.616533760490302\n",
      "f1_score_Navie_bayes_grid_test 0.6199220019499513\n"
     ]
    }
   ],
   "source": [
    "f1_score_Navie_bayes_grid_train=recall_score(y_train, y_pred_Navie_bayes_grid_train)\n",
    "print(\"f1_score_Navie_bayes_grid_train\",f1_score_Navie_bayes_grid_train)\n",
    "f1_score_Navie_bayes_grid_test=recall_score(y_test, y_pred_Navie_bayes_grid_test)\n",
    "print(\"f1_score_Navie_bayes_grid_test\",f1_score_Navie_bayes_grid_test)"
   ]
  },
  {
   "cell_type": "code",
   "execution_count": 132,
   "id": "d320ba11",
   "metadata": {},
   "outputs": [
    {
     "name": "stdout",
     "output_type": "stream",
     "text": [
      "Diff_Navie_bayes_grid_test 0.0006209550887156245\n"
     ]
    }
   ],
   "source": [
    "Diff_Navie_bayes_grid_test=accuracy_score_Navie_bayes_grid_train-accuracy_score_Navie_bayes_grid_test\n",
    "print(\"Diff_Navie_bayes_grid_test\",abs(Diff_Navie_bayes_grid_test))"
   ]
  },
  {
   "cell_type": "code",
   "execution_count": 133,
   "id": "d7afac6d",
   "metadata": {},
   "outputs": [
    {
     "data": {
      "image/png": "[encoded data removed]",
      "text/plain": [
       "<Figure size 432x288 with 1 Axes>"
      ]
     },
     "metadata": {
      "needs_background": "light"
     },
     "output_type": "display_data"
    },
    {
     "data": {
      "image/png": "[encoded data removed]",
      "text/plain": [
       "<Figure size 432x288 with 1 Axes>"
      ]
     },
     "metadata": {
      "needs_background": "light"
     },
     "output_type": "display_data"
    }
   ],
   "source": [
    "plot_confusion_matrix(Navie_bayes_grid)\n",
    "plot_roc(Navie_bayes_grid)"
   ]
  },
  {
   "cell_type": "code",
   "execution_count": 134,
   "id": "7ab941d5",
   "metadata": {},
   "outputs": [
    {
     "data": {
      "text/html": [
       "<div>\n",
       "<style scoped>\n",
       "    .dataframe tbody tr th:only-of-type {\n",
       "        vertical-align: middle;\n",
       "    }\n",
       "\n",
       "    .dataframe tbody tr th {\n",
       "        vertical-align: top;\n",
       "    }\n",
       "\n",
       "    .dataframe thead th {\n",
       "        text-align: right;\n",
       "    }\n",
       "</style>\n",
       "<table border=\"1\" class=\"dataframe\">\n",
       "  <thead>\n",
       "    <tr style=\"text-align: right;\">\n",
       "      <th></th>\n",
       "      <th>Model_Name</th>\n",
       "      <th>Accuracy_Score_train</th>\n",
       "      <th>Accuracy_Score_test</th>\n",
       "      <th>f1_score_train</th>\n",
       "      <th>f1_score_test</th>\n",
       "      <th>Diff_accuracy</th>\n",
       "    </tr>\n",
       "  </thead>\n",
       "  <tbody>\n",
       "    <tr>\n",
       "      <th>0</th>\n",
       "      <td>Navie_bayes</td>\n",
       "      <td>77.981841</td>\n",
       "      <td>78.043936</td>\n",
       "      <td>61.653376</td>\n",
       "      <td>61.9922</td>\n",
       "      <td>-0.062096</td>\n",
       "    </tr>\n",
       "    <tr>\n",
       "      <th>1</th>\n",
       "      <td>Navie_bayes_grid</td>\n",
       "      <td>77.981841</td>\n",
       "      <td>78.043936</td>\n",
       "      <td>61.653376</td>\n",
       "      <td>61.9922</td>\n",
       "      <td>-0.062096</td>\n",
       "    </tr>\n",
       "  </tbody>\n",
       "</table>\n",
       "</div>"
      ],
      "text/plain": [
       "         Model_Name Accuracy_Score_train Accuracy_Score_test f1_score_train  \\\n",
       "0       Navie_bayes            77.981841           78.043936      61.653376   \n",
       "1  Navie_bayes_grid            77.981841           78.043936      61.653376   \n",
       "\n",
       "  f1_score_test Diff_accuracy  \n",
       "0       61.9922     -0.062096  \n",
       "1       61.9922     -0.062096  "
      ]
     },
     "execution_count": 134,
     "metadata": {},
     "output_type": "execute_result"
    }
   ],
   "source": [
    "Model = pd.Series({'Model_Name': \"Navie_bayes_grid\",\n",
    "                    'Accuracy_Score_train': accuracy_score_Navie_bayes_grid_train*100,\n",
    "                    'Accuracy_Score_test': accuracy_score_Navie_bayes_grid_test*100,\n",
    "                     'f1_score_train': f1_score_Navie_bayes_grid_train*100,\n",
    "                     'f1_score_test': f1_score_Navie_bayes_grid_test*100,\n",
    "                    \"Diff_accuracy\":Diff_Navie_bayes_grid_test*100\n",
    "                     })\n",
    "\n",
    "score_card = score_card.append(Model, ignore_index=True)\n",
    "\n",
    "score_card"
   ]
  },
  {
   "cell_type": "code",
   "execution_count": 237,
   "id": "82ee62e5",
   "metadata": {},
   "outputs": [],
   "source": [
    "#AdaBoost Algorithm.\n",
    "from sklearn.ensemble import AdaBoostClassifier\n",
    "ada_model = AdaBoostClassifier(n_estimators = 12, random_state = 10)\n",
    "\n",
    "ada_model.fit(X_train, y_train)\n",
    "y_pred_ada_model_train=ada_model.predict(X_train)\n",
    "y_prob_ada_model_train=ada_model.predict_proba(X_train)\n",
    "\n",
    "y_pred_ada_model_test=ada_model.predict(X_test)\n",
    "y_prob_ada_model_test=ada_model.predict_proba(X_test)"
   ]
  },
  {
   "cell_type": "code",
   "execution_count": 137,
   "id": "3ade3528",
   "metadata": {},
   "outputs": [
    {
     "name": "stdout",
     "output_type": "stream",
     "text": [
      "accuracy_score_ada_model_train 0.8105009286009079\n",
      "accuracy_score_ada_model_test 0.81017153174842\n"
     ]
    }
   ],
   "source": [
    "accuracy_score_ada_model_train=accuracy_score(y_train, y_pred_ada_model_train)\n",
    "print(\"accuracy_score_ada_model_train\", accuracy_score_ada_model_train)\n",
    "accuracy_score_ada_model_test=accuracy_score(y_test, y_pred_ada_model_test)\n",
    "print(\"accuracy_score_ada_model_test\", accuracy_score_ada_model_test)"
   ]
  },
  {
   "cell_type": "code",
   "execution_count": 138,
   "id": "6a3b0257",
   "metadata": {},
   "outputs": [
    {
     "name": "stdout",
     "output_type": "stream",
     "text": [
      "classification_report_ada_model_train\n",
      "               precision    recall  f1-score   support\n",
      "\n",
      "           0       0.80      0.94      0.86     48819\n",
      "           1       0.85      0.60      0.70     28717\n",
      "\n",
      "    accuracy                           0.81     77536\n",
      "   macro avg       0.82      0.77      0.78     77536\n",
      "weighted avg       0.82      0.81      0.80     77536\n",
      "\n",
      "classification_report_ada_model_test\n",
      "               precision    recall  f1-score   support\n",
      "\n",
      "           0       0.80      0.93      0.86     20922\n",
      "           1       0.84      0.60      0.70     12308\n",
      "\n",
      "    accuracy                           0.81     33230\n",
      "   macro avg       0.82      0.77      0.78     33230\n",
      "weighted avg       0.81      0.81      0.80     33230\n",
      "\n"
     ]
    }
   ],
   "source": [
    "classification_report_ada_model_train=classification_report(y_train, y_pred_ada_model_train)\n",
    "print(\"classification_report_ada_model_train\\n\", classification_report_ada_model_train)\n",
    "classification_report_ada_model_test=classification_report(y_test, y_pred_ada_model_test)\n",
    "print(\"classification_report_ada_model_test\\n\", classification_report_ada_model_test)"
   ]
  },
  {
   "cell_type": "code",
   "execution_count": 139,
   "id": "def1966d",
   "metadata": {},
   "outputs": [
    {
     "name": "stdout",
     "output_type": "stream",
     "text": [
      "f1_score_ada_model_train 0.597694745272835\n",
      "f1_score_ada_model_test 0.6000974975625609\n"
     ]
    }
   ],
   "source": [
    "f1_score_ada_model_train=recall_score(y_train, y_pred_ada_model_train)\n",
    "print(\"f1_score_ada_model_train\",f1_score_ada_model_train)\n",
    "f1_score_ada_model_test=recall_score(y_test, y_pred_ada_model_test)\n",
    "print(\"f1_score_ada_model_test\",f1_score_ada_model_test)"
   ]
  },
  {
   "cell_type": "code",
   "execution_count": 140,
   "id": "c78dcd2b",
   "metadata": {},
   "outputs": [
    {
     "name": "stdout",
     "output_type": "stream",
     "text": [
      "Diff_ada_model_test 0.0003293968524878954\n"
     ]
    }
   ],
   "source": [
    "Diff_ada_model_test=accuracy_score_ada_model_train-accuracy_score_ada_model_test\n",
    "print(\"Diff_ada_model_test\",abs(Diff_ada_model_test))"
   ]
  },
  {
   "cell_type": "code",
   "execution_count": 141,
   "id": "f1a6f158",
   "metadata": {},
   "outputs": [
    {
     "data": {
      "image/png": "[encoded data removed]",
      "text/plain": [
       "<Figure size 432x288 with 1 Axes>"
      ]
     },
     "metadata": {
      "needs_background": "light"
     },
     "output_type": "display_data"
    },
    {
     "data": {
      "image/png": "[encoded data removed]",
      "text/plain": [
       "<Figure size 432x288 with 1 Axes>"
      ]
     },
     "metadata": {
      "needs_background": "light"
     },
     "output_type": "display_data"
    }
   ],
   "source": [
    "plot_confusion_matrix(ada_model)\n",
    "plot_roc(ada_model)"
   ]
  },
  {
   "cell_type": "code",
   "execution_count": 142,
   "id": "591e2ded",
   "metadata": {},
   "outputs": [
    {
     "data": {
      "text/html": [
       "<div>\n",
       "<style scoped>\n",
       "    .dataframe tbody tr th:only-of-type {\n",
       "        vertical-align: middle;\n",
       "    }\n",
       "\n",
       "    .dataframe tbody tr th {\n",
       "        vertical-align: top;\n",
       "    }\n",
       "\n",
       "    .dataframe thead th {\n",
       "        text-align: right;\n",
       "    }\n",
       "</style>\n",
       "<table border=\"1\" class=\"dataframe\">\n",
       "  <thead>\n",
       "    <tr style=\"text-align: right;\">\n",
       "      <th></th>\n",
       "      <th>Model_Name</th>\n",
       "      <th>Accuracy_Score_train</th>\n",
       "      <th>Accuracy_Score_test</th>\n",
       "      <th>f1_score_train</th>\n",
       "      <th>f1_score_test</th>\n",
       "      <th>Diff_accuracy</th>\n",
       "    </tr>\n",
       "  </thead>\n",
       "  <tbody>\n",
       "    <tr>\n",
       "      <th>0</th>\n",
       "      <td>Navie_bayes</td>\n",
       "      <td>77.981841</td>\n",
       "      <td>78.043936</td>\n",
       "      <td>61.653376</td>\n",
       "      <td>61.9922</td>\n",
       "      <td>-0.062096</td>\n",
       "    </tr>\n",
       "    <tr>\n",
       "      <th>1</th>\n",
       "      <td>Navie_bayes_grid</td>\n",
       "      <td>77.981841</td>\n",
       "      <td>78.043936</td>\n",
       "      <td>61.653376</td>\n",
       "      <td>61.9922</td>\n",
       "      <td>-0.062096</td>\n",
       "    </tr>\n",
       "    <tr>\n",
       "      <th>2</th>\n",
       "      <td>Ada_model</td>\n",
       "      <td>81.050093</td>\n",
       "      <td>81.017153</td>\n",
       "      <td>59.769475</td>\n",
       "      <td>60.00975</td>\n",
       "      <td>0.03294</td>\n",
       "    </tr>\n",
       "  </tbody>\n",
       "</table>\n",
       "</div>"
      ],
      "text/plain": [
       "         Model_Name Accuracy_Score_train Accuracy_Score_test f1_score_train  \\\n",
       "0       Navie_bayes            77.981841           78.043936      61.653376   \n",
       "1  Navie_bayes_grid            77.981841           78.043936      61.653376   \n",
       "2         Ada_model            81.050093           81.017153      59.769475   \n",
       "\n",
       "  f1_score_test Diff_accuracy  \n",
       "0       61.9922     -0.062096  \n",
       "1       61.9922     -0.062096  \n",
       "2      60.00975       0.03294  "
      ]
     },
     "execution_count": 142,
     "metadata": {},
     "output_type": "execute_result"
    }
   ],
   "source": [
    "Model = pd.Series({'Model_Name': \"Ada_model\",\n",
    "                    'Accuracy_Score_train': accuracy_score_ada_model_train*100,\n",
    "                    'Accuracy_Score_test': accuracy_score_ada_model_test*100,\n",
    "                     'f1_score_train': f1_score_ada_model_train*100,\n",
    "                     'f1_score_test': f1_score_ada_model_test*100,\n",
    "                    \"Diff_accuracy\":Diff_ada_model_test*100\n",
    "                     })\n",
    "\n",
    "score_card = score_card.append(Model, ignore_index=True)\n",
    "score_card"
   ]
  },
  {
   "cell_type": "code",
   "execution_count": 244,
   "id": "3ccf22e2",
   "metadata": {},
   "outputs": [
    {
     "data": {
      "text/html": [
       "<div>\n",
       "<style scoped>\n",
       "    .dataframe tbody tr th:only-of-type {\n",
       "        vertical-align: middle;\n",
       "    }\n",
       "\n",
       "    .dataframe tbody tr th {\n",
       "        vertical-align: top;\n",
       "    }\n",
       "\n",
       "    .dataframe thead th {\n",
       "        text-align: right;\n",
       "    }\n",
       "</style>\n",
       "<table border=\"1\" class=\"dataframe\">\n",
       "  <thead>\n",
       "    <tr style=\"text-align: right;\">\n",
       "      <th></th>\n",
       "      <th>Variable</th>\n",
       "      <th>feature_importances</th>\n",
       "    </tr>\n",
       "  </thead>\n",
       "  <tbody>\n",
       "    <tr>\n",
       "      <th>0</th>\n",
       "      <td>lead_time</td>\n",
       "      <td>16.666667</td>\n",
       "    </tr>\n",
       "    <tr>\n",
       "      <th>12</th>\n",
       "      <td>Desired_Room</td>\n",
       "      <td>16.666667</td>\n",
       "    </tr>\n",
       "    <tr>\n",
       "      <th>7</th>\n",
       "      <td>booking_changes</td>\n",
       "      <td>8.333333</td>\n",
       "    </tr>\n",
       "    <tr>\n",
       "      <th>23</th>\n",
       "      <td>market_segment_Online TA</td>\n",
       "      <td>8.333333</td>\n",
       "    </tr>\n",
       "    <tr>\n",
       "      <th>27</th>\n",
       "      <td>deposit_type_Non Refund</td>\n",
       "      <td>8.333333</td>\n",
       "    </tr>\n",
       "    <tr>\n",
       "      <th>13</th>\n",
       "      <td>total_bookings</td>\n",
       "      <td>8.333333</td>\n",
       "    </tr>\n",
       "  </tbody>\n",
       "</table>\n",
       "</div>"
      ],
      "text/plain": [
       "                    Variable  feature_importances\n",
       "0                  lead_time            16.666667\n",
       "12              Desired_Room            16.666667\n",
       "7            booking_changes             8.333333\n",
       "23  market_segment_Online TA             8.333333\n",
       "27   deposit_type_Non Refund             8.333333\n",
       "13            total_bookings             8.333333"
      ]
     },
     "execution_count": 244,
     "metadata": {},
     "output_type": "execute_result"
    }
   ],
   "source": [
    "feature_importances= pd.DataFrame({'Variable': X_train.columns, 'feature_importances': (ada_model.feature_importances_)*100})\n",
    "sorted_feature_imp = feature_importances.sort_values('feature_importances', ascending = False)\n",
    "sorted_feature_imp.head(6)"
   ]
  },
  {
   "cell_type": "code",
   "execution_count": 197,
   "id": "d66c3090",
   "metadata": {},
   "outputs": [
    {
     "name": "stdout",
     "output_type": "stream",
     "text": [
      "Best parameters for XGBoost classifier:  {'learning_rate': 0.9, 'n_estimators': 24} \n",
      "\n"
     ]
    }
   ],
   "source": [
    "# AdaBoost with Gridsearch\n",
    "tuning_parameters = {'learning_rate': [0.5, 0.6,0.7,0.8,0.9],\n",
    "                     'n_estimators': range(2,25)}\n",
    "\n",
    "ada_model= AdaBoostClassifier( base_estimator=Navie_bayes_grid, random_state = 10)\n",
    "\n",
    "ada_grid = GridSearchCV(estimator = ada_model, param_grid = tuning_parameters, cv = 5, scoring = 'roc_auc')\n",
    "\n",
    "ada_grid.fit(X_train, y_train)\n",
    "\n",
    "print('Best parameters for XGBoost classifier: ', ada_grid.best_params_, '\\n')"
   ]
  },
  {
   "cell_type": "code",
   "execution_count": 144,
   "id": "07634792",
   "metadata": {},
   "outputs": [
    {
     "data": {
      "text/plain": [
       "AdaBoostClassifier(learning_rate=0.7, n_estimators=24, random_state=10)"
      ]
     },
     "execution_count": 144,
     "metadata": {},
     "output_type": "execute_result"
    }
   ],
   "source": [
    "ada_grid = AdaBoostClassifier(n_estimators = 24,  learning_rate=0.7, random_state = 10)\n",
    "\n",
    "ada_grid.fit(X_train, y_train)"
   ]
  },
  {
   "cell_type": "code",
   "execution_count": 145,
   "id": "1a38c773",
   "metadata": {},
   "outputs": [],
   "source": [
    "y_pred_ada_grid_train=ada_grid.predict(X_train)\n",
    "y_prob_ada_grid_train=ada_grid.predict_proba(X_train)\n",
    "\n",
    "y_pred_ada_grid_test=ada_grid.predict(X_test)\n",
    "y_prob_ada_grid_test=ada_grid.predict_proba(X_test)"
   ]
  },
  {
   "cell_type": "code",
   "execution_count": 146,
   "id": "2e5852c6",
   "metadata": {},
   "outputs": [
    {
     "name": "stdout",
     "output_type": "stream",
     "text": [
      "accuracy_score_ada_grid_train 0.8122678497730087\n",
      "accuracy_score_ada_grid_train 0.8107733975323503\n"
     ]
    }
   ],
   "source": [
    "accuracy_score_ada_grid_train=accuracy_score(y_train, y_pred_ada_grid_train)\n",
    "print(\"accuracy_score_ada_grid_train\", accuracy_score_ada_grid_train)\n",
    "accuracy_score_ada_grid_test=accuracy_score(y_test, y_pred_ada_grid_test)\n",
    "print(\"accuracy_score_ada_grid_train\", accuracy_score_ada_grid_test)"
   ]
  },
  {
   "cell_type": "code",
   "execution_count": 147,
   "id": "0c03ae54",
   "metadata": {},
   "outputs": [
    {
     "name": "stdout",
     "output_type": "stream",
     "text": [
      "classification_report_ada_grid_train\n",
      "               precision    recall  f1-score   support\n",
      "\n",
      "           0       0.80      0.93      0.86     48819\n",
      "           1       0.84      0.61      0.71     28717\n",
      "\n",
      "    accuracy                           0.81     77536\n",
      "   macro avg       0.82      0.77      0.78     77536\n",
      "weighted avg       0.82      0.81      0.80     77536\n",
      "\n",
      "classification_report_ada_grid_test\n",
      "               precision    recall  f1-score   support\n",
      "\n",
      "           0       0.80      0.93      0.86     20922\n",
      "           1       0.83      0.61      0.70     12308\n",
      "\n",
      "    accuracy                           0.81     33230\n",
      "   macro avg       0.82      0.77      0.78     33230\n",
      "weighted avg       0.81      0.81      0.80     33230\n",
      "\n"
     ]
    }
   ],
   "source": [
    "classification_report_ada_grid_train=classification_report(y_train, y_pred_ada_grid_train)\n",
    "print(\"classification_report_ada_grid_train\\n\", classification_report_ada_grid_train)\n",
    "classification_report_ada_grid_test=classification_report(y_test, y_pred_ada_grid_test)\n",
    "print(\"classification_report_ada_grid_test\\n\", classification_report_ada_grid_test)"
   ]
  },
  {
   "cell_type": "code",
   "execution_count": 148,
   "id": "583fa068",
   "metadata": {},
   "outputs": [
    {
     "name": "stdout",
     "output_type": "stream",
     "text": [
      "f1_score_ada_grid_train 0.6081763415398544\n",
      "f1_score_ada_grid_test 0.6103347416314592\n"
     ]
    }
   ],
   "source": [
    "f1_score_ada_grid_train=recall_score(y_train, y_pred_ada_grid_train)\n",
    "print(\"f1_score_ada_grid_train\",f1_score_ada_grid_train)\n",
    "f1_score_ada_grid_test=recall_score(y_test, y_pred_ada_grid_test)\n",
    "print(\"f1_score_ada_grid_test\",f1_score_ada_grid_test)"
   ]
  },
  {
   "cell_type": "code",
   "execution_count": 149,
   "id": "dbf94e09",
   "metadata": {},
   "outputs": [
    {
     "name": "stdout",
     "output_type": "stream",
     "text": [
      "Diff_ada_grid_test 0.0014944522406583616\n"
     ]
    }
   ],
   "source": [
    "Diff_ada_grid_test=accuracy_score_ada_grid_train-accuracy_score_ada_grid_test\n",
    "print(\"Diff_ada_grid_test\",abs(Diff_ada_grid_test))"
   ]
  },
  {
   "cell_type": "code",
   "execution_count": 150,
   "id": "15e626c4",
   "metadata": {},
   "outputs": [
    {
     "data": {
      "image/png": "[encoded data removed]",
      "text/plain": [
       "<Figure size 432x288 with 1 Axes>"
      ]
     },
     "metadata": {
      "needs_background": "light"
     },
     "output_type": "display_data"
    },
    {
     "data": {
      "image/png": "[encoded data removed]",
      "text/plain": [
       "<Figure size 432x288 with 1 Axes>"
      ]
     },
     "metadata": {
      "needs_background": "light"
     },
     "output_type": "display_data"
    }
   ],
   "source": [
    "plot_confusion_matrix(ada_grid)\n",
    "plot_roc(ada_grid)"
   ]
  },
  {
   "cell_type": "code",
   "execution_count": 151,
   "id": "69d10190",
   "metadata": {},
   "outputs": [
    {
     "data": {
      "text/html": [
       "<div>\n",
       "<style scoped>\n",
       "    .dataframe tbody tr th:only-of-type {\n",
       "        vertical-align: middle;\n",
       "    }\n",
       "\n",
       "    .dataframe tbody tr th {\n",
       "        vertical-align: top;\n",
       "    }\n",
       "\n",
       "    .dataframe thead th {\n",
       "        text-align: right;\n",
       "    }\n",
       "</style>\n",
       "<table border=\"1\" class=\"dataframe\">\n",
       "  <thead>\n",
       "    <tr style=\"text-align: right;\">\n",
       "      <th></th>\n",
       "      <th>Model_Name</th>\n",
       "      <th>Accuracy_Score_train</th>\n",
       "      <th>Accuracy_Score_test</th>\n",
       "      <th>f1_score_train</th>\n",
       "      <th>f1_score_test</th>\n",
       "      <th>Diff_accuracy</th>\n",
       "    </tr>\n",
       "  </thead>\n",
       "  <tbody>\n",
       "    <tr>\n",
       "      <th>0</th>\n",
       "      <td>Navie_bayes</td>\n",
       "      <td>77.981841</td>\n",
       "      <td>78.043936</td>\n",
       "      <td>61.653376</td>\n",
       "      <td>61.9922</td>\n",
       "      <td>-0.062096</td>\n",
       "    </tr>\n",
       "    <tr>\n",
       "      <th>1</th>\n",
       "      <td>Navie_bayes_grid</td>\n",
       "      <td>77.981841</td>\n",
       "      <td>78.043936</td>\n",
       "      <td>61.653376</td>\n",
       "      <td>61.9922</td>\n",
       "      <td>-0.062096</td>\n",
       "    </tr>\n",
       "    <tr>\n",
       "      <th>2</th>\n",
       "      <td>Ada_model</td>\n",
       "      <td>81.050093</td>\n",
       "      <td>81.017153</td>\n",
       "      <td>59.769475</td>\n",
       "      <td>60.00975</td>\n",
       "      <td>0.03294</td>\n",
       "    </tr>\n",
       "    <tr>\n",
       "      <th>3</th>\n",
       "      <td>Ada_grid</td>\n",
       "      <td>81.226785</td>\n",
       "      <td>81.07734</td>\n",
       "      <td>60.817634</td>\n",
       "      <td>61.033474</td>\n",
       "      <td>0.149445</td>\n",
       "    </tr>\n",
       "  </tbody>\n",
       "</table>\n",
       "</div>"
      ],
      "text/plain": [
       "         Model_Name Accuracy_Score_train Accuracy_Score_test f1_score_train  \\\n",
       "0       Navie_bayes            77.981841           78.043936      61.653376   \n",
       "1  Navie_bayes_grid            77.981841           78.043936      61.653376   \n",
       "2         Ada_model            81.050093           81.017153      59.769475   \n",
       "3          Ada_grid            81.226785            81.07734      60.817634   \n",
       "\n",
       "  f1_score_test Diff_accuracy  \n",
       "0       61.9922     -0.062096  \n",
       "1       61.9922     -0.062096  \n",
       "2      60.00975       0.03294  \n",
       "3     61.033474      0.149445  "
      ]
     },
     "execution_count": 151,
     "metadata": {},
     "output_type": "execute_result"
    }
   ],
   "source": [
    "Model = pd.Series({'Model_Name': \"Ada_grid\",\n",
    "                    'Accuracy_Score_train': accuracy_score_ada_grid_train*100,\n",
    "                    'Accuracy_Score_test': accuracy_score_ada_grid_test*100,\n",
    "                     'f1_score_train': f1_score_ada_grid_train*100,\n",
    "                     'f1_score_test': f1_score_ada_grid_test*100,\n",
    "                    \"Diff_accuracy\":Diff_ada_grid_test*100\n",
    "                     })\n",
    "\n",
    "score_card = score_card.append(Model, ignore_index=True)\n",
    "\n",
    "score_card"
   ]
  },
  {
   "cell_type": "code",
   "execution_count": 153,
   "id": "6070b04d",
   "metadata": {},
   "outputs": [],
   "source": [
    "#score_card.drop([3,4],inplace=True)\n",
    "#score_card"
   ]
  },
  {
   "cell_type": "code",
   "execution_count": null,
   "id": "9ecf572e",
   "metadata": {},
   "outputs": [],
   "source": [
    "#score_card=score_card.reset_index(drop=True)\n",
    "#score_card"
   ]
  },
  {
   "cell_type": "code",
   "execution_count": 155,
   "id": "4ea90599",
   "metadata": {},
   "outputs": [
    {
     "data": {
      "text/plain": [
       "\"\\nfeature_importances= pd.DataFrame({'Variable':X_train.columns, 'AdaBoostClassifier':ada_model.feature_importances_ })\\nsorted_feature_imp = feature_importances.sort_values('AdaBoostClassifier', ascending = False)\\nsorted_feature_imp\\n\""
      ]
     },
     "execution_count": 155,
     "metadata": {},
     "output_type": "execute_result"
    }
   ],
   "source": [
    "\"\"\"\n",
    "feature_importances= pd.DataFrame({'Variable':X_train.columns, 'AdaBoostClassifier':ada_model.feature_importances_ })\n",
    "sorted_feature_imp = feature_importances.sort_values('AdaBoostClassifier', ascending = False)\n",
    "sorted_feature_imp\n",
    "\"\"\""
   ]
  },
  {
   "cell_type": "code",
   "execution_count": 156,
   "id": "980722b4",
   "metadata": {},
   "outputs": [],
   "source": [
    "#Xgboost\n",
    "import xgboost\n",
    "from xgboost import XGBClassifier\n",
    "xgb_model = XGBClassifier(max_depth = 10, gamma = 1)\n",
    "\n",
    "xgb_model.fit(X_train, y_train)\n",
    "y_pred_xgb_model_train=xgb_model.predict(X_train)\n",
    "y_prob_xgb_model_train=xgb_model.predict_proba(X_train)\n",
    "\n",
    "y_pred_xgb_model_test=xgb_model.predict(X_test)\n",
    "y_prob_xgb_model_test=xgb_model.predict_proba(X_test)"
   ]
  },
  {
   "cell_type": "code",
   "execution_count": 157,
   "id": "575f4432",
   "metadata": {},
   "outputs": [
    {
     "name": "stdout",
     "output_type": "stream",
     "text": [
      "accuracy_score_xgb_model_train 0.9001754023937267\n",
      "accuracy_score_xgb_model_test 0.8480288895576287\n"
     ]
    }
   ],
   "source": [
    "accuracy_score_xgb_model_train=accuracy_score(y_train, y_pred_xgb_model_train)\n",
    "print(\"accuracy_score_xgb_model_train\", accuracy_score_xgb_model_train)\n",
    "accuracy_score_xgb_model_test=accuracy_score(y_test, y_pred_xgb_model_test)\n",
    "print(\"accuracy_score_xgb_model_test\", accuracy_score_xgb_model_test)"
   ]
  },
  {
   "cell_type": "code",
   "execution_count": 158,
   "id": "49254f2b",
   "metadata": {},
   "outputs": [
    {
     "name": "stdout",
     "output_type": "stream",
     "text": [
      "classification_report_xgb_model_train\n",
      "               precision    recall  f1-score   support\n",
      "\n",
      "           0       0.90      0.95      0.92     48819\n",
      "           1       0.90      0.82      0.86     28717\n",
      "\n",
      "    accuracy                           0.90     77536\n",
      "   macro avg       0.90      0.88      0.89     77536\n",
      "weighted avg       0.90      0.90      0.90     77536\n",
      "\n",
      "classification_report_xgb_model_test\n",
      "               precision    recall  f1-score   support\n",
      "\n",
      "           0       0.85      0.91      0.88     20922\n",
      "           1       0.84      0.73      0.78     12308\n",
      "\n",
      "    accuracy                           0.85     33230\n",
      "   macro avg       0.84      0.82      0.83     33230\n",
      "weighted avg       0.85      0.85      0.85     33230\n",
      "\n"
     ]
    }
   ],
   "source": [
    "classification_report_xgb_model_train=classification_report(y_train, y_pred_xgb_model_train)\n",
    "print(\"classification_report_xgb_model_train\\n\", classification_report_xgb_model_train)\n",
    "classification_report_xgb_model_test=classification_report(y_test, y_pred_xgb_model_test)\n",
    "print(\"classification_report_xgb_model_test\\n\", classification_report_xgb_model_test)"
   ]
  },
  {
   "cell_type": "code",
   "execution_count": 159,
   "id": "0683a37e",
   "metadata": {},
   "outputs": [
    {
     "name": "stdout",
     "output_type": "stream",
     "text": [
      "f1_score_xgb_model_train 0.8179127346171258\n",
      "f1_score_xgb_model_test 0.7346441338966526\n"
     ]
    }
   ],
   "source": [
    "f1_score_xgb_model_train=recall_score(y_train, y_pred_xgb_model_train)\n",
    "print(\"f1_score_xgb_model_train\",f1_score_xgb_model_train)\n",
    "f1_score_xgb_model_test=recall_score(y_test, y_pred_xgb_model_test)\n",
    "print(\"f1_score_xgb_model_test\",f1_score_xgb_model_test)"
   ]
  },
  {
   "cell_type": "code",
   "execution_count": 160,
   "id": "952580bc",
   "metadata": {},
   "outputs": [
    {
     "name": "stdout",
     "output_type": "stream",
     "text": [
      "Diff_xgb_model_test 0.05214651283609806\n"
     ]
    }
   ],
   "source": [
    "Diff_xgb_model_test=accuracy_score_xgb_model_train-accuracy_score_xgb_model_test\n",
    "print(\"Diff_xgb_model_test\",abs(Diff_xgb_model_test))"
   ]
  },
  {
   "cell_type": "code",
   "execution_count": 161,
   "id": "b6fe64da",
   "metadata": {},
   "outputs": [
    {
     "data": {
      "image/png": "[encoded data removed]",
      "text/plain": [
       "<Figure size 432x288 with 1 Axes>"
      ]
     },
     "metadata": {
      "needs_background": "light"
     },
     "output_type": "display_data"
    },
    {
     "data": {
      "image/png": "[encoded data removed]",
      "text/plain": [
       "<Figure size 432x288 with 1 Axes>"
      ]
     },
     "metadata": {
      "needs_background": "light"
     },
     "output_type": "display_data"
    }
   ],
   "source": [
    "plot_confusion_matrix(xgb_model)\n",
    "plot_roc(xgb_model)"
   ]
  },
  {
   "cell_type": "code",
   "execution_count": 162,
   "id": "6642dc9f",
   "metadata": {},
   "outputs": [
    {
     "data": {
      "text/html": [
       "<div>\n",
       "<style scoped>\n",
       "    .dataframe tbody tr th:only-of-type {\n",
       "        vertical-align: middle;\n",
       "    }\n",
       "\n",
       "    .dataframe tbody tr th {\n",
       "        vertical-align: top;\n",
       "    }\n",
       "\n",
       "    .dataframe thead th {\n",
       "        text-align: right;\n",
       "    }\n",
       "</style>\n",
       "<table border=\"1\" class=\"dataframe\">\n",
       "  <thead>\n",
       "    <tr style=\"text-align: right;\">\n",
       "      <th></th>\n",
       "      <th>Model_Name</th>\n",
       "      <th>Accuracy_Score_train</th>\n",
       "      <th>Accuracy_Score_test</th>\n",
       "      <th>f1_score_train</th>\n",
       "      <th>f1_score_test</th>\n",
       "      <th>Diff_accuracy</th>\n",
       "    </tr>\n",
       "  </thead>\n",
       "  <tbody>\n",
       "    <tr>\n",
       "      <th>0</th>\n",
       "      <td>Navie_bayes</td>\n",
       "      <td>77.981841</td>\n",
       "      <td>78.043936</td>\n",
       "      <td>61.653376</td>\n",
       "      <td>61.9922</td>\n",
       "      <td>-0.062096</td>\n",
       "    </tr>\n",
       "    <tr>\n",
       "      <th>1</th>\n",
       "      <td>Navie_bayes_grid</td>\n",
       "      <td>77.981841</td>\n",
       "      <td>78.043936</td>\n",
       "      <td>61.653376</td>\n",
       "      <td>61.9922</td>\n",
       "      <td>-0.062096</td>\n",
       "    </tr>\n",
       "    <tr>\n",
       "      <th>2</th>\n",
       "      <td>Ada_model</td>\n",
       "      <td>81.050093</td>\n",
       "      <td>81.017153</td>\n",
       "      <td>59.769475</td>\n",
       "      <td>60.00975</td>\n",
       "      <td>0.03294</td>\n",
       "    </tr>\n",
       "    <tr>\n",
       "      <th>3</th>\n",
       "      <td>Ada_grid</td>\n",
       "      <td>81.226785</td>\n",
       "      <td>81.07734</td>\n",
       "      <td>60.817634</td>\n",
       "      <td>61.033474</td>\n",
       "      <td>0.149445</td>\n",
       "    </tr>\n",
       "    <tr>\n",
       "      <th>4</th>\n",
       "      <td>xgb_model</td>\n",
       "      <td>90.01754</td>\n",
       "      <td>84.802889</td>\n",
       "      <td>81.791273</td>\n",
       "      <td>73.464413</td>\n",
       "      <td>5.214651</td>\n",
       "    </tr>\n",
       "  </tbody>\n",
       "</table>\n",
       "</div>"
      ],
      "text/plain": [
       "         Model_Name Accuracy_Score_train Accuracy_Score_test f1_score_train  \\\n",
       "0       Navie_bayes            77.981841           78.043936      61.653376   \n",
       "1  Navie_bayes_grid            77.981841           78.043936      61.653376   \n",
       "2         Ada_model            81.050093           81.017153      59.769475   \n",
       "3          Ada_grid            81.226785            81.07734      60.817634   \n",
       "4         xgb_model             90.01754           84.802889      81.791273   \n",
       "\n",
       "  f1_score_test Diff_accuracy  \n",
       "0       61.9922     -0.062096  \n",
       "1       61.9922     -0.062096  \n",
       "2      60.00975       0.03294  \n",
       "3     61.033474      0.149445  \n",
       "4     73.464413      5.214651  "
      ]
     },
     "execution_count": 162,
     "metadata": {},
     "output_type": "execute_result"
    }
   ],
   "source": [
    "Model = pd.Series({'Model_Name': \"xgb_model\",\n",
    "                    'Accuracy_Score_train': accuracy_score_xgb_model_train*100,\n",
    "                    'Accuracy_Score_test': accuracy_score_xgb_model_test*100,\n",
    "                     'f1_score_train': f1_score_xgb_model_train*100,\n",
    "                     'f1_score_test': f1_score_xgb_model_test*100,\n",
    "                    \"Diff_accuracy\":Diff_xgb_model_test*100\n",
    "                     })\n",
    "\n",
    "score_card = score_card.append(Model, ignore_index=True)\n",
    "\n",
    "score_card"
   ]
  },
  {
   "cell_type": "code",
   "execution_count": 163,
   "id": "9fce3e60",
   "metadata": {},
   "outputs": [
    {
     "name": "stdout",
     "output_type": "stream",
     "text": [
      "Best parameters for XGBoost classifier:  {'learning_rate': 0.8, 'max_depth': 9, 'n_estimators': 9} \n",
      "\n"
     ]
    }
   ],
   "source": [
    "#XgBoost Algorithm with Gridsearch\n",
    "tuning_parameters = {'learning_rate': [0.001, 0.01, 0.1, 0.2, 0.3, 0.4, 0.5, 0.6,0.7,0.8,0.9,1],\n",
    "                     'max_depth': range(1,10),\n",
    "                     'n_estimators': range(2,10)}\n",
    "\n",
    "xgb_model = XGBClassifier()\n",
    "\n",
    "xgb_grid = GridSearchCV(estimator = xgb_model, param_grid = tuning_parameters, cv = 3, scoring = 'roc_auc')\n",
    "\n",
    "xgb_grid.fit(X_train, y_train)\n",
    "\n",
    "print('Best parameters for XGBoost classifier: ', xgb_grid.best_params_, '\\n')"
   ]
  },
  {
   "cell_type": "code",
   "execution_count": 164,
   "id": "28baffad",
   "metadata": {},
   "outputs": [
    {
     "data": {
      "text/plain": [
       "XGBClassifier(base_score=None, booster=None, callbacks=None,\n",
       "              colsample_bylevel=None, colsample_bynode=None,\n",
       "              colsample_bytree=None, early_stopping_rounds=None,\n",
       "              enable_categorical=False, eval_metric=None, feature_types=None,\n",
       "              gamma=None, gpu_id=None, grow_policy=None, importance_type=None,\n",
       "              interaction_constraints=None, learning_rate=0.8, max_bin=None,\n",
       "              max_cat_threshold=None, max_cat_to_onehot=None,\n",
       "              max_delta_step=None, max_depth=9, max_leaves=None,\n",
       "              min_child_weight=None, missing=nan, monotone_constraints=None,\n",
       "              n_estimators=9, n_jobs=None, num_parallel_tree=None,\n",
       "              predictor=None, random_state=None, ...)"
      ]
     },
     "execution_count": 164,
     "metadata": {},
     "output_type": "execute_result"
    }
   ],
   "source": [
    "xgb_grid = XGBClassifier(max_depth = 9, n_estimators = 9, learning_rate= 0.8)\n",
    "\n",
    "xgb_grid.fit(X_train, y_train)"
   ]
  },
  {
   "cell_type": "code",
   "execution_count": 166,
   "id": "009dec46",
   "metadata": {},
   "outputs": [],
   "source": [
    "y_pred_xgb_grid_train=xgb_grid.predict(X_train)\n",
    "y_prob_xgb_grid_train=xgb_grid.predict_proba(X_train)\n",
    "\n",
    "y_pred_xgb_grid_test=xgb_grid.predict(X_test)\n",
    "y_prob_xgb_grid_test=xgb_grid.predict_proba(X_test)"
   ]
  },
  {
   "cell_type": "code",
   "execution_count": 167,
   "id": "43252b16",
   "metadata": {},
   "outputs": [
    {
     "name": "stdout",
     "output_type": "stream",
     "text": [
      "accuracy_score_xgb_grid_train 0.8436339248865043\n",
      "accuracy_score_xgb_grid_test 0.8308757147156184\n"
     ]
    }
   ],
   "source": [
    "accuracy_score_xgb_grid_train=accuracy_score(y_train, y_pred_xgb_grid_train)\n",
    "print(\"accuracy_score_xgb_grid_train\", accuracy_score_xgb_grid_train)\n",
    "accuracy_score_xgb_grid_test=accuracy_score(y_test, y_pred_xgb_grid_test)\n",
    "print(\"accuracy_score_xgb_grid_test\", accuracy_score_xgb_grid_test)"
   ]
  },
  {
   "cell_type": "code",
   "execution_count": 168,
   "id": "4cb62902",
   "metadata": {},
   "outputs": [
    {
     "name": "stdout",
     "output_type": "stream",
     "text": [
      "classification_report_xgb_grid_train\n",
      "               precision    recall  f1-score   support\n",
      "\n",
      "           0       0.85      0.92      0.88     48819\n",
      "           1       0.84      0.72      0.77     28717\n",
      "\n",
      "    accuracy                           0.84     77536\n",
      "   macro avg       0.84      0.82      0.83     77536\n",
      "weighted avg       0.84      0.84      0.84     77536\n",
      "\n",
      "classification_report_xgb_grid_test\n",
      "               precision    recall  f1-score   support\n",
      "\n",
      "           0       0.84      0.91      0.87     20922\n",
      "           1       0.82      0.70      0.75     12308\n",
      "\n",
      "    accuracy                           0.83     33230\n",
      "   macro avg       0.83      0.80      0.81     33230\n",
      "weighted avg       0.83      0.83      0.83     33230\n",
      "\n"
     ]
    }
   ],
   "source": [
    "classification_report_xgb_grid_train=classification_report(y_train, y_pred_xgb_grid_train)\n",
    "print(\"classification_report_xgb_grid_train\\n\", classification_report_xgb_grid_train)\n",
    "classification_report_xgb_grid_test=classification_report(y_test, y_pred_xgb_grid_test)\n",
    "print(\"classification_report_xgb_grid_test\\n\", classification_report_xgb_grid_test)"
   ]
  },
  {
   "cell_type": "code",
   "execution_count": 169,
   "id": "3b88ee9d",
   "metadata": {},
   "outputs": [
    {
     "name": "stdout",
     "output_type": "stream",
     "text": [
      "f1_score_xgb_grid_train 0.7154298847372637\n",
      "f1_score_xgb_grid_test 0.6956451088722782\n"
     ]
    }
   ],
   "source": [
    "f1_score_xgb_grid_train=recall_score(y_train, y_pred_xgb_grid_train)\n",
    "print(\"f1_score_xgb_grid_train\",f1_score_xgb_grid_train)\n",
    "f1_score_xgb_grid_test=recall_score(y_test, y_pred_xgb_grid_test)\n",
    "print(\"f1_score_xgb_grid_test\",f1_score_xgb_grid_test)"
   ]
  },
  {
   "cell_type": "code",
   "execution_count": 170,
   "id": "d97f2fd5",
   "metadata": {},
   "outputs": [
    {
     "name": "stdout",
     "output_type": "stream",
     "text": [
      "Diff_xgb_grid_test 0.012758210170885964\n"
     ]
    }
   ],
   "source": [
    "Diff_xgb_grid_test=accuracy_score_xgb_grid_train-accuracy_score_xgb_grid_test\n",
    "print(\"Diff_xgb_grid_test\",abs(Diff_xgb_grid_test))"
   ]
  },
  {
   "cell_type": "code",
   "execution_count": 172,
   "id": "b60be98d",
   "metadata": {},
   "outputs": [
    {
     "data": {
      "image/png": "[encoded data removed]",
      "text/plain": [
       "<Figure size 432x288 with 1 Axes>"
      ]
     },
     "metadata": {
      "needs_background": "light"
     },
     "output_type": "display_data"
    },
    {
     "data": {
      "image/png": "[encoded data removed]",
      "text/plain": [
       "<Figure size 432x288 with 1 Axes>"
      ]
     },
     "metadata": {
      "needs_background": "light"
     },
     "output_type": "display_data"
    }
   ],
   "source": [
    "plot_confusion_matrix(xgb_grid)\n",
    "plot_roc(xgb_grid)"
   ]
  },
  {
   "cell_type": "code",
   "execution_count": 173,
   "id": "40d26572",
   "metadata": {},
   "outputs": [
    {
     "data": {
      "text/html": [
       "<div>\n",
       "<style scoped>\n",
       "    .dataframe tbody tr th:only-of-type {\n",
       "        vertical-align: middle;\n",
       "    }\n",
       "\n",
       "    .dataframe tbody tr th {\n",
       "        vertical-align: top;\n",
       "    }\n",
       "\n",
       "    .dataframe thead th {\n",
       "        text-align: right;\n",
       "    }\n",
       "</style>\n",
       "<table border=\"1\" class=\"dataframe\">\n",
       "  <thead>\n",
       "    <tr style=\"text-align: right;\">\n",
       "      <th></th>\n",
       "      <th>Model_Name</th>\n",
       "      <th>Accuracy_Score_train</th>\n",
       "      <th>Accuracy_Score_test</th>\n",
       "      <th>f1_score_train</th>\n",
       "      <th>f1_score_test</th>\n",
       "      <th>Diff_accuracy</th>\n",
       "    </tr>\n",
       "  </thead>\n",
       "  <tbody>\n",
       "    <tr>\n",
       "      <th>0</th>\n",
       "      <td>Navie_bayes</td>\n",
       "      <td>77.981841</td>\n",
       "      <td>78.043936</td>\n",
       "      <td>61.653376</td>\n",
       "      <td>61.9922</td>\n",
       "      <td>-0.062096</td>\n",
       "    </tr>\n",
       "    <tr>\n",
       "      <th>1</th>\n",
       "      <td>Navie_bayes_grid</td>\n",
       "      <td>77.981841</td>\n",
       "      <td>78.043936</td>\n",
       "      <td>61.653376</td>\n",
       "      <td>61.9922</td>\n",
       "      <td>-0.062096</td>\n",
       "    </tr>\n",
       "    <tr>\n",
       "      <th>2</th>\n",
       "      <td>Ada_model</td>\n",
       "      <td>81.050093</td>\n",
       "      <td>81.017153</td>\n",
       "      <td>59.769475</td>\n",
       "      <td>60.00975</td>\n",
       "      <td>0.03294</td>\n",
       "    </tr>\n",
       "    <tr>\n",
       "      <th>3</th>\n",
       "      <td>Ada_grid</td>\n",
       "      <td>81.226785</td>\n",
       "      <td>81.07734</td>\n",
       "      <td>60.817634</td>\n",
       "      <td>61.033474</td>\n",
       "      <td>0.149445</td>\n",
       "    </tr>\n",
       "    <tr>\n",
       "      <th>4</th>\n",
       "      <td>xgb_model</td>\n",
       "      <td>90.01754</td>\n",
       "      <td>84.802889</td>\n",
       "      <td>81.791273</td>\n",
       "      <td>73.464413</td>\n",
       "      <td>5.214651</td>\n",
       "    </tr>\n",
       "    <tr>\n",
       "      <th>5</th>\n",
       "      <td>xgb_grid</td>\n",
       "      <td>84.363392</td>\n",
       "      <td>83.087571</td>\n",
       "      <td>71.542988</td>\n",
       "      <td>69.564511</td>\n",
       "      <td>1.275821</td>\n",
       "    </tr>\n",
       "  </tbody>\n",
       "</table>\n",
       "</div>"
      ],
      "text/plain": [
       "         Model_Name Accuracy_Score_train Accuracy_Score_test f1_score_train  \\\n",
       "0       Navie_bayes            77.981841           78.043936      61.653376   \n",
       "1  Navie_bayes_grid            77.981841           78.043936      61.653376   \n",
       "2         Ada_model            81.050093           81.017153      59.769475   \n",
       "3          Ada_grid            81.226785            81.07734      60.817634   \n",
       "4         xgb_model             90.01754           84.802889      81.791273   \n",
       "5          xgb_grid            84.363392           83.087571      71.542988   \n",
       "\n",
       "  f1_score_test Diff_accuracy  \n",
       "0       61.9922     -0.062096  \n",
       "1       61.9922     -0.062096  \n",
       "2      60.00975       0.03294  \n",
       "3     61.033474      0.149445  \n",
       "4     73.464413      5.214651  \n",
       "5     69.564511      1.275821  "
      ]
     },
     "execution_count": 173,
     "metadata": {},
     "output_type": "execute_result"
    }
   ],
   "source": [
    "Model = pd.Series({'Model_Name': \"xgb_grid\",\n",
    "                    'Accuracy_Score_train': accuracy_score_xgb_grid_train*100,\n",
    "                    'Accuracy_Score_test': accuracy_score_xgb_grid_test*100,\n",
    "                     'f1_score_train': f1_score_xgb_grid_train*100,\n",
    "                     'f1_score_test': f1_score_xgb_grid_test*100,\n",
    "                    \"Diff_accuracy\":Diff_xgb_grid_test*100\n",
    "                     })\n",
    "\n",
    "score_card = score_card.append(Model, ignore_index=True)\n",
    "\n",
    "score_card"
   ]
  },
  {
   "cell_type": "code",
   "execution_count": 198,
   "id": "c55ddffd",
   "metadata": {},
   "outputs": [],
   "source": [
    "#Voting Classifier\n",
    "import xgboost\n",
    "from sklearn.ensemble import VotingClassifier\n",
    "\n",
    "classifiers=[(\"Navie Bayes\",Navie_bayes_grid),(\"Xgboost\",xgb_model),(\"Ada\",ada_model)]\n",
    "voting_classifier=VotingClassifier(estimators=classifiers,voting='soft',weights=[0.1,0.8,0.9])\n",
    "voting_classifier.fit(X_train, y_train)\n",
    "y_pred_voting_classifier_train=voting_classifier.predict(X_train)\n",
    "y_prob_voting_classifier_train=voting_classifier.predict_proba(X_train)\n",
    "y_pred_voting_classifier_test=voting_classifier.predict(X_test)\n",
    "y_prob_voting_classifier_test=voting_classifier.predict_proba(X_test)"
   ]
  },
  {
   "cell_type": "code",
   "execution_count": 199,
   "id": "0fb8e148",
   "metadata": {},
   "outputs": [
    {
     "name": "stdout",
     "output_type": "stream",
     "text": [
      "accuracy_score_voting_classifier_train 0.8561313454395377\n",
      "accuracy_score_voting_classifier_test 0.8420102317183268\n"
     ]
    }
   ],
   "source": [
    "accuracy_score_voting_classifier_train=accuracy_score(y_train, y_pred_voting_classifier_train)\n",
    "print(\"accuracy_score_voting_classifier_train\", accuracy_score_voting_classifier_train)\n",
    "accuracy_score_voting_classifier_test=accuracy_score(y_test, y_pred_voting_classifier_test)\n",
    "print(\"accuracy_score_voting_classifier_test\", accuracy_score_voting_classifier_test)"
   ]
  },
  {
   "cell_type": "code",
   "execution_count": 200,
   "id": "cb9c4f88",
   "metadata": {},
   "outputs": [
    {
     "name": "stdout",
     "output_type": "stream",
     "text": [
      "classification_report_voting_classifier_train\n",
      "               precision    recall  f1-score   support\n",
      "\n",
      "           0       0.86      0.93      0.89     48819\n",
      "           1       0.86      0.73      0.79     28717\n",
      "\n",
      "    accuracy                           0.86     77536\n",
      "   macro avg       0.86      0.83      0.84     77536\n",
      "weighted avg       0.86      0.86      0.85     77536\n",
      "\n",
      "classification_report_voting_classifier_test\n",
      "               precision    recall  f1-score   support\n",
      "\n",
      "           0       0.84      0.92      0.88     20922\n",
      "           1       0.84      0.71      0.77     12308\n",
      "\n",
      "    accuracy                           0.84     33230\n",
      "   macro avg       0.84      0.81      0.82     33230\n",
      "weighted avg       0.84      0.84      0.84     33230\n",
      "\n"
     ]
    }
   ],
   "source": [
    "classification_report_voting_classifier_train=classification_report(y_train, y_pred_voting_classifier_train)\n",
    "print(\"classification_report_voting_classifier_train\\n\", classification_report_voting_classifier_train)\n",
    "classification_report_voting_classifier_test=classification_report(y_test, y_pred_voting_classifier_test)\n",
    "print(\"classification_report_voting_classifier_test\\n\", classification_report_voting_classifier_test)"
   ]
  },
  {
   "cell_type": "code",
   "execution_count": 201,
   "id": "e546bf2e",
   "metadata": {},
   "outputs": [
    {
     "name": "stdout",
     "output_type": "stream",
     "text": [
      "f1_score_voting_classifier_train 0.7335376257965665\n",
      "f1_score_voting_classifier_test 0.7104322391940201\n"
     ]
    }
   ],
   "source": [
    "f1_score_voting_classifier_train=recall_score(y_train, y_pred_voting_classifier_train)\n",
    "print(\"f1_score_voting_classifier_train\",f1_score_voting_classifier_train)\n",
    "f1_score_voting_classifier_test=recall_score(y_test, y_pred_voting_classifier_test)\n",
    "print(\"f1_score_voting_classifier_test\",f1_score_voting_classifier_test)"
   ]
  },
  {
   "cell_type": "code",
   "execution_count": 202,
   "id": "762ec102",
   "metadata": {},
   "outputs": [
    {
     "name": "stdout",
     "output_type": "stream",
     "text": [
      "Diff_voting_classifier_test 0.014121113721210943\n"
     ]
    }
   ],
   "source": [
    "Diff_voting_classifier_test=accuracy_score_voting_classifier_train-accuracy_score_voting_classifier_test\n",
    "print(\"Diff_voting_classifier_test\",abs(Diff_voting_classifier_test))"
   ]
  },
  {
   "cell_type": "code",
   "execution_count": 185,
   "id": "2e1d4ad7",
   "metadata": {
    "scrolled": true
   },
   "outputs": [
    {
     "data": {
      "image/png": "[encoded data removed]",
      "text/plain": [
       "<Figure size 432x288 with 1 Axes>"
      ]
     },
     "metadata": {
      "needs_background": "light"
     },
     "output_type": "display_data"
    },
    {
     "data": {
      "image/png": "[encoded data removed]",
      "text/plain": [
       "<Figure size 432x288 with 1 Axes>"
      ]
     },
     "metadata": {
      "needs_background": "light"
     },
     "output_type": "display_data"
    }
   ],
   "source": [
    "plot_confusion_matrix(voting_classifier)\n",
    "plot_roc(voting_classifier)"
   ]
  },
  {
   "cell_type": "code",
   "execution_count": 186,
   "id": "4a3e1fc4",
   "metadata": {},
   "outputs": [
    {
     "data": {
      "text/html": [
       "<div>\n",
       "<style scoped>\n",
       "    .dataframe tbody tr th:only-of-type {\n",
       "        vertical-align: middle;\n",
       "    }\n",
       "\n",
       "    .dataframe tbody tr th {\n",
       "        vertical-align: top;\n",
       "    }\n",
       "\n",
       "    .dataframe thead th {\n",
       "        text-align: right;\n",
       "    }\n",
       "</style>\n",
       "<table border=\"1\" class=\"dataframe\">\n",
       "  <thead>\n",
       "    <tr style=\"text-align: right;\">\n",
       "      <th></th>\n",
       "      <th>Model_Name</th>\n",
       "      <th>Accuracy_Score_train</th>\n",
       "      <th>Accuracy_Score_test</th>\n",
       "      <th>f1_score_train</th>\n",
       "      <th>f1_score_test</th>\n",
       "      <th>Diff_accuracy</th>\n",
       "    </tr>\n",
       "  </thead>\n",
       "  <tbody>\n",
       "    <tr>\n",
       "      <th>0</th>\n",
       "      <td>Navie_bayes</td>\n",
       "      <td>77.981841</td>\n",
       "      <td>78.043936</td>\n",
       "      <td>61.653376</td>\n",
       "      <td>61.9922</td>\n",
       "      <td>-0.062096</td>\n",
       "    </tr>\n",
       "    <tr>\n",
       "      <th>1</th>\n",
       "      <td>Navie_bayes_grid</td>\n",
       "      <td>77.981841</td>\n",
       "      <td>78.043936</td>\n",
       "      <td>61.653376</td>\n",
       "      <td>61.9922</td>\n",
       "      <td>-0.062096</td>\n",
       "    </tr>\n",
       "    <tr>\n",
       "      <th>2</th>\n",
       "      <td>Ada_model</td>\n",
       "      <td>81.050093</td>\n",
       "      <td>81.017153</td>\n",
       "      <td>59.769475</td>\n",
       "      <td>60.00975</td>\n",
       "      <td>0.03294</td>\n",
       "    </tr>\n",
       "    <tr>\n",
       "      <th>3</th>\n",
       "      <td>Ada_grid</td>\n",
       "      <td>81.226785</td>\n",
       "      <td>81.07734</td>\n",
       "      <td>60.817634</td>\n",
       "      <td>61.033474</td>\n",
       "      <td>0.149445</td>\n",
       "    </tr>\n",
       "    <tr>\n",
       "      <th>4</th>\n",
       "      <td>xgb_model</td>\n",
       "      <td>90.01754</td>\n",
       "      <td>84.802889</td>\n",
       "      <td>81.791273</td>\n",
       "      <td>73.464413</td>\n",
       "      <td>5.214651</td>\n",
       "    </tr>\n",
       "    <tr>\n",
       "      <th>5</th>\n",
       "      <td>xgb_grid</td>\n",
       "      <td>84.363392</td>\n",
       "      <td>83.087571</td>\n",
       "      <td>71.542988</td>\n",
       "      <td>69.564511</td>\n",
       "      <td>1.275821</td>\n",
       "    </tr>\n",
       "    <tr>\n",
       "      <th>6</th>\n",
       "      <td>voting_classifier</td>\n",
       "      <td>85.613135</td>\n",
       "      <td>84.201023</td>\n",
       "      <td>73.353763</td>\n",
       "      <td>71.043224</td>\n",
       "      <td>1.412111</td>\n",
       "    </tr>\n",
       "  </tbody>\n",
       "</table>\n",
       "</div>"
      ],
      "text/plain": [
       "          Model_Name Accuracy_Score_train Accuracy_Score_test f1_score_train  \\\n",
       "0        Navie_bayes            77.981841           78.043936      61.653376   \n",
       "1   Navie_bayes_grid            77.981841           78.043936      61.653376   \n",
       "2          Ada_model            81.050093           81.017153      59.769475   \n",
       "3           Ada_grid            81.226785            81.07734      60.817634   \n",
       "4          xgb_model             90.01754           84.802889      81.791273   \n",
       "5           xgb_grid            84.363392           83.087571      71.542988   \n",
       "6  voting_classifier            85.613135           84.201023      73.353763   \n",
       "\n",
       "  f1_score_test Diff_accuracy  \n",
       "0       61.9922     -0.062096  \n",
       "1       61.9922     -0.062096  \n",
       "2      60.00975       0.03294  \n",
       "3     61.033474      0.149445  \n",
       "4     73.464413      5.214651  \n",
       "5     69.564511      1.275821  \n",
       "6     71.043224      1.412111  "
      ]
     },
     "execution_count": 186,
     "metadata": {},
     "output_type": "execute_result"
    }
   ],
   "source": [
    "Model = pd.Series({'Model_Name': \"voting_classifier\",\n",
    "                    'Accuracy_Score_train': accuracy_score_voting_classifier_train*100,\n",
    "                    'Accuracy_Score_test': accuracy_score_voting_classifier_test*100,\n",
    "                     'f1_score_train': f1_score_voting_classifier_train*100,\n",
    "                     'f1_score_test': f1_score_voting_classifier_test*100,\n",
    "                    \"Diff_accuracy\":Diff_voting_classifier_test*100\n",
    "                     })\n",
    "\n",
    "score_card = score_card.append(Model, ignore_index=True)\n",
    "score_card"
   ]
  },
  {
   "cell_type": "code",
   "execution_count": 213,
   "id": "3d0fb4b5",
   "metadata": {},
   "outputs": [],
   "source": [
    " def __get_feature_importances(model, train_columns):\n",
    "    feature_imp = dict()\n",
    "    for est in model.estimators_:\n",
    "        #print(est)\n",
    "        if  type(est) == XGBClassifier:\n",
    "            feature_imp1=est.feature_importances_\n",
    "        elif type(est)== BernoulliNB:\n",
    "            feature_imp2=abs(est.coef_[0])\n",
    "        #elif type(est)== AdaBoostClassifier:\n",
    "            #feature_imp4=est.feature_importances_\n",
    "        \n",
    "    feature_importances= pd.DataFrame({'Variable': train_columns, 'xgboost': feature_imp1*100, 'NaiveBytes':feature_imp2})#'AdaBoostClassifier':feature_imp4*100 })\n",
    "    sorted_feature_imp = feature_importances.sort_values('xgboost', ascending = False)\n",
    "    return sorted_feature_imp"
   ]
  },
  {
   "cell_type": "code",
   "execution_count": 214,
   "id": "df4ee2b4",
   "metadata": {},
   "outputs": [],
   "source": [
    "sorted_feature_imp=__get_feature_importances(voting_classifier,X_train.columns)"
   ]
  },
  {
   "cell_type": "code",
   "execution_count": 215,
   "id": "4089f424",
   "metadata": {},
   "outputs": [
    {
     "data": {
      "text/html": [
       "<div>\n",
       "<style scoped>\n",
       "    .dataframe tbody tr th:only-of-type {\n",
       "        vertical-align: middle;\n",
       "    }\n",
       "\n",
       "    .dataframe tbody tr th {\n",
       "        vertical-align: top;\n",
       "    }\n",
       "\n",
       "    .dataframe thead th {\n",
       "        text-align: right;\n",
       "    }\n",
       "</style>\n",
       "<table border=\"1\" class=\"dataframe\">\n",
       "  <thead>\n",
       "    <tr style=\"text-align: right;\">\n",
       "      <th></th>\n",
       "      <th>Variable</th>\n",
       "      <th>xgboost</th>\n",
       "      <th>NaiveBytes</th>\n",
       "    </tr>\n",
       "  </thead>\n",
       "  <tbody>\n",
       "    <tr>\n",
       "      <th>27</th>\n",
       "      <td>deposit_type_Non Refund</td>\n",
       "      <td>66.021172</td>\n",
       "      <td>1.124217</td>\n",
       "    </tr>\n",
       "    <tr>\n",
       "      <th>12</th>\n",
       "      <td>Desired_Room</td>\n",
       "      <td>6.295655</td>\n",
       "      <td>0.018201</td>\n",
       "    </tr>\n",
       "    <tr>\n",
       "      <th>10</th>\n",
       "      <td>required_car_parking_spaces</td>\n",
       "      <td>5.969285</td>\n",
       "      <td>10.265314</td>\n",
       "    </tr>\n",
       "    <tr>\n",
       "      <th>23</th>\n",
       "      <td>market_segment_Online TA</td>\n",
       "      <td>2.489689</td>\n",
       "      <td>0.734050</td>\n",
       "    </tr>\n",
       "    <tr>\n",
       "      <th>13</th>\n",
       "      <td>total_bookings</td>\n",
       "      <td>2.312993</td>\n",
       "      <td>1.940735</td>\n",
       "    </tr>\n",
       "    <tr>\n",
       "      <th>11</th>\n",
       "      <td>total_of_special_requests</td>\n",
       "      <td>2.062037</td>\n",
       "      <td>1.400850</td>\n",
       "    </tr>\n",
       "    <tr>\n",
       "      <th>6</th>\n",
       "      <td>is_repeated_guest</td>\n",
       "      <td>1.783621</td>\n",
       "      <td>5.870865</td>\n",
       "    </tr>\n",
       "    <tr>\n",
       "      <th>30</th>\n",
       "      <td>customer_type_Transient</td>\n",
       "      <td>1.246327</td>\n",
       "      <td>0.191957</td>\n",
       "    </tr>\n",
       "    <tr>\n",
       "      <th>31</th>\n",
       "      <td>customer_type_Transient-Party</td>\n",
       "      <td>1.134749</td>\n",
       "      <td>1.931083</td>\n",
       "    </tr>\n",
       "    <tr>\n",
       "      <th>26</th>\n",
       "      <td>distribution_channel_TA/TO</td>\n",
       "      <td>0.900104</td>\n",
       "      <td>0.094130</td>\n",
       "    </tr>\n",
       "    <tr>\n",
       "      <th>15</th>\n",
       "      <td>meal_FB</td>\n",
       "      <td>0.861190</td>\n",
       "      <td>4.430503</td>\n",
       "    </tr>\n",
       "    <tr>\n",
       "      <th>22</th>\n",
       "      <td>market_segment_Offline TA/TO</td>\n",
       "      <td>0.858486</td>\n",
       "      <td>1.691174</td>\n",
       "    </tr>\n",
       "    <tr>\n",
       "      <th>29</th>\n",
       "      <td>customer_type_Group</td>\n",
       "      <td>0.810182</td>\n",
       "      <td>6.768807</td>\n",
       "    </tr>\n",
       "    <tr>\n",
       "      <th>7</th>\n",
       "      <td>booking_changes</td>\n",
       "      <td>0.805627</td>\n",
       "      <td>2.753790</td>\n",
       "    </tr>\n",
       "    <tr>\n",
       "      <th>14</th>\n",
       "      <td>hotel_Resort Hotel</td>\n",
       "      <td>0.667717</td>\n",
       "      <td>1.414224</td>\n",
       "    </tr>\n",
       "    <tr>\n",
       "      <th>0</th>\n",
       "      <td>lead_time</td>\n",
       "      <td>0.628995</td>\n",
       "      <td>0.009340</td>\n",
       "    </tr>\n",
       "    <tr>\n",
       "      <th>21</th>\n",
       "      <td>market_segment_Groups</td>\n",
       "      <td>0.429720</td>\n",
       "      <td>1.307804</td>\n",
       "    </tr>\n",
       "    <tr>\n",
       "      <th>17</th>\n",
       "      <td>meal_SC</td>\n",
       "      <td>0.390198</td>\n",
       "      <td>2.303944</td>\n",
       "    </tr>\n",
       "    <tr>\n",
       "      <th>8</th>\n",
       "      <td>days_in_waiting_list</td>\n",
       "      <td>0.342608</td>\n",
       "      <td>3.161170</td>\n",
       "    </tr>\n",
       "    <tr>\n",
       "      <th>19</th>\n",
       "      <td>market_segment_Corporate</td>\n",
       "      <td>0.337769</td>\n",
       "      <td>3.764025</td>\n",
       "    </tr>\n",
       "    <tr>\n",
       "      <th>9</th>\n",
       "      <td>adr</td>\n",
       "      <td>0.322212</td>\n",
       "      <td>0.000035</td>\n",
       "    </tr>\n",
       "    <tr>\n",
       "      <th>3</th>\n",
       "      <td>adults</td>\n",
       "      <td>0.318628</td>\n",
       "      <td>0.002057</td>\n",
       "    </tr>\n",
       "    <tr>\n",
       "      <th>33</th>\n",
       "      <td>seasons_Winter</td>\n",
       "      <td>0.307778</td>\n",
       "      <td>1.868031</td>\n",
       "    </tr>\n",
       "    <tr>\n",
       "      <th>32</th>\n",
       "      <td>seasons_Spring</td>\n",
       "      <td>0.297936</td>\n",
       "      <td>1.271266</td>\n",
       "    </tr>\n",
       "    <tr>\n",
       "      <th>25</th>\n",
       "      <td>distribution_channel_GDS</td>\n",
       "      <td>0.297133</td>\n",
       "      <td>7.007218</td>\n",
       "    </tr>\n",
       "    <tr>\n",
       "      <th>34</th>\n",
       "      <td>seasons_summer</td>\n",
       "      <td>0.285584</td>\n",
       "      <td>1.119406</td>\n",
       "    </tr>\n",
       "    <tr>\n",
       "      <th>16</th>\n",
       "      <td>meal_HB</td>\n",
       "      <td>0.263372</td>\n",
       "      <td>2.230035</td>\n",
       "    </tr>\n",
       "    <tr>\n",
       "      <th>2</th>\n",
       "      <td>stays_in_week_nights</td>\n",
       "      <td>0.250461</td>\n",
       "      <td>0.045594</td>\n",
       "    </tr>\n",
       "    <tr>\n",
       "      <th>28</th>\n",
       "      <td>deposit_type_Refundable</td>\n",
       "      <td>0.226424</td>\n",
       "      <td>7.046438</td>\n",
       "    </tr>\n",
       "    <tr>\n",
       "      <th>24</th>\n",
       "      <td>distribution_channel_Direct</td>\n",
       "      <td>0.225197</td>\n",
       "      <td>2.899501</td>\n",
       "    </tr>\n",
       "    <tr>\n",
       "      <th>1</th>\n",
       "      <td>stays_in_weekend_nights</td>\n",
       "      <td>0.219802</td>\n",
       "      <td>0.590234</td>\n",
       "    </tr>\n",
       "    <tr>\n",
       "      <th>4</th>\n",
       "      <td>children</td>\n",
       "      <td>0.207404</td>\n",
       "      <td>2.723101</td>\n",
       "    </tr>\n",
       "    <tr>\n",
       "      <th>20</th>\n",
       "      <td>market_segment_Direct</td>\n",
       "      <td>0.194573</td>\n",
       "      <td>3.192044</td>\n",
       "    </tr>\n",
       "    <tr>\n",
       "      <th>5</th>\n",
       "      <td>babies</td>\n",
       "      <td>0.181177</td>\n",
       "      <td>5.537926</td>\n",
       "    </tr>\n",
       "    <tr>\n",
       "      <th>18</th>\n",
       "      <td>market_segment_Complementary</td>\n",
       "      <td>0.054206</td>\n",
       "      <td>8.655876</td>\n",
       "    </tr>\n",
       "  </tbody>\n",
       "</table>\n",
       "</div>"
      ],
      "text/plain": [
       "                         Variable    xgboost  NaiveBytes\n",
       "27        deposit_type_Non Refund  66.021172    1.124217\n",
       "12                   Desired_Room   6.295655    0.018201\n",
       "10    required_car_parking_spaces   5.969285   10.265314\n",
       "23       market_segment_Online TA   2.489689    0.734050\n",
       "13                 total_bookings   2.312993    1.940735\n",
       "11      total_of_special_requests   2.062037    1.400850\n",
       "6               is_repeated_guest   1.783621    5.870865\n",
       "30        customer_type_Transient   1.246327    0.191957\n",
       "31  customer_type_Transient-Party   1.134749    1.931083\n",
       "26     distribution_channel_TA/TO   0.900104    0.094130\n",
       "15                        meal_FB   0.861190    4.430503\n",
       "22   market_segment_Offline TA/TO   0.858486    1.691174\n",
       "29            customer_type_Group   0.810182    6.768807\n",
       "7                 booking_changes   0.805627    2.753790\n",
       "14             hotel_Resort Hotel   0.667717    1.414224\n",
       "0                       lead_time   0.628995    0.009340\n",
       "21          market_segment_Groups   0.429720    1.307804\n",
       "17                        meal_SC   0.390198    2.303944\n",
       "8            days_in_waiting_list   0.342608    3.161170\n",
       "19       market_segment_Corporate   0.337769    3.764025\n",
       "9                             adr   0.322212    0.000035\n",
       "3                          adults   0.318628    0.002057\n",
       "33                 seasons_Winter   0.307778    1.868031\n",
       "32                 seasons_Spring   0.297936    1.271266\n",
       "25       distribution_channel_GDS   0.297133    7.007218\n",
       "34                 seasons_summer   0.285584    1.119406\n",
       "16                        meal_HB   0.263372    2.230035\n",
       "2            stays_in_week_nights   0.250461    0.045594\n",
       "28        deposit_type_Refundable   0.226424    7.046438\n",
       "24    distribution_channel_Direct   0.225197    2.899501\n",
       "1         stays_in_weekend_nights   0.219802    0.590234\n",
       "4                        children   0.207404    2.723101\n",
       "20          market_segment_Direct   0.194573    3.192044\n",
       "5                          babies   0.181177    5.537926\n",
       "18   market_segment_Complementary   0.054206    8.655876"
      ]
     },
     "execution_count": 215,
     "metadata": {},
     "output_type": "execute_result"
    }
   ],
   "source": [
    "sorted_feature_imp"
   ]
  },
  {
   "cell_type": "code",
   "execution_count": 219,
   "id": "2129e23a",
   "metadata": {
    "scrolled": true
   },
   "outputs": [
    {
     "data": {
      "text/html": [
       "<div>\n",
       "<style scoped>\n",
       "    .dataframe tbody tr th:only-of-type {\n",
       "        vertical-align: middle;\n",
       "    }\n",
       "\n",
       "    .dataframe tbody tr th {\n",
       "        vertical-align: top;\n",
       "    }\n",
       "\n",
       "    .dataframe thead th {\n",
       "        text-align: right;\n",
       "    }\n",
       "</style>\n",
       "<table border=\"1\" class=\"dataframe\">\n",
       "  <thead>\n",
       "    <tr style=\"text-align: right;\">\n",
       "      <th></th>\n",
       "      <th>Variable</th>\n",
       "      <th>xgboost</th>\n",
       "      <th>NaiveBytes</th>\n",
       "    </tr>\n",
       "  </thead>\n",
       "  <tbody>\n",
       "    <tr>\n",
       "      <th>27</th>\n",
       "      <td>deposit_type_Non Refund</td>\n",
       "      <td>66.021172</td>\n",
       "      <td>1.124217</td>\n",
       "    </tr>\n",
       "    <tr>\n",
       "      <th>12</th>\n",
       "      <td>Desired_Room</td>\n",
       "      <td>6.295655</td>\n",
       "      <td>0.018201</td>\n",
       "    </tr>\n",
       "    <tr>\n",
       "      <th>10</th>\n",
       "      <td>required_car_parking_spaces</td>\n",
       "      <td>5.969285</td>\n",
       "      <td>10.265314</td>\n",
       "    </tr>\n",
       "    <tr>\n",
       "      <th>23</th>\n",
       "      <td>market_segment_Online TA</td>\n",
       "      <td>2.489689</td>\n",
       "      <td>0.734050</td>\n",
       "    </tr>\n",
       "    <tr>\n",
       "      <th>13</th>\n",
       "      <td>total_bookings</td>\n",
       "      <td>2.312993</td>\n",
       "      <td>1.940735</td>\n",
       "    </tr>\n",
       "    <tr>\n",
       "      <th>11</th>\n",
       "      <td>total_of_special_requests</td>\n",
       "      <td>2.062037</td>\n",
       "      <td>1.400850</td>\n",
       "    </tr>\n",
       "  </tbody>\n",
       "</table>\n",
       "</div>"
      ],
      "text/plain": [
       "                       Variable    xgboost  NaiveBytes\n",
       "27      deposit_type_Non Refund  66.021172    1.124217\n",
       "12                 Desired_Room   6.295655    0.018201\n",
       "10  required_car_parking_spaces   5.969285   10.265314\n",
       "23     market_segment_Online TA   2.489689    0.734050\n",
       "13               total_bookings   2.312993    1.940735\n",
       "11    total_of_special_requests   2.062037    1.400850"
      ]
     },
     "execution_count": 219,
     "metadata": {},
     "output_type": "execute_result"
    }
   ],
   "source": [
    "sorted_feature_imp.head(6)"
   ]
  },
  {
   "cell_type": "code",
   "execution_count": 220,
   "id": "5378df61",
   "metadata": {},
   "outputs": [
    {
     "data": {
      "text/html": [
       "<div>\n",
       "<style scoped>\n",
       "    .dataframe tbody tr th:only-of-type {\n",
       "        vertical-align: middle;\n",
       "    }\n",
       "\n",
       "    .dataframe tbody tr th {\n",
       "        vertical-align: top;\n",
       "    }\n",
       "\n",
       "    .dataframe thead th {\n",
       "        text-align: right;\n",
       "    }\n",
       "</style>\n",
       "<table border=\"1\" class=\"dataframe\">\n",
       "  <thead>\n",
       "    <tr style=\"text-align: right;\">\n",
       "      <th>lead_time</th>\n",
       "      <th>0</th>\n",
       "      <th>1</th>\n",
       "      <th>2</th>\n",
       "      <th>3</th>\n",
       "      <th>4</th>\n",
       "      <th>5</th>\n",
       "      <th>6</th>\n",
       "      <th>7</th>\n",
       "      <th>8</th>\n",
       "      <th>9</th>\n",
       "      <th>...</th>\n",
       "      <th>423</th>\n",
       "      <th>426</th>\n",
       "      <th>433</th>\n",
       "      <th>434</th>\n",
       "      <th>435</th>\n",
       "      <th>437</th>\n",
       "      <th>440</th>\n",
       "      <th>443</th>\n",
       "      <th>444</th>\n",
       "      <th>445</th>\n",
       "    </tr>\n",
       "    <tr>\n",
       "      <th>is_canceled</th>\n",
       "      <th></th>\n",
       "      <th></th>\n",
       "      <th></th>\n",
       "      <th></th>\n",
       "      <th></th>\n",
       "      <th></th>\n",
       "      <th></th>\n",
       "      <th></th>\n",
       "      <th></th>\n",
       "      <th></th>\n",
       "      <th></th>\n",
       "      <th></th>\n",
       "      <th></th>\n",
       "      <th></th>\n",
       "      <th></th>\n",
       "      <th></th>\n",
       "      <th></th>\n",
       "      <th></th>\n",
       "      <th></th>\n",
       "      <th></th>\n",
       "      <th></th>\n",
       "    </tr>\n",
       "  </thead>\n",
       "  <tbody>\n",
       "    <tr>\n",
       "      <th>0</th>\n",
       "      <td>5340</td>\n",
       "      <td>2944</td>\n",
       "      <td>1764</td>\n",
       "      <td>1531</td>\n",
       "      <td>1455</td>\n",
       "      <td>1277</td>\n",
       "      <td>1162</td>\n",
       "      <td>1115</td>\n",
       "      <td>885</td>\n",
       "      <td>728</td>\n",
       "      <td>...</td>\n",
       "      <td>74</td>\n",
       "      <td>0</td>\n",
       "      <td>0</td>\n",
       "      <td>21</td>\n",
       "      <td>0</td>\n",
       "      <td>0</td>\n",
       "      <td>0</td>\n",
       "      <td>0</td>\n",
       "      <td>0</td>\n",
       "      <td>3</td>\n",
       "    </tr>\n",
       "    <tr>\n",
       "      <th>1</th>\n",
       "      <td>380</td>\n",
       "      <td>299</td>\n",
       "      <td>205</td>\n",
       "      <td>167</td>\n",
       "      <td>159</td>\n",
       "      <td>198</td>\n",
       "      <td>192</td>\n",
       "      <td>159</td>\n",
       "      <td>208</td>\n",
       "      <td>206</td>\n",
       "      <td>...</td>\n",
       "      <td>34</td>\n",
       "      <td>32</td>\n",
       "      <td>52</td>\n",
       "      <td>4</td>\n",
       "      <td>1</td>\n",
       "      <td>40</td>\n",
       "      <td>32</td>\n",
       "      <td>22</td>\n",
       "      <td>40</td>\n",
       "      <td>0</td>\n",
       "    </tr>\n",
       "  </tbody>\n",
       "</table>\n",
       "<p>2 rows × 415 columns</p>\n",
       "</div>"
      ],
      "text/plain": [
       "lead_time     0     1     2     3     4     5     6     7    8    9    ...  \\\n",
       "is_canceled                                                            ...   \n",
       "0            5340  2944  1764  1531  1455  1277  1162  1115  885  728  ...   \n",
       "1             380   299   205   167   159   198   192   159  208  206  ...   \n",
       "\n",
       "lead_time    423  426  433  434  435  437  440  443  444  445  \n",
       "is_canceled                                                    \n",
       "0             74    0    0   21    0    0    0    0    0    3  \n",
       "1             34   32   52    4    1   40   32   22   40    0  \n",
       "\n",
       "[2 rows x 415 columns]"
      ]
     },
     "execution_count": 220,
     "metadata": {},
     "output_type": "execute_result"
    }
   ],
   "source": [
    "lt=pd.crosstab(df_stat[\"is_canceled\"],df_stat[\"lead_time\"])\n",
    "lt"
   ]
  },
  {
   "cell_type": "code",
   "execution_count": 221,
   "id": "13cb22b9",
   "metadata": {},
   "outputs": [
    {
     "data": {
      "text/plain": [
       "Int64Index([  0,   1,   2,   3,   4,   5,   6,   7,   8,   9,\n",
       "            ...\n",
       "            423, 426, 433, 434, 435, 437, 440, 443, 444, 445],\n",
       "           dtype='int64', name='lead_time', length=415)"
      ]
     },
     "execution_count": 221,
     "metadata": {},
     "output_type": "execute_result"
    }
   ],
   "source": [
    "x1 = lt.columns\n",
    "x1"
   ]
  },
  {
   "cell_type": "code",
   "execution_count": 222,
   "id": "c5531687",
   "metadata": {},
   "outputs": [
    {
     "data": {
      "text/plain": [
       "lead_time\n",
       "0     -4960\n",
       "1     -2645\n",
       "2     -1559\n",
       "3     -1364\n",
       "4     -1296\n",
       "       ... \n",
       "437      40\n",
       "440      32\n",
       "443      22\n",
       "444      40\n",
       "445      -3\n",
       "Length: 415, dtype: int64"
      ]
     },
     "execution_count": 222,
     "metadata": {},
     "output_type": "execute_result"
    }
   ],
   "source": [
    "y1=lt.loc[1]-lt.loc[0]\n",
    "y1"
   ]
  },
  {
   "cell_type": "code",
   "execution_count": 223,
   "id": "4882d3e2",
   "metadata": {},
   "outputs": [
    {
     "data": {
      "text/plain": [
       "Text(0.5, 0, 'difference:lead time(is_canceled(1)-is_canceled(0)) & difference>0')"
      ]
     },
     "execution_count": 223,
     "metadata": {},
     "output_type": "execute_result"
    },
    {
     "data": {
      "image/png": "[encoded data removed]",
      "text/plain": [
       "<Figure size 432x288 with 1 Axes>"
      ]
     },
     "metadata": {
      "needs_background": "light"
     },
     "output_type": "display_data"
    }
   ],
   "source": [
    "plt.ylim(0, 150)\n",
    "plt.bar(x1,y1)\n",
    "plt.xlabel('difference:lead time(is_canceled(1)-is_canceled(0)) & difference>0')"
   ]
  },
  {
   "cell_type": "code",
   "execution_count": 234,
   "id": "137a4824",
   "metadata": {},
   "outputs": [
    {
     "data": {
      "image/png": "[encoded data removed]",
      "text/plain": [
       "<Figure size 432x288 with 1 Axes>"
      ]
     },
     "metadata": {
      "needs_background": "light"
     },
     "output_type": "display_data"
    }
   ],
   "source": [
    "sns.countplot(df_stat[\"lead_time\"], hue=df_stat[\"is_canceled\"])\n",
    "plt.show()"
   ]
  },
  {
   "cell_type": "code",
   "execution_count": 225,
   "id": "f8ddee67",
   "metadata": {},
   "outputs": [
    {
     "data": {
      "text/html": [
       "<div>\n",
       "<style scoped>\n",
       "    .dataframe tbody tr th:only-of-type {\n",
       "        vertical-align: middle;\n",
       "    }\n",
       "\n",
       "    .dataframe tbody tr th {\n",
       "        vertical-align: top;\n",
       "    }\n",
       "\n",
       "    .dataframe thead th {\n",
       "        text-align: right;\n",
       "    }\n",
       "</style>\n",
       "<table border=\"1\" class=\"dataframe\">\n",
       "  <thead>\n",
       "    <tr style=\"text-align: right;\">\n",
       "      <th>deposit_type</th>\n",
       "      <th>No Deposit</th>\n",
       "      <th>Non Refund</th>\n",
       "      <th>Refundable</th>\n",
       "    </tr>\n",
       "    <tr>\n",
       "      <th>is_canceled</th>\n",
       "      <th></th>\n",
       "      <th></th>\n",
       "      <th></th>\n",
       "    </tr>\n",
       "  </thead>\n",
       "  <tbody>\n",
       "    <tr>\n",
       "      <th>0</th>\n",
       "      <td>69532</td>\n",
       "      <td>93</td>\n",
       "      <td>116</td>\n",
       "    </tr>\n",
       "    <tr>\n",
       "      <th>1</th>\n",
       "      <td>27697</td>\n",
       "      <td>13297</td>\n",
       "      <td>31</td>\n",
       "    </tr>\n",
       "  </tbody>\n",
       "</table>\n",
       "</div>"
      ],
      "text/plain": [
       "deposit_type  No Deposit  Non Refund  Refundable\n",
       "is_canceled                                     \n",
       "0                  69532          93         116\n",
       "1                  27697       13297          31"
      ]
     },
     "execution_count": 225,
     "metadata": {},
     "output_type": "execute_result"
    }
   ],
   "source": [
    "pd.crosstab(df_stat[\"is_canceled\"],df_stat[\"deposit_type\"])"
   ]
  },
  {
   "cell_type": "code",
   "execution_count": 226,
   "id": "05bfc836",
   "metadata": {},
   "outputs": [
    {
     "data": {
      "image/png": "[encoded data removed]",
      "text/plain": [
       "<Figure size 432x288 with 1 Axes>"
      ]
     },
     "metadata": {
      "needs_background": "light"
     },
     "output_type": "display_data"
    }
   ],
   "source": [
    "sns.countplot(df_stat[\"deposit_type\"], hue=df_stat[\"is_canceled\"])\n",
    "plt.show()"
   ]
  },
  {
   "cell_type": "code",
   "execution_count": 227,
   "id": "3538988f",
   "metadata": {},
   "outputs": [
    {
     "data": {
      "text/html": [
       "<div>\n",
       "<style scoped>\n",
       "    .dataframe tbody tr th:only-of-type {\n",
       "        vertical-align: middle;\n",
       "    }\n",
       "\n",
       "    .dataframe tbody tr th {\n",
       "        vertical-align: top;\n",
       "    }\n",
       "\n",
       "    .dataframe thead th {\n",
       "        text-align: right;\n",
       "    }\n",
       "</style>\n",
       "<table border=\"1\" class=\"dataframe\">\n",
       "  <thead>\n",
       "    <tr style=\"text-align: right;\">\n",
       "      <th>required_car_parking_spaces</th>\n",
       "      <th>0</th>\n",
       "      <th>1</th>\n",
       "      <th>2</th>\n",
       "      <th>3</th>\n",
       "      <th>8</th>\n",
       "    </tr>\n",
       "    <tr>\n",
       "      <th>is_canceled</th>\n",
       "      <th></th>\n",
       "      <th></th>\n",
       "      <th></th>\n",
       "      <th></th>\n",
       "      <th></th>\n",
       "    </tr>\n",
       "  </thead>\n",
       "  <tbody>\n",
       "    <tr>\n",
       "      <th>0</th>\n",
       "      <td>62821</td>\n",
       "      <td>6893</td>\n",
       "      <td>24</td>\n",
       "      <td>2</td>\n",
       "      <td>1</td>\n",
       "    </tr>\n",
       "    <tr>\n",
       "      <th>1</th>\n",
       "      <td>41025</td>\n",
       "      <td>0</td>\n",
       "      <td>0</td>\n",
       "      <td>0</td>\n",
       "      <td>0</td>\n",
       "    </tr>\n",
       "  </tbody>\n",
       "</table>\n",
       "</div>"
      ],
      "text/plain": [
       "required_car_parking_spaces      0     1   2  3  8\n",
       "is_canceled                                       \n",
       "0                            62821  6893  24  2  1\n",
       "1                            41025     0   0  0  0"
      ]
     },
     "execution_count": 227,
     "metadata": {},
     "output_type": "execute_result"
    }
   ],
   "source": [
    "pd.crosstab(df_stat[\"is_canceled\"],df_stat[\"required_car_parking_spaces\"])"
   ]
  },
  {
   "cell_type": "code",
   "execution_count": 228,
   "id": "3ac581c5",
   "metadata": {},
   "outputs": [
    {
     "data": {
      "text/html": [
       "<div>\n",
       "<style scoped>\n",
       "    .dataframe tbody tr th:only-of-type {\n",
       "        vertical-align: middle;\n",
       "    }\n",
       "\n",
       "    .dataframe tbody tr th {\n",
       "        vertical-align: top;\n",
       "    }\n",
       "\n",
       "    .dataframe thead th {\n",
       "        text-align: right;\n",
       "    }\n",
       "</style>\n",
       "<table border=\"1\" class=\"dataframe\">\n",
       "  <thead>\n",
       "    <tr style=\"text-align: right;\">\n",
       "      <th>Desired_Room</th>\n",
       "      <th>0</th>\n",
       "      <th>1</th>\n",
       "    </tr>\n",
       "    <tr>\n",
       "      <th>is_canceled</th>\n",
       "      <th></th>\n",
       "      <th></th>\n",
       "    </tr>\n",
       "  </thead>\n",
       "  <tbody>\n",
       "    <tr>\n",
       "      <th>0</th>\n",
       "      <td>12932</td>\n",
       "      <td>56809</td>\n",
       "    </tr>\n",
       "    <tr>\n",
       "      <th>1</th>\n",
       "      <td>724</td>\n",
       "      <td>40301</td>\n",
       "    </tr>\n",
       "  </tbody>\n",
       "</table>\n",
       "</div>"
      ],
      "text/plain": [
       "Desired_Room      0      1\n",
       "is_canceled               \n",
       "0             12932  56809\n",
       "1               724  40301"
      ]
     },
     "execution_count": 228,
     "metadata": {},
     "output_type": "execute_result"
    }
   ],
   "source": [
    "pd.crosstab(df_stat[\"is_canceled\"],df_stat[\"Desired_Room\"])"
   ]
  },
  {
   "cell_type": "code",
   "execution_count": 229,
   "id": "37da05e1",
   "metadata": {},
   "outputs": [
    {
     "data": {
      "text/html": [
       "<div>\n",
       "<style scoped>\n",
       "    .dataframe tbody tr th:only-of-type {\n",
       "        vertical-align: middle;\n",
       "    }\n",
       "\n",
       "    .dataframe tbody tr th {\n",
       "        vertical-align: top;\n",
       "    }\n",
       "\n",
       "    .dataframe thead th {\n",
       "        text-align: right;\n",
       "    }\n",
       "</style>\n",
       "<table border=\"1\" class=\"dataframe\">\n",
       "  <thead>\n",
       "    <tr style=\"text-align: right;\">\n",
       "      <th>is_repeated_guest</th>\n",
       "      <th>0</th>\n",
       "      <th>1</th>\n",
       "    </tr>\n",
       "    <tr>\n",
       "      <th>is_canceled</th>\n",
       "      <th></th>\n",
       "      <th></th>\n",
       "    </tr>\n",
       "  </thead>\n",
       "  <tbody>\n",
       "    <tr>\n",
       "      <th>0</th>\n",
       "      <td>67976</td>\n",
       "      <td>1765</td>\n",
       "    </tr>\n",
       "    <tr>\n",
       "      <th>1</th>\n",
       "      <td>40918</td>\n",
       "      <td>107</td>\n",
       "    </tr>\n",
       "  </tbody>\n",
       "</table>\n",
       "</div>"
      ],
      "text/plain": [
       "is_repeated_guest      0     1\n",
       "is_canceled                   \n",
       "0                  67976  1765\n",
       "1                  40918   107"
      ]
     },
     "execution_count": 229,
     "metadata": {},
     "output_type": "execute_result"
    }
   ],
   "source": [
    "pd.crosstab(df_stat[\"is_canceled\"],df_stat[\"is_repeated_guest\"])"
   ]
  },
  {
   "cell_type": "code",
   "execution_count": 230,
   "id": "453668c7",
   "metadata": {},
   "outputs": [
    {
     "data": {
      "text/html": [
       "<div>\n",
       "<style scoped>\n",
       "    .dataframe tbody tr th:only-of-type {\n",
       "        vertical-align: middle;\n",
       "    }\n",
       "\n",
       "    .dataframe tbody tr th {\n",
       "        vertical-align: top;\n",
       "    }\n",
       "\n",
       "    .dataframe thead th {\n",
       "        text-align: right;\n",
       "    }\n",
       "</style>\n",
       "<table border=\"1\" class=\"dataframe\">\n",
       "  <thead>\n",
       "    <tr style=\"text-align: right;\">\n",
       "      <th>total_bookings</th>\n",
       "      <th>0</th>\n",
       "      <th>1</th>\n",
       "      <th>2</th>\n",
       "      <th>3</th>\n",
       "      <th>4</th>\n",
       "      <th>5</th>\n",
       "      <th>6</th>\n",
       "      <th>7</th>\n",
       "      <th>8</th>\n",
       "      <th>9</th>\n",
       "      <th>...</th>\n",
       "      <th>69</th>\n",
       "      <th>70</th>\n",
       "      <th>71</th>\n",
       "      <th>72</th>\n",
       "      <th>73</th>\n",
       "      <th>74</th>\n",
       "      <th>75</th>\n",
       "      <th>76</th>\n",
       "      <th>77</th>\n",
       "      <th>78</th>\n",
       "    </tr>\n",
       "    <tr>\n",
       "      <th>is_canceled</th>\n",
       "      <th></th>\n",
       "      <th></th>\n",
       "      <th></th>\n",
       "      <th></th>\n",
       "      <th></th>\n",
       "      <th></th>\n",
       "      <th></th>\n",
       "      <th></th>\n",
       "      <th></th>\n",
       "      <th></th>\n",
       "      <th></th>\n",
       "      <th></th>\n",
       "      <th></th>\n",
       "      <th></th>\n",
       "      <th></th>\n",
       "      <th></th>\n",
       "      <th></th>\n",
       "      <th></th>\n",
       "      <th></th>\n",
       "      <th></th>\n",
       "      <th></th>\n",
       "    </tr>\n",
       "  </thead>\n",
       "  <tbody>\n",
       "    <tr>\n",
       "      <th>0</th>\n",
       "      <td>66645</td>\n",
       "      <td>1297</td>\n",
       "      <td>500</td>\n",
       "      <td>284</td>\n",
       "      <td>199</td>\n",
       "      <td>148</td>\n",
       "      <td>104</td>\n",
       "      <td>78</td>\n",
       "      <td>64</td>\n",
       "      <td>56</td>\n",
       "      <td>...</td>\n",
       "      <td>1</td>\n",
       "      <td>1</td>\n",
       "      <td>1</td>\n",
       "      <td>1</td>\n",
       "      <td>1</td>\n",
       "      <td>1</td>\n",
       "      <td>1</td>\n",
       "      <td>1</td>\n",
       "      <td>1</td>\n",
       "      <td>1</td>\n",
       "    </tr>\n",
       "    <tr>\n",
       "      <th>1</th>\n",
       "      <td>35140</td>\n",
       "      <td>5568</td>\n",
       "      <td>58</td>\n",
       "      <td>27</td>\n",
       "      <td>15</td>\n",
       "      <td>11</td>\n",
       "      <td>16</td>\n",
       "      <td>6</td>\n",
       "      <td>2</td>\n",
       "      <td>2</td>\n",
       "      <td>...</td>\n",
       "      <td>0</td>\n",
       "      <td>0</td>\n",
       "      <td>0</td>\n",
       "      <td>0</td>\n",
       "      <td>0</td>\n",
       "      <td>0</td>\n",
       "      <td>0</td>\n",
       "      <td>0</td>\n",
       "      <td>0</td>\n",
       "      <td>0</td>\n",
       "    </tr>\n",
       "  </tbody>\n",
       "</table>\n",
       "<p>2 rows × 76 columns</p>\n",
       "</div>"
      ],
      "text/plain": [
       "total_bookings     0     1    2    3    4    5    6   7   8   9   ...  69  70  \\\n",
       "is_canceled                                                       ...           \n",
       "0               66645  1297  500  284  199  148  104  78  64  56  ...   1   1   \n",
       "1               35140  5568   58   27   15   11   16   6   2   2  ...   0   0   \n",
       "\n",
       "total_bookings  71  72  73  74  75  76  77  78  \n",
       "is_canceled                                     \n",
       "0                1   1   1   1   1   1   1   1  \n",
       "1                0   0   0   0   0   0   0   0  \n",
       "\n",
       "[2 rows x 76 columns]"
      ]
     },
     "execution_count": 230,
     "metadata": {},
     "output_type": "execute_result"
    }
   ],
   "source": [
    "lt2=pd.crosstab(df_stat[\"is_canceled\"],df_stat[\"total_bookings\"])\n",
    "lt2"
   ]
  },
  {
   "cell_type": "code",
   "execution_count": 231,
   "id": "eec125dd",
   "metadata": {},
   "outputs": [
    {
     "data": {
      "image/png": "[encoded data removed]",
      "text/plain": [
       "<Figure size 432x288 with 1 Axes>"
      ]
     },
     "metadata": {
      "needs_background": "light"
     },
     "output_type": "display_data"
    }
   ],
   "source": [
    "sns.countplot(df_stat[\"total_bookings\"], hue=df_stat[\"is_canceled\"])\n",
    "plt.ylim(0,500)\n",
    "plt.show()"
   ]
  }
 ],
 "metadata": {
  "kernelspec": {
   "display_name": "Python 3 (ipykernel)",
   "language": "python",
   "name": "python3"
  },
  "language_info": {
   "codemirror_mode": {
    "name": "ipython",
    "version": 3
   },
   "file_extension": ".py",
   "mimetype": "text/x-python",
   "name": "python",
   "nbconvert_exporter": "python",
   "pygments_lexer": "ipython3",
   "version": "3.9.12"
  },
  "widgets": {
   "application/vnd.jupyter.widget-state+json": {
    "state": {},
    "version_major": 2,
    "version_minor": 0
   }
  }
 },
 "nbformat": 4,
 "nbformat_minor": 5
}
